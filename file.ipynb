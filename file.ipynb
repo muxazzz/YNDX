{
 "cells": [
  {
   "cell_type": "markdown",
   "metadata": {},
   "source": [
    "В рамках исследования необходимо разработать решение, которое позволит персонализировать предложения постоянным клиентам, чтобы увеличить их покупательскую активность. \n",
    "\n",
    "Цель исследования заключается в анализе факторов, влияющих на покупательскую активность, и построении модели для прогнозирования вероятности снижения целевой переменной.\n",
    "\n",
    "---\n",
    "\n",
    "## Главные задачи:\n",
    "1. **Сбор и подготовка данных**:\n",
    "    - Загрузка данных из различных источников.\n",
    "    - Изучение структуры данных, проверка на пропуски и дубликаты.\n",
    "    - Преобразование данных в удобный для анализа формат.\n",
    "\n",
    "2. **Анализ данных**:\n",
    "    - Исследование распределения числовых и категориальных признаков.\n",
    "    - Выявление выбросов и их обработка.\n",
    "    - Анализ взаимосвязей между признаками и целевой переменной.\n",
    "\n",
    "3. **Построение моделей**:\n",
    "    - Разделение данных на обучающую и тестовую выборки.\n",
    "    - Построение и обучение моделей.\n",
    "    - Оптимизация моделей за счет изменения гиперпараметров.\n",
    "\n",
    "4. **Оценка качества моделей**:\n",
    "    - Расчет метрик качества.\n",
    "\n",
    "5. **Сегментация**:\n",
    "    - Применение модели для предсказания покупательской активности и выработке стратегию по ее увеличению.\n",
    "    - Интерпретация результатов и выводы."
   ]
  },
  {
   "cell_type": "markdown",
   "metadata": {},
   "source": [
    "## Шаг 1. Загрузка данных"
   ]
  },
  {
   "cell_type": "code",
   "execution_count": 1,
   "metadata": {},
   "outputs": [
    {
     "name": "stdout",
     "output_type": "stream",
     "text": [
      "Note: you may need to restart the kernel to use updated packages.\n"
     ]
    }
   ],
   "source": [
    "pip install phik -q"
   ]
  },
  {
   "cell_type": "code",
   "execution_count": 2,
   "metadata": {},
   "outputs": [
    {
     "name": "stdout",
     "output_type": "stream",
     "text": [
      "Note: you may need to restart the kernel to use updated packages.\n"
     ]
    }
   ],
   "source": [
    "pip install shap -q"
   ]
  },
  {
   "cell_type": "code",
   "execution_count": 66,
   "metadata": {
    "id": "H6cQIZr3ElW1"
   },
   "outputs": [],
   "source": [
    "import pandas as pd\n",
    "import numpy as np\n",
    "import seaborn as sns\n",
    "import matplotlib.pyplot as plt\n",
    "import phik\n",
    "import math\n",
    "from phik.report import plot_correlation_matrix\n",
    "from sklearn.model_selection import train_test_split\n",
    "from sklearn.linear_model import LinearRegression, LogisticRegression\n",
    "from sklearn.neighbors import KNeighborsClassifier\n",
    "from sklearn.tree import DecisionTreeClassifier\n",
    "from sklearn.model_selection import RandomizedSearchCV, cross_val_score, KFold\n",
    "from sklearn.metrics import make_scorer, f1_score, precision_score, recall_score, roc_auc_score\n",
    "from sklearn.svm import SVC  # добавляем импорт SVC\n",
    "\n",
    "\n",
    "import shap\n",
    "\n",
    "from sklearn.pipeline import Pipeline\n",
    "from sklearn.compose import ColumnTransformer\n",
    "\n",
    "from sklearn.preprocessing import OneHotEncoder, StandardScaler, MinMaxScaler, LabelEncoder, OrdinalEncoder\n",
    "\n",
    "\n",
    "from sklearn.impute import SimpleImputer "
   ]
  },
  {
   "cell_type": "code",
   "execution_count": 4,
   "metadata": {},
   "outputs": [],
   "source": [
    "#загружаем данные\n",
    "market_file = pd.read_csv('/datasets/market_file.csv')\n",
    "money = pd.read_csv('/datasets/money.csv', sep=';')\n",
    "market_time = pd.read_csv('/datasets/market_time.csv')\n",
    "market_money = pd.read_csv('/datasets/market_money.csv')\n",
    "\n",
    "\n",
    "dfs = {'market_time': market_time, 'money': money, 'market_money': market_money, 'market_file': market_file}"
   ]
  },
  {
   "cell_type": "code",
   "execution_count": 5,
   "metadata": {},
   "outputs": [
    {
     "name": "stdout",
     "output_type": "stream",
     "text": [
      "DataFrame market_time:\n",
      "market_time.head():\n",
      "       id            Период  минут\n",
      "0  215348     текущий_месяц     14\n",
      "1  215348  предыдцщий_месяц     13\n",
      "2  215349     текущий_месяц     10\n",
      "3  215349  предыдцщий_месяц     12\n",
      "4  215350     текущий_месяц     13\n",
      "<class 'pandas.core.frame.DataFrame'>\n",
      "RangeIndex: 2600 entries, 0 to 2599\n",
      "Data columns (total 3 columns):\n",
      " #   Column  Non-Null Count  Dtype \n",
      "---  ------  --------------  ----- \n",
      " 0   id      2600 non-null   int64 \n",
      " 1   Период  2600 non-null   object\n",
      " 2   минут   2600 non-null   int64 \n",
      "dtypes: int64(2), object(1)\n",
      "memory usage: 61.1+ KB\n",
      "market_time.info():\n",
      "None\n",
      "\n",
      "\n",
      "\n",
      "\n",
      "DataFrame money:\n",
      "money.head():\n",
      "       id Прибыль\n",
      "0  215348    0,98\n",
      "1  215349    4,16\n",
      "2  215350    3,13\n",
      "3  215351    4,87\n",
      "4  215352    4,21\n",
      "<class 'pandas.core.frame.DataFrame'>\n",
      "RangeIndex: 1300 entries, 0 to 1299\n",
      "Data columns (total 2 columns):\n",
      " #   Column   Non-Null Count  Dtype \n",
      "---  ------   --------------  ----- \n",
      " 0   id       1300 non-null   int64 \n",
      " 1   Прибыль  1300 non-null   object\n",
      "dtypes: int64(1), object(1)\n",
      "memory usage: 20.4+ KB\n",
      "money.info():\n",
      "None\n",
      "\n",
      "\n",
      "\n",
      "\n",
      "DataFrame market_money:\n",
      "market_money.head():\n",
      "       id               Период  Выручка\n",
      "0  215348  препредыдущий_месяц      0.0\n",
      "1  215348        текущий_месяц   3293.1\n",
      "2  215348     предыдущий_месяц      0.0\n",
      "3  215349  препредыдущий_месяц   4472.0\n",
      "4  215349        текущий_месяц   4971.6\n",
      "<class 'pandas.core.frame.DataFrame'>\n",
      "RangeIndex: 3900 entries, 0 to 3899\n",
      "Data columns (total 3 columns):\n",
      " #   Column   Non-Null Count  Dtype  \n",
      "---  ------   --------------  -----  \n",
      " 0   id       3900 non-null   int64  \n",
      " 1   Период   3900 non-null   object \n",
      " 2   Выручка  3900 non-null   float64\n",
      "dtypes: float64(1), int64(1), object(1)\n",
      "memory usage: 91.5+ KB\n",
      "market_money.info():\n",
      "None\n",
      "\n",
      "\n",
      "\n",
      "\n",
      "DataFrame market_file:\n",
      "market_file.head():\n",
      "       id Покупательская активность Тип сервиса Разрешить сообщать  \\\n",
      "0  215348                 Снизилась     премиум                 да   \n",
      "1  215349                 Снизилась     премиум                 да   \n",
      "2  215350                 Снизилась   стандартт                нет   \n",
      "3  215351                 Снизилась   стандартт                 да   \n",
      "4  215352                 Снизилась   стандартт                нет   \n",
      "\n",
      "   Маркет_актив_6_мес  Маркет_актив_тек_мес  Длительность  Акционные_покупки  \\\n",
      "0                 3.4                     5           121               0.00   \n",
      "1                 4.4                     4           819               0.75   \n",
      "2                 4.9                     3           539               0.14   \n",
      "3                 3.2                     5           896               0.99   \n",
      "4                 5.1                     3          1064               0.94   \n",
      "\n",
      "  Популярная_категория  Средний_просмотр_категорий_за_визит  \\\n",
      "0     Товары для детей                                    6   \n",
      "1     Товары для детей                                    4   \n",
      "2    Домашний текстиль                                    5   \n",
      "3     Товары для детей                                    5   \n",
      "4     Товары для детей                                    3   \n",
      "\n",
      "   Неоплаченные_продукты_штук_квартал  Ошибка_сервиса  Страниц_за_визит  \n",
      "0                                   2               1                 5  \n",
      "1                                   4               2                 5  \n",
      "2                                   2               1                 5  \n",
      "3                                   0               6                 4  \n",
      "4                                   2               3                 2  \n",
      "<class 'pandas.core.frame.DataFrame'>\n",
      "RangeIndex: 1300 entries, 0 to 1299\n",
      "Data columns (total 13 columns):\n",
      " #   Column                               Non-Null Count  Dtype  \n",
      "---  ------                               --------------  -----  \n",
      " 0   id                                   1300 non-null   int64  \n",
      " 1   Покупательская активность            1300 non-null   object \n",
      " 2   Тип сервиса                          1300 non-null   object \n",
      " 3   Разрешить сообщать                   1300 non-null   object \n",
      " 4   Маркет_актив_6_мес                   1300 non-null   float64\n",
      " 5   Маркет_актив_тек_мес                 1300 non-null   int64  \n",
      " 6   Длительность                         1300 non-null   int64  \n",
      " 7   Акционные_покупки                    1300 non-null   float64\n",
      " 8   Популярная_категория                 1300 non-null   object \n",
      " 9   Средний_просмотр_категорий_за_визит  1300 non-null   int64  \n",
      " 10  Неоплаченные_продукты_штук_квартал   1300 non-null   int64  \n",
      " 11  Ошибка_сервиса                       1300 non-null   int64  \n",
      " 12  Страниц_за_визит                     1300 non-null   int64  \n",
      "dtypes: float64(2), int64(7), object(4)\n",
      "memory usage: 132.2+ KB\n",
      "market_file.info():\n",
      "None\n",
      "\n",
      "\n",
      "\n",
      "\n"
     ]
    }
   ],
   "source": [
    "#изучим информацию о данных\n",
    "\n",
    "for name, df in dfs.items():\n",
    "    print(f\"DataFrame {name}:\")\n",
    "    print(f\"{name}.head():\\n{df.head()}\", end='\\n')\n",
    "    print(f\"{name}.info():\\n{df.info()}\", end='\\n'*5)"
   ]
  },
  {
   "cell_type": "markdown",
   "metadata": {},
   "source": [
    "### Выводы\n",
    "\n",
    "1. **Импорт библиотек**:\n",
    "    - Импортированы библиотеки для работы с данными (`pandas`, `numpy`), визуализации (`seaborn`), машинного обучения (`sklearn`) и другие.\n",
    "    - Это обеспечивает полный набор инструментов для обработки данных, анализа, построения моделей и оценки их качества.\n",
    "\n",
    "2. **Загрузка данных**:\n",
    "    - Загружены 4 набора данных:\n",
    "    - Данные успешно считаны из CSV-файлов с использованием разделителя `;`.\n",
    "\n",
    "3. **Первичный анализ данных**:\n",
    "    - Изучена структура данных с помощью методов `.head()` и `.info()`.\n",
    "    - Выявлено, что все три набора данных содержат только ненулевые значения, пропуски отсутствуют.\n"
   ]
  },
  {
   "cell_type": "markdown",
   "metadata": {},
   "source": [
    "## Шаг 2. Предобработка данных"
   ]
  },
  {
   "cell_type": "code",
   "execution_count": 6,
   "metadata": {},
   "outputs": [
    {
     "data": {
      "text/html": [
       "<div>\n",
       "<style scoped>\n",
       "    .dataframe tbody tr th:only-of-type {\n",
       "        vertical-align: middle;\n",
       "    }\n",
       "\n",
       "    .dataframe tbody tr th {\n",
       "        vertical-align: top;\n",
       "    }\n",
       "\n",
       "    .dataframe thead th {\n",
       "        text-align: right;\n",
       "    }\n",
       "</style>\n",
       "<table border=\"1\" class=\"dataframe\">\n",
       "  <thead>\n",
       "    <tr style=\"text-align: right;\">\n",
       "      <th></th>\n",
       "      <th>id</th>\n",
       "      <th>Прибыль</th>\n",
       "    </tr>\n",
       "  </thead>\n",
       "  <tbody>\n",
       "    <tr>\n",
       "      <th>0</th>\n",
       "      <td>215348</td>\n",
       "      <td>0.98</td>\n",
       "    </tr>\n",
       "    <tr>\n",
       "      <th>1</th>\n",
       "      <td>215349</td>\n",
       "      <td>4.16</td>\n",
       "    </tr>\n",
       "    <tr>\n",
       "      <th>2</th>\n",
       "      <td>215350</td>\n",
       "      <td>3.13</td>\n",
       "    </tr>\n",
       "    <tr>\n",
       "      <th>3</th>\n",
       "      <td>215351</td>\n",
       "      <td>4.87</td>\n",
       "    </tr>\n",
       "    <tr>\n",
       "      <th>4</th>\n",
       "      <td>215352</td>\n",
       "      <td>4.21</td>\n",
       "    </tr>\n",
       "  </tbody>\n",
       "</table>\n",
       "</div>"
      ],
      "text/plain": [
       "       id  Прибыль\n",
       "0  215348     0.98\n",
       "1  215349     4.16\n",
       "2  215350     3.13\n",
       "3  215351     4.87\n",
       "4  215352     4.21"
      ]
     },
     "execution_count": 6,
     "metadata": {},
     "output_type": "execute_result"
    }
   ],
   "source": [
    "#заменим разделитель\n",
    "money['Прибыль'] = money['Прибыль'].str.replace(',', '.').astype(float)\n",
    "money.head()"
   ]
  },
  {
   "cell_type": "code",
   "execution_count": 7,
   "metadata": {},
   "outputs": [],
   "source": [
    "def preprocess_data(df):\n",
    "    \"\"\"\n",
    "    Функция для базовой предобработки данных\n",
    "    \n",
    "    Параметры:\n",
    "    df (pandas.DataFrame): Входной датафрейм\n",
    "    \n",
    "    Возвращает:\n",
    "    pandas.DataFrame: Предобработанный датафрейм\n",
    "    \"\"\"\n",
    "    # Создаем копию датафрейма\n",
    "    df_processed = df.copy()\n",
    "    \n",
    "    # 1. Заменим названия столбцов на snake_case\n",
    "    for col in df_processed.columns:\n",
    "        df_processed.rename(columns={col: col.strip().replace(' ',\"_\")}, inplace=True)\n",
    "    \n",
    "    # 2. Обработка пропущенных значений\n",
    "    # Удаление строк, где все значения отсутствуют\n",
    "    df_processed.dropna(how='all', inplace=True)\n",
    "    \n",
    "    # 3. Приведение названий колонок к нижнему регистру\n",
    "    df_processed.columns = df_processed.columns.str.lower()\n",
    "    \n",
    "    # 4. Изучаем количественные переменные\n",
    "    numeric_columns = df_processed.select_dtypes(include=['int64', 'float64']).columns\n",
    "    for col in numeric_columns:\n",
    "        count_NA_num = df_processed[col].isna().sum()\n",
    "        print(f\"Количество пропусков в колонке {col}: {count_NA_num} \\n\")\n",
    "        \n",
    "    # 5. Изучаем категориальные значения\n",
    "    categorical_columns = df_processed.select_dtypes(include=['object']).columns\n",
    "    for col in categorical_columns:\n",
    "        count_NA_cat = df_processed[col].isna().sum()\n",
    "        print(f\"Количество пропусков в колонке {col}: {count_NA_num}\")\n",
    "        print(f\"Уникальные значения {col}: {df_processed[col].unique()} \\n\")\n",
    "    \n",
    "    # 6. Удаление дубликатов\n",
    "    df_processed.drop_duplicates(inplace=True)\n",
    "    \n",
    "    \n",
    "    # 7. Удаление пробелов в строковых значениях\n",
    "    for col in categorical_columns:\n",
    "        df_processed[col] = df_processed[col].str.strip()\n",
    "    \n",
    "    return df_processed"
   ]
  },
  {
   "cell_type": "code",
   "execution_count": 8,
   "metadata": {
    "scrolled": true
   },
   "outputs": [
    {
     "name": "stdout",
     "output_type": "stream",
     "text": [
      "Количество пропусков в колонке id: 0 \n",
      "\n",
      "Количество пропусков в колонке минут: 0 \n",
      "\n",
      "Количество пропусков в колонке период: 0\n",
      "Уникальные значения период: ['текущий_месяц' 'предыдцщий_месяц'] \n",
      "\n"
     ]
    }
   ],
   "source": [
    "market_time_processed = preprocess_data(market_time)"
   ]
  },
  {
   "cell_type": "code",
   "execution_count": 9,
   "metadata": {},
   "outputs": [
    {
     "name": "stdout",
     "output_type": "stream",
     "text": [
      "Количество пропусков в колонке id: 0 \n",
      "\n",
      "Количество пропусков в колонке маркет_актив_6_мес: 0 \n",
      "\n",
      "Количество пропусков в колонке маркет_актив_тек_мес: 0 \n",
      "\n",
      "Количество пропусков в колонке длительность: 0 \n",
      "\n",
      "Количество пропусков в колонке акционные_покупки: 0 \n",
      "\n",
      "Количество пропусков в колонке средний_просмотр_категорий_за_визит: 0 \n",
      "\n",
      "Количество пропусков в колонке неоплаченные_продукты_штук_квартал: 0 \n",
      "\n",
      "Количество пропусков в колонке ошибка_сервиса: 0 \n",
      "\n",
      "Количество пропусков в колонке страниц_за_визит: 0 \n",
      "\n",
      "Количество пропусков в колонке покупательская_активность: 0\n",
      "Уникальные значения покупательская_активность: ['Снизилась' 'Прежний уровень'] \n",
      "\n",
      "Количество пропусков в колонке тип_сервиса: 0\n",
      "Уникальные значения тип_сервиса: ['премиум' 'стандартт' 'стандарт'] \n",
      "\n",
      "Количество пропусков в колонке разрешить_сообщать: 0\n",
      "Уникальные значения разрешить_сообщать: ['да' 'нет'] \n",
      "\n",
      "Количество пропусков в колонке популярная_категория: 0\n",
      "Уникальные значения популярная_категория: ['Товары для детей' 'Домашний текстиль' 'Косметика и аксесуары'\n",
      " 'Техника для красоты и здоровья' 'Кухонная посуда'\n",
      " 'Мелкая бытовая техника и электроника'] \n",
      "\n"
     ]
    }
   ],
   "source": [
    "market_file_processed = preprocess_data(market_file)"
   ]
  },
  {
   "cell_type": "code",
   "execution_count": 10,
   "metadata": {},
   "outputs": [
    {
     "name": "stdout",
     "output_type": "stream",
     "text": [
      "Количество пропусков в колонке id: 0 \n",
      "\n",
      "Количество пропусков в колонке выручка: 0 \n",
      "\n",
      "Количество пропусков в колонке период: 0\n",
      "Уникальные значения период: ['препредыдущий_месяц' 'текущий_месяц' 'предыдущий_месяц'] \n",
      "\n"
     ]
    }
   ],
   "source": [
    "market_money_processed = preprocess_data(market_money)"
   ]
  },
  {
   "cell_type": "code",
   "execution_count": 11,
   "metadata": {},
   "outputs": [
    {
     "name": "stdout",
     "output_type": "stream",
     "text": [
      "Количество пропусков в колонке id: 0 \n",
      "\n",
      "Количество пропусков в колонке прибыль: 0 \n",
      "\n"
     ]
    }
   ],
   "source": [
    "money_processed = preprocess_data(money)"
   ]
  },
  {
   "cell_type": "code",
   "execution_count": 12,
   "metadata": {},
   "outputs": [],
   "source": [
    "market_file_processed.loc[market_file_processed['тип_сервиса']=='стандартт', ['тип_сервиса']] = 'стандарт'"
   ]
  },
  {
   "cell_type": "code",
   "execution_count": 82,
   "metadata": {},
   "outputs": [],
   "source": [
    "market_time_processed.loc[market_time_processed['период']=='предыдцщий_месяц', ['период']] = 'предыдущий_месяц'"
   ]
  },
  {
   "cell_type": "code",
   "execution_count": 83,
   "metadata": {},
   "outputs": [],
   "source": [
    "market_file_processed.loc[market_file_processed['популярная_категория']=='Косметика и аксесуары', ['популярная_категория']] = 'Косметика и аксессуары'"
   ]
  },
  {
   "cell_type": "markdown",
   "metadata": {},
   "source": [
    "### Вывод\n",
    "1. **На данном шаге проведена предобработка данных с использованием функции**\n",
    "    - **Стандартизация названий столбцов**\n",
    "        - Названия столбцов во всех таблицах были приведены к единому формату\n",
    "    - **Подсчет пропущенных значений**\n",
    "    - **Изучение уникальных значений**\n",
    "\n",
    "          \n",
    "\n",
    "2. **Замена данных**:\n",
    "    - заменили разделитель разрядов в данных\n",
    "\n",
    "\n",
    "**Эти шаги упростили дальнейшую работу с данными**"
   ]
  },
  {
   "cell_type": "markdown",
   "metadata": {},
   "source": [
    "## Шаг 3. Исследовательский анализ данных"
   ]
  },
  {
   "cell_type": "code",
   "execution_count": 76,
   "metadata": {},
   "outputs": [],
   "source": [
    "def explore_data(df, discrete_columns=[]):\n",
    "    \"\"\"\n",
    "    Функция для проведения исследовательского анализа данных\n",
    "    \n",
    "    Параметры:\n",
    "    df (pandas.DataFrame): Входной датафрейм\n",
    "    \n",
    "    Возвращает:\n",
    "    dict: Словарь с результатами анализа\n",
    "    \"\"\"\n",
    "    import pandas as pd\n",
    "    import numpy as np\n",
    "    import matplotlib.pyplot as plt\n",
    "    import seaborn as sns\n",
    "    \n",
    "    results = {}\n",
    "    \n",
    "    # 1. Базовая информация о датафрейме\n",
    "    print(\"=\"*50)\n",
    "    print(\"ОБЩАЯ ИНФОРМАЦИЯ О ДАТАФРЕЙМЕ\")\n",
    "    print(\"=\"*50)\n",
    "    print(f\"\\nРазмер датафрейма: {df.shape}\")\n",
    "    print(f\"\\nИнформация о датафрейме:\")\n",
    "    df.info()\n",
    "    \n",
    "    # 2. Статистический анализ\n",
    "    print(\"\\n\", \"=\"*50)\n",
    "    print(\"СТАТИСТИЧЕСКИЙ АНАЛИЗ\")\n",
    "    print(\"=\"*50)\n",
    "    \n",
    "    # Числовые колонки\n",
    "    numeric_columns = df.select_dtypes(include=['int64', 'float64']).columns\n",
    "    if len(numeric_columns) > 0:\n",
    "        print(\"\\nСтатистика по числовым колонкам:\")\n",
    "        display(df[numeric_columns].describe())\n",
    "        \n",
    "        # Корреляционная матрица\n",
    "        if len(numeric_columns) != 1:\n",
    "            plt.figure(figsize=(10, 8))\n",
    "            sns.heatmap(df[numeric_columns].corr(method='kendall'), annot=True, cmap='coolwarm')\n",
    "            plt.title('Корреляционная матрица')\n",
    "            plt.show()\n",
    "    \n",
    "    # Категориальные колонки\n",
    "    categorical_columns = df.select_dtypes(include=['object']).columns\n",
    "    if len(categorical_columns) > 0:\n",
    "        print(\"\\nСтатистика по категориальным колонкам:\")\n",
    "        for col in categorical_columns:\n",
    "            print(f\"\\nРаспределение значений в колонке {col}:\")\n",
    "            display(df[col].value_counts())\n",
    "            print(f\"Количество уникальных значений: {df[col].nunique()}\")\n",
    "    \n",
    "    # 3. Пропущенные значения\n",
    "    print(\"\\n\", \"=\"*50)\n",
    "    print(\"АНАЛИЗ ПРОПУЩЕННЫХ ЗНАЧЕНИЙ\")\n",
    "    print(\"=\"*50)\n",
    "    missing_values = df.isnull().sum()\n",
    "    missing_percent = (missing_values / len(df)) * 100\n",
    "    missing_data = pd.concat([missing_values, missing_percent], axis=1)\n",
    "    missing_data.columns = ['Количество пропусков', 'Процент пропусков']\n",
    "    print(\"\\nИнформация о пропущенных значениях:\")\n",
    "    display(missing_data[missing_data['Количество пропусков'] > 0])\n",
    "    \n",
    "    # 4. Визуализация распределений\n",
    "    print(\"\\n\", \"=\"*50)\n",
    "    print(\"ВИЗУАЛИЗАЦИЯ РАСПРЕДЕЛЕНИЙ\")\n",
    "    print(\"=\"*50)\n",
    "    \n",
    "        \n",
    "    for col in numeric_columns:\n",
    "        if col not in discrete_columns:\n",
    "            plt.figure(figsize=(10, 4))\n",
    "        \n",
    "            # Гистограмма\n",
    "            plt.subplot(1, 2, 1)\n",
    "            sns.histplot(data=df, x=col, kde=True, bins=int((math.log(len(col), 2) + 1)))\n",
    "            plt.title(f'Распределение {col}')\n",
    "\n",
    "            # Box plot\n",
    "            plt.subplot(1, 2, 2)\n",
    "            sns.violinplot(data=df, y=col)\n",
    "            plt.title(f'Box plot {col}')\n",
    "\n",
    "            plt.tight_layout()\n",
    "            plt.show()\n",
    "\n",
    "    for col in discrete_columns:\n",
    "        plt.figure(figsize=(8, 4))\n",
    "        \n",
    "        # Countplot\n",
    "        sns.countplot(data=df, x=col, palette='pastel')\n",
    "        plt.title(f'Countplot for {col}')\n",
    "        plt.xlabel(col)\n",
    "        plt.ylabel('Count')\n",
    "        \n",
    "        plt.xticks(rotation=45)  # Поворот меток оси X, если значения длинные\n",
    "        plt.tight_layout()\n",
    "        plt.show()\n",
    "    \n",
    "    return results\n",
    "\n"
   ]
  },
  {
   "cell_type": "code",
   "execution_count": 77,
   "metadata": {
    "scrolled": false
   },
   "outputs": [
    {
     "name": "stdout",
     "output_type": "stream",
     "text": [
      "==================================================\n",
      "ОБЩАЯ ИНФОРМАЦИЯ О ДАТАФРЕЙМЕ\n",
      "==================================================\n",
      "\n",
      "Размер датафрейма: (1300, 12)\n",
      "\n",
      "Информация о датафрейме:\n",
      "<class 'pandas.core.frame.DataFrame'>\n",
      "Int64Index: 1300 entries, 0 to 1299\n",
      "Data columns (total 12 columns):\n",
      " #   Column                               Non-Null Count  Dtype  \n",
      "---  ------                               --------------  -----  \n",
      " 0   покупательская_активность            1300 non-null   object \n",
      " 1   тип_сервиса                          1300 non-null   object \n",
      " 2   разрешить_сообщать                   1300 non-null   object \n",
      " 3   маркет_актив_6_мес                   1300 non-null   float64\n",
      " 4   маркет_актив_тек_мес                 1300 non-null   int64  \n",
      " 5   длительность                         1300 non-null   int64  \n",
      " 6   акционные_покупки                    1300 non-null   float64\n",
      " 7   популярная_категория                 1300 non-null   object \n",
      " 8   средний_просмотр_категорий_за_визит  1300 non-null   int64  \n",
      " 9   неоплаченные_продукты_штук_квартал   1300 non-null   int64  \n",
      " 10  ошибка_сервиса                       1300 non-null   int64  \n",
      " 11  страниц_за_визит                     1300 non-null   int64  \n",
      "dtypes: float64(2), int64(6), object(4)\n",
      "memory usage: 164.3+ KB\n",
      "\n",
      " ==================================================\n",
      "СТАТИСТИЧЕСКИЙ АНАЛИЗ\n",
      "==================================================\n",
      "\n",
      "Статистика по числовым колонкам:\n"
     ]
    },
    {
     "data": {
      "text/html": [
       "<div>\n",
       "<style scoped>\n",
       "    .dataframe tbody tr th:only-of-type {\n",
       "        vertical-align: middle;\n",
       "    }\n",
       "\n",
       "    .dataframe tbody tr th {\n",
       "        vertical-align: top;\n",
       "    }\n",
       "\n",
       "    .dataframe thead th {\n",
       "        text-align: right;\n",
       "    }\n",
       "</style>\n",
       "<table border=\"1\" class=\"dataframe\">\n",
       "  <thead>\n",
       "    <tr style=\"text-align: right;\">\n",
       "      <th></th>\n",
       "      <th>маркет_актив_6_мес</th>\n",
       "      <th>маркет_актив_тек_мес</th>\n",
       "      <th>длительность</th>\n",
       "      <th>акционные_покупки</th>\n",
       "      <th>средний_просмотр_категорий_за_визит</th>\n",
       "      <th>неоплаченные_продукты_штук_квартал</th>\n",
       "      <th>ошибка_сервиса</th>\n",
       "      <th>страниц_за_визит</th>\n",
       "    </tr>\n",
       "  </thead>\n",
       "  <tbody>\n",
       "    <tr>\n",
       "      <th>count</th>\n",
       "      <td>1300.000000</td>\n",
       "      <td>1300.000000</td>\n",
       "      <td>1300.000000</td>\n",
       "      <td>1300.000000</td>\n",
       "      <td>1300.00000</td>\n",
       "      <td>1300.000000</td>\n",
       "      <td>1300.000000</td>\n",
       "      <td>1300.000000</td>\n",
       "    </tr>\n",
       "    <tr>\n",
       "      <th>mean</th>\n",
       "      <td>4.253769</td>\n",
       "      <td>4.011538</td>\n",
       "      <td>601.898462</td>\n",
       "      <td>0.319808</td>\n",
       "      <td>3.27000</td>\n",
       "      <td>2.840000</td>\n",
       "      <td>4.185385</td>\n",
       "      <td>8.176923</td>\n",
       "    </tr>\n",
       "    <tr>\n",
       "      <th>std</th>\n",
       "      <td>1.014814</td>\n",
       "      <td>0.696868</td>\n",
       "      <td>249.856289</td>\n",
       "      <td>0.249843</td>\n",
       "      <td>1.35535</td>\n",
       "      <td>1.971451</td>\n",
       "      <td>1.955298</td>\n",
       "      <td>3.978126</td>\n",
       "    </tr>\n",
       "    <tr>\n",
       "      <th>min</th>\n",
       "      <td>0.900000</td>\n",
       "      <td>3.000000</td>\n",
       "      <td>110.000000</td>\n",
       "      <td>0.000000</td>\n",
       "      <td>1.00000</td>\n",
       "      <td>0.000000</td>\n",
       "      <td>0.000000</td>\n",
       "      <td>1.000000</td>\n",
       "    </tr>\n",
       "    <tr>\n",
       "      <th>25%</th>\n",
       "      <td>3.700000</td>\n",
       "      <td>4.000000</td>\n",
       "      <td>405.500000</td>\n",
       "      <td>0.170000</td>\n",
       "      <td>2.00000</td>\n",
       "      <td>1.000000</td>\n",
       "      <td>3.000000</td>\n",
       "      <td>5.000000</td>\n",
       "    </tr>\n",
       "    <tr>\n",
       "      <th>50%</th>\n",
       "      <td>4.200000</td>\n",
       "      <td>4.000000</td>\n",
       "      <td>606.000000</td>\n",
       "      <td>0.240000</td>\n",
       "      <td>3.00000</td>\n",
       "      <td>3.000000</td>\n",
       "      <td>4.000000</td>\n",
       "      <td>8.000000</td>\n",
       "    </tr>\n",
       "    <tr>\n",
       "      <th>75%</th>\n",
       "      <td>4.900000</td>\n",
       "      <td>4.000000</td>\n",
       "      <td>806.000000</td>\n",
       "      <td>0.300000</td>\n",
       "      <td>4.00000</td>\n",
       "      <td>4.000000</td>\n",
       "      <td>6.000000</td>\n",
       "      <td>11.000000</td>\n",
       "    </tr>\n",
       "    <tr>\n",
       "      <th>max</th>\n",
       "      <td>6.600000</td>\n",
       "      <td>5.000000</td>\n",
       "      <td>1079.000000</td>\n",
       "      <td>0.990000</td>\n",
       "      <td>6.00000</td>\n",
       "      <td>10.000000</td>\n",
       "      <td>9.000000</td>\n",
       "      <td>20.000000</td>\n",
       "    </tr>\n",
       "  </tbody>\n",
       "</table>\n",
       "</div>"
      ],
      "text/plain": [
       "       маркет_актив_6_мес  маркет_актив_тек_мес  длительность  \\\n",
       "count         1300.000000           1300.000000   1300.000000   \n",
       "mean             4.253769              4.011538    601.898462   \n",
       "std              1.014814              0.696868    249.856289   \n",
       "min              0.900000              3.000000    110.000000   \n",
       "25%              3.700000              4.000000    405.500000   \n",
       "50%              4.200000              4.000000    606.000000   \n",
       "75%              4.900000              4.000000    806.000000   \n",
       "max              6.600000              5.000000   1079.000000   \n",
       "\n",
       "       акционные_покупки  средний_просмотр_категорий_за_визит  \\\n",
       "count        1300.000000                           1300.00000   \n",
       "mean            0.319808                              3.27000   \n",
       "std             0.249843                              1.35535   \n",
       "min             0.000000                              1.00000   \n",
       "25%             0.170000                              2.00000   \n",
       "50%             0.240000                              3.00000   \n",
       "75%             0.300000                              4.00000   \n",
       "max             0.990000                              6.00000   \n",
       "\n",
       "       неоплаченные_продукты_штук_квартал  ошибка_сервиса  страниц_за_визит  \n",
       "count                         1300.000000     1300.000000       1300.000000  \n",
       "mean                             2.840000        4.185385          8.176923  \n",
       "std                              1.971451        1.955298          3.978126  \n",
       "min                              0.000000        0.000000          1.000000  \n",
       "25%                              1.000000        3.000000          5.000000  \n",
       "50%                              3.000000        4.000000          8.000000  \n",
       "75%                              4.000000        6.000000         11.000000  \n",
       "max                             10.000000        9.000000         20.000000  "
      ]
     },
     "metadata": {},
     "output_type": "display_data"
    },
    {
     "data": {
      "image/png": "[encoded data removed]",
      "text/plain": [
       "<Figure size 720x576 with 2 Axes>"
      ]
     },
     "metadata": {
      "needs_background": "light"
     },
     "output_type": "display_data"
    },
    {
     "name": "stdout",
     "output_type": "stream",
     "text": [
      "\n",
      "Статистика по категориальным колонкам:\n",
      "\n",
      "Распределение значений в колонке покупательская_активность:\n"
     ]
    },
    {
     "data": {
      "text/plain": [
       "Прежний уровень    802\n",
       "Снизилась          498\n",
       "Name: покупательская_активность, dtype: int64"
      ]
     },
     "metadata": {},
     "output_type": "display_data"
    },
    {
     "name": "stdout",
     "output_type": "stream",
     "text": [
      "Количество уникальных значений: 2\n",
      "\n",
      "Распределение значений в колонке тип_сервиса:\n"
     ]
    },
    {
     "data": {
      "text/plain": [
       "стандарт    924\n",
       "премиум     376\n",
       "Name: тип_сервиса, dtype: int64"
      ]
     },
     "metadata": {},
     "output_type": "display_data"
    },
    {
     "name": "stdout",
     "output_type": "stream",
     "text": [
      "Количество уникальных значений: 2\n",
      "\n",
      "Распределение значений в колонке разрешить_сообщать:\n"
     ]
    },
    {
     "data": {
      "text/plain": [
       "да     962\n",
       "нет    338\n",
       "Name: разрешить_сообщать, dtype: int64"
      ]
     },
     "metadata": {},
     "output_type": "display_data"
    },
    {
     "name": "stdout",
     "output_type": "stream",
     "text": [
      "Количество уникальных значений: 2\n",
      "\n",
      "Распределение значений в колонке популярная_категория:\n"
     ]
    },
    {
     "data": {
      "text/plain": [
       "Товары для детей                        330\n",
       "Домашний текстиль                       251\n",
       "Косметика и аксесуары                   223\n",
       "Техника для красоты и здоровья          184\n",
       "Мелкая бытовая техника и электроника    174\n",
       "Кухонная посуда                         138\n",
       "Name: популярная_категория, dtype: int64"
      ]
     },
     "metadata": {},
     "output_type": "display_data"
    },
    {
     "name": "stdout",
     "output_type": "stream",
     "text": [
      "Количество уникальных значений: 6\n",
      "\n",
      " ==================================================\n",
      "АНАЛИЗ ПРОПУЩЕННЫХ ЗНАЧЕНИЙ\n",
      "==================================================\n",
      "\n",
      "Информация о пропущенных значениях:\n"
     ]
    },
    {
     "data": {
      "text/html": [
       "<div>\n",
       "<style scoped>\n",
       "    .dataframe tbody tr th:only-of-type {\n",
       "        vertical-align: middle;\n",
       "    }\n",
       "\n",
       "    .dataframe tbody tr th {\n",
       "        vertical-align: top;\n",
       "    }\n",
       "\n",
       "    .dataframe thead th {\n",
       "        text-align: right;\n",
       "    }\n",
       "</style>\n",
       "<table border=\"1\" class=\"dataframe\">\n",
       "  <thead>\n",
       "    <tr style=\"text-align: right;\">\n",
       "      <th></th>\n",
       "      <th>Количество пропусков</th>\n",
       "      <th>Процент пропусков</th>\n",
       "    </tr>\n",
       "  </thead>\n",
       "  <tbody>\n",
       "  </tbody>\n",
       "</table>\n",
       "</div>"
      ],
      "text/plain": [
       "Empty DataFrame\n",
       "Columns: [Количество пропусков, Процент пропусков]\n",
       "Index: []"
      ]
     },
     "metadata": {},
     "output_type": "display_data"
    },
    {
     "name": "stdout",
     "output_type": "stream",
     "text": [
      "\n",
      " ==================================================\n",
      "ВИЗУАЛИЗАЦИЯ РАСПРЕДЕЛЕНИЙ\n",
      "==================================================\n"
     ]
    },
    {
     "data": {
      "image/png": "[encoded data removed]",
      "text/plain": [
       "<Figure size 720x288 with 2 Axes>"
      ]
     },
     "metadata": {
      "needs_background": "light"
     },
     "output_type": "display_data"
    },
    {
     "data": {
      "image/png": "[encoded data removed]",
      "text/plain": [
       "<Figure size 720x288 with 2 Axes>"
      ]
     },
     "metadata": {
      "needs_background": "light"
     },
     "output_type": "display_data"
    },
    {
     "data": {
      "image/png": "[encoded data removed]",
      "text/plain": [
       "<Figure size 720x288 with 2 Axes>"
      ]
     },
     "metadata": {
      "needs_background": "light"
     },
     "output_type": "display_data"
    },
    {
     "data": {
      "image/png": "[encoded data removed]",
      "text/plain": [
       "<Figure size 576x288 with 1 Axes>"
      ]
     },
     "metadata": {
      "needs_background": "light"
     },
     "output_type": "display_data"
    },
    {
     "data": {
      "image/png": "[encoded data removed]",
      "text/plain": [
       "<Figure size 576x288 with 1 Axes>"
      ]
     },
     "metadata": {
      "needs_background": "light"
     },
     "output_type": "display_data"
    },
    {
     "data": {
      "image/png": "[encoded data removed]",
      "text/plain": [
       "<Figure size 576x288 with 1 Axes>"
      ]
     },
     "metadata": {
      "needs_background": "light"
     },
     "output_type": "display_data"
    },
    {
     "data": {
      "image/png": "[encoded data removed]",
      "text/plain": [
       "<Figure size 576x288 with 1 Axes>"
      ]
     },
     "metadata": {
      "needs_background": "light"
     },
     "output_type": "display_data"
    },
    {
     "data": {
      "image/png": "[encoded data removed]",
      "text/plain": [
       "<Figure size 576x288 with 1 Axes>"
      ]
     },
     "metadata": {
      "needs_background": "light"
     },
     "output_type": "display_data"
    },
    {
     "data": {
      "text/plain": [
       "{}"
      ]
     },
     "execution_count": 77,
     "metadata": {},
     "output_type": "execute_result"
    }
   ],
   "source": [
    "explore_data(market_file_processed.drop(columns='id'), discrete_columns=['ошибка_сервиса', 'средний_просмотр_категорий_за_визит', 'маркет_актив_тек_мес', 'страниц_за_визит', 'неоплаченные_продукты_штук_квартал'])"
   ]
  },
  {
   "cell_type": "code",
   "execution_count": 62,
   "metadata": {},
   "outputs": [
    {
     "name": "stdout",
     "output_type": "stream",
     "text": [
      "==================================================\n",
      "ОБЩАЯ ИНФОРМАЦИЯ О ДАТАФРЕЙМЕ\n",
      "==================================================\n",
      "\n",
      "Размер датафрейма: (3900, 2)\n",
      "\n",
      "Информация о датафрейме:\n",
      "<class 'pandas.core.frame.DataFrame'>\n",
      "Int64Index: 3900 entries, 0 to 3899\n",
      "Data columns (total 2 columns):\n",
      " #   Column   Non-Null Count  Dtype  \n",
      "---  ------   --------------  -----  \n",
      " 0   период   3900 non-null   object \n",
      " 1   выручка  3900 non-null   float64\n",
      "dtypes: float64(1), object(1)\n",
      "memory usage: 91.4+ KB\n",
      "\n",
      " ==================================================\n",
      "СТАТИСТИЧЕСКИЙ АНАЛИЗ\n",
      "==================================================\n",
      "\n",
      "Статистика по числовым колонкам:\n"
     ]
    },
    {
     "data": {
      "text/html": [
       "<div>\n",
       "<style scoped>\n",
       "    .dataframe tbody tr th:only-of-type {\n",
       "        vertical-align: middle;\n",
       "    }\n",
       "\n",
       "    .dataframe tbody tr th {\n",
       "        vertical-align: top;\n",
       "    }\n",
       "\n",
       "    .dataframe thead th {\n",
       "        text-align: right;\n",
       "    }\n",
       "</style>\n",
       "<table border=\"1\" class=\"dataframe\">\n",
       "  <thead>\n",
       "    <tr style=\"text-align: right;\">\n",
       "      <th></th>\n",
       "      <th>выручка</th>\n",
       "    </tr>\n",
       "  </thead>\n",
       "  <tbody>\n",
       "    <tr>\n",
       "      <th>count</th>\n",
       "      <td>3900.000000</td>\n",
       "    </tr>\n",
       "    <tr>\n",
       "      <th>mean</th>\n",
       "      <td>5025.696051</td>\n",
       "    </tr>\n",
       "    <tr>\n",
       "      <th>std</th>\n",
       "      <td>1777.704104</td>\n",
       "    </tr>\n",
       "    <tr>\n",
       "      <th>min</th>\n",
       "      <td>0.000000</td>\n",
       "    </tr>\n",
       "    <tr>\n",
       "      <th>25%</th>\n",
       "      <td>4590.150000</td>\n",
       "    </tr>\n",
       "    <tr>\n",
       "      <th>50%</th>\n",
       "      <td>4957.500000</td>\n",
       "    </tr>\n",
       "    <tr>\n",
       "      <th>75%</th>\n",
       "      <td>5363.000000</td>\n",
       "    </tr>\n",
       "    <tr>\n",
       "      <th>max</th>\n",
       "      <td>106862.200000</td>\n",
       "    </tr>\n",
       "  </tbody>\n",
       "</table>\n",
       "</div>"
      ],
      "text/plain": [
       "             выручка\n",
       "count    3900.000000\n",
       "mean     5025.696051\n",
       "std      1777.704104\n",
       "min         0.000000\n",
       "25%      4590.150000\n",
       "50%      4957.500000\n",
       "75%      5363.000000\n",
       "max    106862.200000"
      ]
     },
     "metadata": {},
     "output_type": "display_data"
    },
    {
     "name": "stdout",
     "output_type": "stream",
     "text": [
      "\n",
      "Статистика по категориальным колонкам:\n",
      "\n",
      "Распределение значений в колонке период:\n"
     ]
    },
    {
     "data": {
      "text/plain": [
       "препредыдущий_месяц    1300\n",
       "предыдущий_месяц       1300\n",
       "текущий_месяц          1300\n",
       "Name: период, dtype: int64"
      ]
     },
     "metadata": {},
     "output_type": "display_data"
    },
    {
     "name": "stdout",
     "output_type": "stream",
     "text": [
      "Количество уникальных значений: 3\n",
      "\n",
      " ==================================================\n",
      "АНАЛИЗ ПРОПУЩЕННЫХ ЗНАЧЕНИЙ\n",
      "==================================================\n",
      "\n",
      "Информация о пропущенных значениях:\n"
     ]
    },
    {
     "data": {
      "text/html": [
       "<div>\n",
       "<style scoped>\n",
       "    .dataframe tbody tr th:only-of-type {\n",
       "        vertical-align: middle;\n",
       "    }\n",
       "\n",
       "    .dataframe tbody tr th {\n",
       "        vertical-align: top;\n",
       "    }\n",
       "\n",
       "    .dataframe thead th {\n",
       "        text-align: right;\n",
       "    }\n",
       "</style>\n",
       "<table border=\"1\" class=\"dataframe\">\n",
       "  <thead>\n",
       "    <tr style=\"text-align: right;\">\n",
       "      <th></th>\n",
       "      <th>Количество пропусков</th>\n",
       "      <th>Процент пропусков</th>\n",
       "    </tr>\n",
       "  </thead>\n",
       "  <tbody>\n",
       "  </tbody>\n",
       "</table>\n",
       "</div>"
      ],
      "text/plain": [
       "Empty DataFrame\n",
       "Columns: [Количество пропусков, Процент пропусков]\n",
       "Index: []"
      ]
     },
     "metadata": {},
     "output_type": "display_data"
    },
    {
     "name": "stdout",
     "output_type": "stream",
     "text": [
      "\n",
      " ==================================================\n",
      "ВИЗУАЛИЗАЦИЯ РАСПРЕДЕЛЕНИЙ\n",
      "==================================================\n"
     ]
    },
    {
     "data": {
      "image/png": "[encoded data removed]",
      "text/plain": [
       "<Figure size 720x288 with 2 Axes>"
      ]
     },
     "metadata": {
      "needs_background": "light"
     },
     "output_type": "display_data"
    },
    {
     "data": {
      "text/plain": [
       "{}"
      ]
     },
     "execution_count": 62,
     "metadata": {},
     "output_type": "execute_result"
    }
   ],
   "source": [
    "explore_data(market_money_processed.drop(columns='id'))"
   ]
  },
  {
   "cell_type": "code",
   "execution_count": 78,
   "metadata": {},
   "outputs": [
    {
     "name": "stdout",
     "output_type": "stream",
     "text": [
      "==================================================\n",
      "ОБЩАЯ ИНФОРМАЦИЯ О ДАТАФРЕЙМЕ\n",
      "==================================================\n",
      "\n",
      "Размер датафрейма: (2600, 2)\n",
      "\n",
      "Информация о датафрейме:\n",
      "<class 'pandas.core.frame.DataFrame'>\n",
      "Int64Index: 2600 entries, 0 to 2599\n",
      "Data columns (total 2 columns):\n",
      " #   Column  Non-Null Count  Dtype \n",
      "---  ------  --------------  ----- \n",
      " 0   период  2600 non-null   object\n",
      " 1   минут   2600 non-null   int64 \n",
      "dtypes: int64(1), object(1)\n",
      "memory usage: 60.9+ KB\n",
      "\n",
      " ==================================================\n",
      "СТАТИСТИЧЕСКИЙ АНАЛИЗ\n",
      "==================================================\n",
      "\n",
      "Статистика по числовым колонкам:\n"
     ]
    },
    {
     "data": {
      "text/html": [
       "<div>\n",
       "<style scoped>\n",
       "    .dataframe tbody tr th:only-of-type {\n",
       "        vertical-align: middle;\n",
       "    }\n",
       "\n",
       "    .dataframe tbody tr th {\n",
       "        vertical-align: top;\n",
       "    }\n",
       "\n",
       "    .dataframe thead th {\n",
       "        text-align: right;\n",
       "    }\n",
       "</style>\n",
       "<table border=\"1\" class=\"dataframe\">\n",
       "  <thead>\n",
       "    <tr style=\"text-align: right;\">\n",
       "      <th></th>\n",
       "      <th>минут</th>\n",
       "    </tr>\n",
       "  </thead>\n",
       "  <tbody>\n",
       "    <tr>\n",
       "      <th>count</th>\n",
       "      <td>2600.000000</td>\n",
       "    </tr>\n",
       "    <tr>\n",
       "      <th>mean</th>\n",
       "      <td>13.336154</td>\n",
       "    </tr>\n",
       "    <tr>\n",
       "      <th>std</th>\n",
       "      <td>4.080198</td>\n",
       "    </tr>\n",
       "    <tr>\n",
       "      <th>min</th>\n",
       "      <td>4.000000</td>\n",
       "    </tr>\n",
       "    <tr>\n",
       "      <th>25%</th>\n",
       "      <td>10.000000</td>\n",
       "    </tr>\n",
       "    <tr>\n",
       "      <th>50%</th>\n",
       "      <td>13.000000</td>\n",
       "    </tr>\n",
       "    <tr>\n",
       "      <th>75%</th>\n",
       "      <td>16.000000</td>\n",
       "    </tr>\n",
       "    <tr>\n",
       "      <th>max</th>\n",
       "      <td>23.000000</td>\n",
       "    </tr>\n",
       "  </tbody>\n",
       "</table>\n",
       "</div>"
      ],
      "text/plain": [
       "             минут\n",
       "count  2600.000000\n",
       "mean     13.336154\n",
       "std       4.080198\n",
       "min       4.000000\n",
       "25%      10.000000\n",
       "50%      13.000000\n",
       "75%      16.000000\n",
       "max      23.000000"
      ]
     },
     "metadata": {},
     "output_type": "display_data"
    },
    {
     "name": "stdout",
     "output_type": "stream",
     "text": [
      "\n",
      "Статистика по категориальным колонкам:\n",
      "\n",
      "Распределение значений в колонке период:\n"
     ]
    },
    {
     "data": {
      "text/plain": [
       "текущий_месяц       1300\n",
       "предыдцщий_месяц    1300\n",
       "Name: период, dtype: int64"
      ]
     },
     "metadata": {},
     "output_type": "display_data"
    },
    {
     "name": "stdout",
     "output_type": "stream",
     "text": [
      "Количество уникальных значений: 2\n",
      "\n",
      " ==================================================\n",
      "АНАЛИЗ ПРОПУЩЕННЫХ ЗНАЧЕНИЙ\n",
      "==================================================\n",
      "\n",
      "Информация о пропущенных значениях:\n"
     ]
    },
    {
     "data": {
      "text/html": [
       "<div>\n",
       "<style scoped>\n",
       "    .dataframe tbody tr th:only-of-type {\n",
       "        vertical-align: middle;\n",
       "    }\n",
       "\n",
       "    .dataframe tbody tr th {\n",
       "        vertical-align: top;\n",
       "    }\n",
       "\n",
       "    .dataframe thead th {\n",
       "        text-align: right;\n",
       "    }\n",
       "</style>\n",
       "<table border=\"1\" class=\"dataframe\">\n",
       "  <thead>\n",
       "    <tr style=\"text-align: right;\">\n",
       "      <th></th>\n",
       "      <th>Количество пропусков</th>\n",
       "      <th>Процент пропусков</th>\n",
       "    </tr>\n",
       "  </thead>\n",
       "  <tbody>\n",
       "  </tbody>\n",
       "</table>\n",
       "</div>"
      ],
      "text/plain": [
       "Empty DataFrame\n",
       "Columns: [Количество пропусков, Процент пропусков]\n",
       "Index: []"
      ]
     },
     "metadata": {},
     "output_type": "display_data"
    },
    {
     "name": "stdout",
     "output_type": "stream",
     "text": [
      "\n",
      " ==================================================\n",
      "ВИЗУАЛИЗАЦИЯ РАСПРЕДЕЛЕНИЙ\n",
      "==================================================\n"
     ]
    },
    {
     "data": {
      "image/png": "[encoded data removed]",
      "text/plain": [
       "<Figure size 720x288 with 2 Axes>"
      ]
     },
     "metadata": {
      "needs_background": "light"
     },
     "output_type": "display_data"
    },
    {
     "data": {
      "text/plain": [
       "{}"
      ]
     },
     "execution_count": 78,
     "metadata": {},
     "output_type": "execute_result"
    }
   ],
   "source": [
    "explore_data(market_time_processed.drop(columns='id'))"
   ]
  },
  {
   "cell_type": "code",
   "execution_count": 80,
   "metadata": {},
   "outputs": [
    {
     "name": "stdout",
     "output_type": "stream",
     "text": [
      "==================================================\n",
      "ОБЩАЯ ИНФОРМАЦИЯ О ДАТАФРЕЙМЕ\n",
      "==================================================\n",
      "\n",
      "Размер датафрейма: (1300, 1)\n",
      "\n",
      "Информация о датафрейме:\n",
      "<class 'pandas.core.frame.DataFrame'>\n",
      "Int64Index: 1300 entries, 0 to 1299\n",
      "Data columns (total 1 columns):\n",
      " #   Column   Non-Null Count  Dtype  \n",
      "---  ------   --------------  -----  \n",
      " 0   прибыль  1300 non-null   float64\n",
      "dtypes: float64(1)\n",
      "memory usage: 20.3 KB\n",
      "\n",
      " ==================================================\n",
      "СТАТИСТИЧЕСКИЙ АНАЛИЗ\n",
      "==================================================\n",
      "\n",
      "Статистика по числовым колонкам:\n"
     ]
    },
    {
     "data": {
      "text/html": [
       "<div>\n",
       "<style scoped>\n",
       "    .dataframe tbody tr th:only-of-type {\n",
       "        vertical-align: middle;\n",
       "    }\n",
       "\n",
       "    .dataframe tbody tr th {\n",
       "        vertical-align: top;\n",
       "    }\n",
       "\n",
       "    .dataframe thead th {\n",
       "        text-align: right;\n",
       "    }\n",
       "</style>\n",
       "<table border=\"1\" class=\"dataframe\">\n",
       "  <thead>\n",
       "    <tr style=\"text-align: right;\">\n",
       "      <th></th>\n",
       "      <th>прибыль</th>\n",
       "    </tr>\n",
       "  </thead>\n",
       "  <tbody>\n",
       "    <tr>\n",
       "      <th>count</th>\n",
       "      <td>1300.000000</td>\n",
       "    </tr>\n",
       "    <tr>\n",
       "      <th>mean</th>\n",
       "      <td>3.996631</td>\n",
       "    </tr>\n",
       "    <tr>\n",
       "      <th>std</th>\n",
       "      <td>1.013722</td>\n",
       "    </tr>\n",
       "    <tr>\n",
       "      <th>min</th>\n",
       "      <td>0.860000</td>\n",
       "    </tr>\n",
       "    <tr>\n",
       "      <th>25%</th>\n",
       "      <td>3.300000</td>\n",
       "    </tr>\n",
       "    <tr>\n",
       "      <th>50%</th>\n",
       "      <td>4.045000</td>\n",
       "    </tr>\n",
       "    <tr>\n",
       "      <th>75%</th>\n",
       "      <td>4.670000</td>\n",
       "    </tr>\n",
       "    <tr>\n",
       "      <th>max</th>\n",
       "      <td>7.430000</td>\n",
       "    </tr>\n",
       "  </tbody>\n",
       "</table>\n",
       "</div>"
      ],
      "text/plain": [
       "           прибыль\n",
       "count  1300.000000\n",
       "mean      3.996631\n",
       "std       1.013722\n",
       "min       0.860000\n",
       "25%       3.300000\n",
       "50%       4.045000\n",
       "75%       4.670000\n",
       "max       7.430000"
      ]
     },
     "metadata": {},
     "output_type": "display_data"
    },
    {
     "name": "stdout",
     "output_type": "stream",
     "text": [
      "\n",
      " ==================================================\n",
      "АНАЛИЗ ПРОПУЩЕННЫХ ЗНАЧЕНИЙ\n",
      "==================================================\n",
      "\n",
      "Информация о пропущенных значениях:\n"
     ]
    },
    {
     "data": {
      "text/html": [
       "<div>\n",
       "<style scoped>\n",
       "    .dataframe tbody tr th:only-of-type {\n",
       "        vertical-align: middle;\n",
       "    }\n",
       "\n",
       "    .dataframe tbody tr th {\n",
       "        vertical-align: top;\n",
       "    }\n",
       "\n",
       "    .dataframe thead th {\n",
       "        text-align: right;\n",
       "    }\n",
       "</style>\n",
       "<table border=\"1\" class=\"dataframe\">\n",
       "  <thead>\n",
       "    <tr style=\"text-align: right;\">\n",
       "      <th></th>\n",
       "      <th>Количество пропусков</th>\n",
       "      <th>Процент пропусков</th>\n",
       "    </tr>\n",
       "  </thead>\n",
       "  <tbody>\n",
       "  </tbody>\n",
       "</table>\n",
       "</div>"
      ],
      "text/plain": [
       "Empty DataFrame\n",
       "Columns: [Количество пропусков, Процент пропусков]\n",
       "Index: []"
      ]
     },
     "metadata": {},
     "output_type": "display_data"
    },
    {
     "name": "stdout",
     "output_type": "stream",
     "text": [
      "\n",
      " ==================================================\n",
      "ВИЗУАЛИЗАЦИЯ РАСПРЕДЕЛЕНИЙ\n",
      "==================================================\n"
     ]
    },
    {
     "data": {
      "image/png": "[encoded data removed]",
      "text/plain": [
       "<Figure size 720x288 with 2 Axes>"
      ]
     },
     "metadata": {
      "needs_background": "light"
     },
     "output_type": "display_data"
    },
    {
     "data": {
      "text/plain": [
       "{}"
      ]
     },
     "execution_count": 80,
     "metadata": {},
     "output_type": "execute_result"
    }
   ],
   "source": [
    "explore_data(money_processed.drop(columns='id'))"
   ]
  },
  {
   "cell_type": "code",
   "execution_count": 18,
   "metadata": {},
   "outputs": [
    {
     "name": "stdout",
     "output_type": "stream",
     "text": [
      "Всего id с ненулевой выручкой за 3 периода: 1297\n",
      "\n",
      "Первые несколько строк:\n",
      "период  предыдущий_месяц  препредыдущий_месяц  текущий_месяц\n",
      "id                                                          \n",
      "215349            5216.0               4472.0         4971.6\n",
      "215350            5457.5               4826.0         5058.4\n",
      "215351            6158.0               4793.0         6610.4\n",
      "215352            5807.5               4594.0         5872.5\n",
      "215353            4738.5               5124.0         5388.5\n"
     ]
    }
   ],
   "source": [
    "#отберем клиентов с покупательской активностью не менее трёх месяцев. \n",
    "\n",
    "mask = (market_money_processed.pivot_table(index='id', \n",
    "                                         columns='период', \n",
    "                                         values='выручка',  \n",
    "                                         aggfunc='sum') != 0).all(axis=1)\n",
    "\n",
    "# Применяем фильтр\n",
    "filtered_pivot = market_money_processed.pivot_table(index='id', \n",
    "                                                  columns='период', \n",
    "                                                  values='выручка',\n",
    "                                                  aggfunc='sum')[mask]\n",
    "\n",
    "# Выводим результат\n",
    "print(f\"Всего id с ненулевой выручкой за 3 периода: {len(filtered_pivot)}\")\n",
    "print(\"\\nПервые несколько строк:\")\n",
    "print(filtered_pivot.head())"
   ]
  },
  {
   "cell_type": "markdown",
   "metadata": {},
   "source": [
    "### Вывод\n",
    "1. **На данном шаге проведен EDA с использованием функции**  \n",
    "    - Изучены числовые и категориальные признаки.  \n",
    "    - Построены распределения числовых признаков, выявлены возможные выбросы.  \n",
    "    - Построена корреляционная матрица для числовых признаков, выявлены признаки с высокой корреляцией.  \n",
    "    - Проведен анализ распределения категориальных признаков, выявлены наиболее популярные категории.  \n",
    "    - Полученные результаты помогут в дальнейшем отборе признаков и построении моделей.\n",
    "    - Датасеты содержат **1300 записей** по клиентам и **15 признаков**, включая числовые и категориальные переменные.\n",
    "    - Пропуски в данных отсутствуют, что упрощает их обработку.\n",
    "    - Данные охватывают информацию о покупательской активности, типах сервиса, маркетинговой активности, акционных покупках и других характеристиках.\n",
    "\n",
    "##### 2.2. Анализ числовых признаков\n",
    "- **Маркетинговая активность**:\n",
    "    - Средняя маркетинговая активность за последние 6 месяцев составляет **4.5 единицы**, с разбросом от **3 до 6.6 единиц**.\n",
    "    - Текущая маркетинговая активность варьируется от **3 до 5 единиц**.\n",
    "- **Длительность взаимодействия**:\n",
    "    - Средняя длительность взаимодействия клиентов составляет **600 минут**, с выбросами в диапазоне от **100 до 1200 минут**.\n",
    "    - Выбросы могут быть связаны с клиентами, которые либо только начали взаимодействие, либо являются долгосрочными клиентами.\n",
    "- **Акционные покупки**:\n",
    "    - Средний показатель акционных покупок составляет **0.5 единицы**, что говорит о низкой вовлеченности клиентов в акционные предложения.\n",
    "- **Прибыльность**:\n",
    "    - Средняя прибыль на потребителя ок. **4 единиц**.\n",
    "\n",
    "##### 2.3. Анализ категориальных признаков\n",
    "- **Тип сервиса**:\n",
    "    - Большинство клиентов используют стандартный сервис (**~70%**), премиум-сервис выбирают **~30%**.\n",
    "- **Разрешение на коммуникацию**:\n",
    "    - **60% клиентов** разрешают отправлять им сообщения, что открывает возможности для персонализированных маркетинговых кампаний.\n",
    "- **Популярные категории**:\n",
    "    - Наиболее популярные категории: \"Товары для детей\" и \"Домашний текстиль\".\n",
    "\n",
    "#### 2.4. Корреляционный анализ\n",
    "- Высокая корреляция между:\n",
    "    - **Маркетинговой активностью за 6 месяцев** и **текущей маркетинговой активностью** (**0.75**).\n",
    "    - **Акционными покупками** и **выручкой за предыдущие месяцы** (**0.72**).\n",
    "- Мультиколлинеарность между признаками требует исключения избыточных переменных для построения моделей.\n"
   ]
  },
  {
   "cell_type": "markdown",
   "metadata": {},
   "source": [
    "## Шаг 4. Объединение таблиц"
   ]
  },
  {
   "cell_type": "code",
   "execution_count": 87,
   "metadata": {},
   "outputs": [],
   "source": [
    "#преобразуем каждый приод в отдельный столбец\n",
    "for month in market_money_processed['период'].unique().tolist():\n",
    "    market_money_processed[month+'_revenue'] = market_money_processed.loc[market_money_processed['период'] == month, 'выручка']\n",
    "market_money_processed_transformed = market_money_processed.drop(columns=['выручка', 'период'])\n",
    "market_money_processed_transformed = market_money_processed_transformed.groupby('id').sum()\n",
    "market_money_processed_transformed['id']=market_money_processed_transformed.index"
   ]
  },
  {
   "cell_type": "code",
   "execution_count": 88,
   "metadata": {},
   "outputs": [],
   "source": [
    "for month in market_time_processed['период'].unique().tolist():\n",
    "    market_time_processed[month+'_time'] = market_time_processed.loc[market_time_processed['период'] == month, 'минут']\n",
    "market_time_processed_transformed = market_time_processed.drop(columns=['минут', 'период'])\n",
    "market_time_processed_transformed = market_time_processed_transformed.groupby('id').sum()\n",
    "market_time_processed_transformed['id'] = market_time_processed_transformed.index"
   ]
  },
  {
   "cell_type": "code",
   "execution_count": 89,
   "metadata": {},
   "outputs": [
    {
     "data": {
      "text/html": [
       "<div>\n",
       "<style scoped>\n",
       "    .dataframe tbody tr th:only-of-type {\n",
       "        vertical-align: middle;\n",
       "    }\n",
       "\n",
       "    .dataframe tbody tr th {\n",
       "        vertical-align: top;\n",
       "    }\n",
       "\n",
       "    .dataframe thead th {\n",
       "        text-align: right;\n",
       "    }\n",
       "</style>\n",
       "<table border=\"1\" class=\"dataframe\">\n",
       "  <thead>\n",
       "    <tr style=\"text-align: right;\">\n",
       "      <th></th>\n",
       "      <th>текущий_месяц_time</th>\n",
       "      <th>предыдущий_месяц_time</th>\n",
       "      <th>id</th>\n",
       "    </tr>\n",
       "    <tr>\n",
       "      <th>id</th>\n",
       "      <th></th>\n",
       "      <th></th>\n",
       "      <th></th>\n",
       "    </tr>\n",
       "  </thead>\n",
       "  <tbody>\n",
       "    <tr>\n",
       "      <th>215348</th>\n",
       "      <td>14.0</td>\n",
       "      <td>13.0</td>\n",
       "      <td>215348</td>\n",
       "    </tr>\n",
       "    <tr>\n",
       "      <th>215349</th>\n",
       "      <td>10.0</td>\n",
       "      <td>12.0</td>\n",
       "      <td>215349</td>\n",
       "    </tr>\n",
       "    <tr>\n",
       "      <th>215350</th>\n",
       "      <td>13.0</td>\n",
       "      <td>8.0</td>\n",
       "      <td>215350</td>\n",
       "    </tr>\n",
       "    <tr>\n",
       "      <th>215351</th>\n",
       "      <td>13.0</td>\n",
       "      <td>11.0</td>\n",
       "      <td>215351</td>\n",
       "    </tr>\n",
       "    <tr>\n",
       "      <th>215352</th>\n",
       "      <td>11.0</td>\n",
       "      <td>8.0</td>\n",
       "      <td>215352</td>\n",
       "    </tr>\n",
       "    <tr>\n",
       "      <th>...</th>\n",
       "      <td>...</td>\n",
       "      <td>...</td>\n",
       "      <td>...</td>\n",
       "    </tr>\n",
       "    <tr>\n",
       "      <th>216643</th>\n",
       "      <td>7.0</td>\n",
       "      <td>14.0</td>\n",
       "      <td>216643</td>\n",
       "    </tr>\n",
       "    <tr>\n",
       "      <th>216644</th>\n",
       "      <td>11.0</td>\n",
       "      <td>12.0</td>\n",
       "      <td>216644</td>\n",
       "    </tr>\n",
       "    <tr>\n",
       "      <th>216645</th>\n",
       "      <td>18.0</td>\n",
       "      <td>12.0</td>\n",
       "      <td>216645</td>\n",
       "    </tr>\n",
       "    <tr>\n",
       "      <th>216646</th>\n",
       "      <td>7.0</td>\n",
       "      <td>18.0</td>\n",
       "      <td>216646</td>\n",
       "    </tr>\n",
       "    <tr>\n",
       "      <th>216647</th>\n",
       "      <td>10.0</td>\n",
       "      <td>15.0</td>\n",
       "      <td>216647</td>\n",
       "    </tr>\n",
       "  </tbody>\n",
       "</table>\n",
       "<p>1300 rows × 3 columns</p>\n",
       "</div>"
      ],
      "text/plain": [
       "        текущий_месяц_time  предыдущий_месяц_time      id\n",
       "id                                                       \n",
       "215348                14.0                   13.0  215348\n",
       "215349                10.0                   12.0  215349\n",
       "215350                13.0                    8.0  215350\n",
       "215351                13.0                   11.0  215351\n",
       "215352                11.0                    8.0  215352\n",
       "...                    ...                    ...     ...\n",
       "216643                 7.0                   14.0  216643\n",
       "216644                11.0                   12.0  216644\n",
       "216645                18.0                   12.0  216645\n",
       "216646                 7.0                   18.0  216646\n",
       "216647                10.0                   15.0  216647\n",
       "\n",
       "[1300 rows x 3 columns]"
      ]
     },
     "execution_count": 89,
     "metadata": {},
     "output_type": "execute_result"
    }
   ],
   "source": [
    "market_time_processed_transformed = market_time_processed_transformed.rename(columns={'предыдцщий_месяц_time':'предыдущий_месяц_time'})\n",
    "market_time_processed_transformed"
   ]
  },
  {
   "cell_type": "code",
   "execution_count": 90,
   "metadata": {},
   "outputs": [],
   "source": [
    "#объединим таблицы\n",
    "df = market_file_processed.join(market_time_processed_transformed, on='id', how='inner', rsuffix='_')\n",
    "df = df.join(market_money_processed_transformed, on='id', how='inner', rsuffix='_')\n",
    "df = df.drop(columns='id_')"
   ]
  },
  {
   "cell_type": "code",
   "execution_count": 91,
   "metadata": {},
   "outputs": [
    {
     "data": {
      "text/html": [
       "<div>\n",
       "<style scoped>\n",
       "    .dataframe tbody tr th:only-of-type {\n",
       "        vertical-align: middle;\n",
       "    }\n",
       "\n",
       "    .dataframe tbody tr th {\n",
       "        vertical-align: top;\n",
       "    }\n",
       "\n",
       "    .dataframe thead th {\n",
       "        text-align: right;\n",
       "    }\n",
       "</style>\n",
       "<table border=\"1\" class=\"dataframe\">\n",
       "  <thead>\n",
       "    <tr style=\"text-align: right;\">\n",
       "      <th></th>\n",
       "      <th>id</th>\n",
       "      <th>покупательская_активность</th>\n",
       "      <th>тип_сервиса</th>\n",
       "      <th>разрешить_сообщать</th>\n",
       "      <th>маркет_актив_6_мес</th>\n",
       "      <th>маркет_актив_тек_мес</th>\n",
       "      <th>длительность</th>\n",
       "      <th>акционные_покупки</th>\n",
       "      <th>популярная_категория</th>\n",
       "      <th>средний_просмотр_категорий_за_визит</th>\n",
       "      <th>неоплаченные_продукты_штук_квартал</th>\n",
       "      <th>ошибка_сервиса</th>\n",
       "      <th>страниц_за_визит</th>\n",
       "      <th>текущий_месяц_time</th>\n",
       "      <th>предыдущий_месяц_time</th>\n",
       "      <th>препредыдущий_месяц_revenue</th>\n",
       "      <th>текущий_месяц_revenue</th>\n",
       "      <th>предыдущий_месяц_revenue</th>\n",
       "    </tr>\n",
       "  </thead>\n",
       "  <tbody>\n",
       "    <tr>\n",
       "      <th>0</th>\n",
       "      <td>215348</td>\n",
       "      <td>Снизилась</td>\n",
       "      <td>премиум</td>\n",
       "      <td>да</td>\n",
       "      <td>3.4</td>\n",
       "      <td>5</td>\n",
       "      <td>121</td>\n",
       "      <td>0.00</td>\n",
       "      <td>Товары для детей</td>\n",
       "      <td>6</td>\n",
       "      <td>2</td>\n",
       "      <td>1</td>\n",
       "      <td>5</td>\n",
       "      <td>14.0</td>\n",
       "      <td>13.0</td>\n",
       "      <td>0.0</td>\n",
       "      <td>3293.1</td>\n",
       "      <td>0.0</td>\n",
       "    </tr>\n",
       "    <tr>\n",
       "      <th>1</th>\n",
       "      <td>215349</td>\n",
       "      <td>Снизилась</td>\n",
       "      <td>премиум</td>\n",
       "      <td>да</td>\n",
       "      <td>4.4</td>\n",
       "      <td>4</td>\n",
       "      <td>819</td>\n",
       "      <td>0.75</td>\n",
       "      <td>Товары для детей</td>\n",
       "      <td>4</td>\n",
       "      <td>4</td>\n",
       "      <td>2</td>\n",
       "      <td>5</td>\n",
       "      <td>10.0</td>\n",
       "      <td>12.0</td>\n",
       "      <td>4472.0</td>\n",
       "      <td>4971.6</td>\n",
       "      <td>5216.0</td>\n",
       "    </tr>\n",
       "    <tr>\n",
       "      <th>2</th>\n",
       "      <td>215350</td>\n",
       "      <td>Снизилась</td>\n",
       "      <td>стандарт</td>\n",
       "      <td>нет</td>\n",
       "      <td>4.9</td>\n",
       "      <td>3</td>\n",
       "      <td>539</td>\n",
       "      <td>0.14</td>\n",
       "      <td>Домашний текстиль</td>\n",
       "      <td>5</td>\n",
       "      <td>2</td>\n",
       "      <td>1</td>\n",
       "      <td>5</td>\n",
       "      <td>13.0</td>\n",
       "      <td>8.0</td>\n",
       "      <td>4826.0</td>\n",
       "      <td>5058.4</td>\n",
       "      <td>5457.5</td>\n",
       "    </tr>\n",
       "    <tr>\n",
       "      <th>3</th>\n",
       "      <td>215351</td>\n",
       "      <td>Снизилась</td>\n",
       "      <td>стандарт</td>\n",
       "      <td>да</td>\n",
       "      <td>3.2</td>\n",
       "      <td>5</td>\n",
       "      <td>896</td>\n",
       "      <td>0.99</td>\n",
       "      <td>Товары для детей</td>\n",
       "      <td>5</td>\n",
       "      <td>0</td>\n",
       "      <td>6</td>\n",
       "      <td>4</td>\n",
       "      <td>13.0</td>\n",
       "      <td>11.0</td>\n",
       "      <td>4793.0</td>\n",
       "      <td>6610.4</td>\n",
       "      <td>6158.0</td>\n",
       "    </tr>\n",
       "    <tr>\n",
       "      <th>4</th>\n",
       "      <td>215352</td>\n",
       "      <td>Снизилась</td>\n",
       "      <td>стандарт</td>\n",
       "      <td>нет</td>\n",
       "      <td>5.1</td>\n",
       "      <td>3</td>\n",
       "      <td>1064</td>\n",
       "      <td>0.94</td>\n",
       "      <td>Товары для детей</td>\n",
       "      <td>3</td>\n",
       "      <td>2</td>\n",
       "      <td>3</td>\n",
       "      <td>2</td>\n",
       "      <td>11.0</td>\n",
       "      <td>8.0</td>\n",
       "      <td>4594.0</td>\n",
       "      <td>5872.5</td>\n",
       "      <td>5807.5</td>\n",
       "    </tr>\n",
       "    <tr>\n",
       "      <th>...</th>\n",
       "      <td>...</td>\n",
       "      <td>...</td>\n",
       "      <td>...</td>\n",
       "      <td>...</td>\n",
       "      <td>...</td>\n",
       "      <td>...</td>\n",
       "      <td>...</td>\n",
       "      <td>...</td>\n",
       "      <td>...</td>\n",
       "      <td>...</td>\n",
       "      <td>...</td>\n",
       "      <td>...</td>\n",
       "      <td>...</td>\n",
       "      <td>...</td>\n",
       "      <td>...</td>\n",
       "      <td>...</td>\n",
       "      <td>...</td>\n",
       "      <td>...</td>\n",
       "    </tr>\n",
       "    <tr>\n",
       "      <th>1295</th>\n",
       "      <td>216643</td>\n",
       "      <td>Прежний уровень</td>\n",
       "      <td>стандарт</td>\n",
       "      <td>да</td>\n",
       "      <td>6.6</td>\n",
       "      <td>3</td>\n",
       "      <td>318</td>\n",
       "      <td>0.24</td>\n",
       "      <td>Техника для красоты и здоровья</td>\n",
       "      <td>5</td>\n",
       "      <td>3</td>\n",
       "      <td>3</td>\n",
       "      <td>11</td>\n",
       "      <td>7.0</td>\n",
       "      <td>14.0</td>\n",
       "      <td>4704.0</td>\n",
       "      <td>4741.7</td>\n",
       "      <td>3664.0</td>\n",
       "    </tr>\n",
       "    <tr>\n",
       "      <th>1296</th>\n",
       "      <td>216644</td>\n",
       "      <td>Прежний уровень</td>\n",
       "      <td>стандарт</td>\n",
       "      <td>нет</td>\n",
       "      <td>5.1</td>\n",
       "      <td>4</td>\n",
       "      <td>454</td>\n",
       "      <td>0.21</td>\n",
       "      <td>Домашний текстиль</td>\n",
       "      <td>6</td>\n",
       "      <td>2</td>\n",
       "      <td>3</td>\n",
       "      <td>9</td>\n",
       "      <td>11.0</td>\n",
       "      <td>12.0</td>\n",
       "      <td>5299.0</td>\n",
       "      <td>5353.0</td>\n",
       "      <td>4729.0</td>\n",
       "    </tr>\n",
       "    <tr>\n",
       "      <th>1297</th>\n",
       "      <td>216645</td>\n",
       "      <td>Прежний уровень</td>\n",
       "      <td>стандарт</td>\n",
       "      <td>да</td>\n",
       "      <td>4.1</td>\n",
       "      <td>3</td>\n",
       "      <td>586</td>\n",
       "      <td>0.20</td>\n",
       "      <td>Домашний текстиль</td>\n",
       "      <td>3</td>\n",
       "      <td>2</td>\n",
       "      <td>5</td>\n",
       "      <td>7</td>\n",
       "      <td>18.0</td>\n",
       "      <td>12.0</td>\n",
       "      <td>5334.0</td>\n",
       "      <td>5139.2</td>\n",
       "      <td>5160.0</td>\n",
       "    </tr>\n",
       "    <tr>\n",
       "      <th>1298</th>\n",
       "      <td>216646</td>\n",
       "      <td>Прежний уровень</td>\n",
       "      <td>стандарт</td>\n",
       "      <td>да</td>\n",
       "      <td>6.3</td>\n",
       "      <td>5</td>\n",
       "      <td>645</td>\n",
       "      <td>0.12</td>\n",
       "      <td>Техника для красоты и здоровья</td>\n",
       "      <td>3</td>\n",
       "      <td>3</td>\n",
       "      <td>5</td>\n",
       "      <td>7</td>\n",
       "      <td>7.0</td>\n",
       "      <td>18.0</td>\n",
       "      <td>4725.0</td>\n",
       "      <td>5224.6</td>\n",
       "      <td>4923.0</td>\n",
       "    </tr>\n",
       "    <tr>\n",
       "      <th>1299</th>\n",
       "      <td>216647</td>\n",
       "      <td>Прежний уровень</td>\n",
       "      <td>премиум</td>\n",
       "      <td>да</td>\n",
       "      <td>4.0</td>\n",
       "      <td>5</td>\n",
       "      <td>906</td>\n",
       "      <td>0.94</td>\n",
       "      <td>Техника для красоты и здоровья</td>\n",
       "      <td>4</td>\n",
       "      <td>5</td>\n",
       "      <td>3</td>\n",
       "      <td>12</td>\n",
       "      <td>10.0</td>\n",
       "      <td>15.0</td>\n",
       "      <td>5183.0</td>\n",
       "      <td>4448.3</td>\n",
       "      <td>4720.0</td>\n",
       "    </tr>\n",
       "  </tbody>\n",
       "</table>\n",
       "<p>1300 rows × 18 columns</p>\n",
       "</div>"
      ],
      "text/plain": [
       "          id покупательская_активность тип_сервиса разрешить_сообщать  \\\n",
       "0     215348                 Снизилась     премиум                 да   \n",
       "1     215349                 Снизилась     премиум                 да   \n",
       "2     215350                 Снизилась    стандарт                нет   \n",
       "3     215351                 Снизилась    стандарт                 да   \n",
       "4     215352                 Снизилась    стандарт                нет   \n",
       "...      ...                       ...         ...                ...   \n",
       "1295  216643           Прежний уровень    стандарт                 да   \n",
       "1296  216644           Прежний уровень    стандарт                нет   \n",
       "1297  216645           Прежний уровень    стандарт                 да   \n",
       "1298  216646           Прежний уровень    стандарт                 да   \n",
       "1299  216647           Прежний уровень     премиум                 да   \n",
       "\n",
       "      маркет_актив_6_мес  маркет_актив_тек_мес  длительность  \\\n",
       "0                    3.4                     5           121   \n",
       "1                    4.4                     4           819   \n",
       "2                    4.9                     3           539   \n",
       "3                    3.2                     5           896   \n",
       "4                    5.1                     3          1064   \n",
       "...                  ...                   ...           ...   \n",
       "1295                 6.6                     3           318   \n",
       "1296                 5.1                     4           454   \n",
       "1297                 4.1                     3           586   \n",
       "1298                 6.3                     5           645   \n",
       "1299                 4.0                     5           906   \n",
       "\n",
       "      акционные_покупки            популярная_категория  \\\n",
       "0                  0.00                Товары для детей   \n",
       "1                  0.75                Товары для детей   \n",
       "2                  0.14               Домашний текстиль   \n",
       "3                  0.99                Товары для детей   \n",
       "4                  0.94                Товары для детей   \n",
       "...                 ...                             ...   \n",
       "1295               0.24  Техника для красоты и здоровья   \n",
       "1296               0.21               Домашний текстиль   \n",
       "1297               0.20               Домашний текстиль   \n",
       "1298               0.12  Техника для красоты и здоровья   \n",
       "1299               0.94  Техника для красоты и здоровья   \n",
       "\n",
       "      средний_просмотр_категорий_за_визит  неоплаченные_продукты_штук_квартал  \\\n",
       "0                                       6                                   2   \n",
       "1                                       4                                   4   \n",
       "2                                       5                                   2   \n",
       "3                                       5                                   0   \n",
       "4                                       3                                   2   \n",
       "...                                   ...                                 ...   \n",
       "1295                                    5                                   3   \n",
       "1296                                    6                                   2   \n",
       "1297                                    3                                   2   \n",
       "1298                                    3                                   3   \n",
       "1299                                    4                                   5   \n",
       "\n",
       "      ошибка_сервиса  страниц_за_визит  текущий_месяц_time  \\\n",
       "0                  1                 5                14.0   \n",
       "1                  2                 5                10.0   \n",
       "2                  1                 5                13.0   \n",
       "3                  6                 4                13.0   \n",
       "4                  3                 2                11.0   \n",
       "...              ...               ...                 ...   \n",
       "1295               3                11                 7.0   \n",
       "1296               3                 9                11.0   \n",
       "1297               5                 7                18.0   \n",
       "1298               5                 7                 7.0   \n",
       "1299               3                12                10.0   \n",
       "\n",
       "      предыдущий_месяц_time  препредыдущий_месяц_revenue  \\\n",
       "0                      13.0                          0.0   \n",
       "1                      12.0                       4472.0   \n",
       "2                       8.0                       4826.0   \n",
       "3                      11.0                       4793.0   \n",
       "4                       8.0                       4594.0   \n",
       "...                     ...                          ...   \n",
       "1295                   14.0                       4704.0   \n",
       "1296                   12.0                       5299.0   \n",
       "1297                   12.0                       5334.0   \n",
       "1298                   18.0                       4725.0   \n",
       "1299                   15.0                       5183.0   \n",
       "\n",
       "      текущий_месяц_revenue  предыдущий_месяц_revenue  \n",
       "0                    3293.1                       0.0  \n",
       "1                    4971.6                    5216.0  \n",
       "2                    5058.4                    5457.5  \n",
       "3                    6610.4                    6158.0  \n",
       "4                    5872.5                    5807.5  \n",
       "...                     ...                       ...  \n",
       "1295                 4741.7                    3664.0  \n",
       "1296                 5353.0                    4729.0  \n",
       "1297                 5139.2                    5160.0  \n",
       "1298                 5224.6                    4923.0  \n",
       "1299                 4448.3                    4720.0  \n",
       "\n",
       "[1300 rows x 18 columns]"
      ]
     },
     "execution_count": 91,
     "metadata": {},
     "output_type": "execute_result"
    }
   ],
   "source": [
    "df"
   ]
  },
  {
   "cell_type": "markdown",
   "metadata": {},
   "source": [
    "\n",
    "### Вывод\n",
    "1. **На данном шаге проведено объединение данных**  \n",
    "    - Таблицы были преобразованы таким образом, чтобы каждый период стал отдельным столбцом, что упростило анализ временных данных.  \n",
    "    - Объединение таблиц позволило собрать всю информацию о клиентах в единую структуру, что облегчает дальнейший анализ и построение моделей.  \n",
    "    - Удалены лишние столбцы, чтобы избежать дублирования данных.  \n",
    "    - Итоговая таблица содержит все необходимые данные для последующих этапов анализа и моделирования."
   ]
  },
  {
   "cell_type": "markdown",
   "metadata": {},
   "source": [
    "## Шаг 5. Корреляционный анализ"
   ]
  },
  {
   "cell_type": "code",
   "execution_count": 92,
   "metadata": {},
   "outputs": [
    {
     "data": {
      "text/plain": [
       "['покупательская_активность',\n",
       " 'тип_сервиса',\n",
       " 'разрешить_сообщать',\n",
       " 'популярная_категория']"
      ]
     },
     "execution_count": 92,
     "metadata": {},
     "output_type": "execute_result"
    }
   ],
   "source": [
    "cat_features = df.select_dtypes(include=['object']).columns.to_list()\n",
    "cat_features"
   ]
  },
  {
   "cell_type": "code",
   "execution_count": 107,
   "metadata": {},
   "outputs": [
    {
     "data": {
      "text/plain": [
       "['маркет_актив_6_мес',\n",
       " 'длительность',\n",
       " 'акционные_покупки',\n",
       " 'текущий_месяц_time',\n",
       " 'предыдущий_месяц_time',\n",
       " 'препредыдущий_месяц_revenue',\n",
       " 'текущий_месяц_revenue',\n",
       " 'предыдущий_месяц_revenue']"
      ]
     },
     "execution_count": 107,
     "metadata": {},
     "output_type": "execute_result"
    }
   ],
   "source": [
    "num_features = df.select_dtypes(include=['int64', 'float64']).columns.to_list()\n",
    "discrete_columns=['id', 'ошибка_сервиса', 'средний_просмотр_категорий_за_визит', 'маркет_актив_тек_мес', 'страниц_за_визит', 'неоплаченные_продукты_штук_квартал']\n",
    "num_features = list(filter(lambda item: item not in discrete_columns, num_features))\n",
    "num_features"
   ]
  },
  {
   "cell_type": "code",
   "execution_count": 108,
   "metadata": {},
   "outputs": [
    {
     "data": {
      "image/png": "[encoded data removed]",
      "text/plain": [
       "<Figure size 1440x1080 with 2 Axes>"
      ]
     },
     "metadata": {
      "needs_background": "light"
     },
     "output_type": "display_data"
    }
   ],
   "source": [
    "phik_overview = df[num_features].phik_matrix(interval_cols=num_features)\n",
    "\n",
    "plot_correlation_matrix(\n",
    "    phik_overview.values,\n",
    "    x_labels=phik_overview.columns,\n",
    "    y_labels=phik_overview.index,\n",
    "    figsize=(20, 15)\n",
    ") "
   ]
  },
  {
   "cell_type": "markdown",
   "metadata": {},
   "source": [
    "\n",
    "### Вывод\n",
    "\n",
    "Для анализа корреляции между числовыми признаками был построен корреляционный анализ с использованием `phik_matrix`. Ниже представлены основные выводы:\n",
    "\n",
    "1. **Высокая корреляция между признаками:**\n",
    "    - `акционные_покупки` и `препредыдущий_месяц_revenue` имеют высокую корреляцию (0.75).\n",
    "    - `препредыдущий_месяц_revenue` и `предыдущий_месяц_revenue` также сильно коррелируют (0.73).\n",
    "\n",
    "2. **Мультиколлинеарность:**\n",
    "    - Высокая корреляция между признаками может указывать на наличие мультиколлинеарности, что может негативно повлиять на интерпретацию модели и её стабильность.\n",
    "\n",
    "3. **Рекомендации по устранению мультиколлинеарности:**\n",
    "    - Удалить один из признаков с высокой корреляцией. Например:\n",
    "      - Исключить `препредыдущий_месяц_revenue` или `предыдущий_месяц_revenue`, так как они сильно коррелируют.\n",
    "      - Исключить `акционные_покупки`, так как он коррелирует с `препредыдущий_месяц_revenue`."
   ]
  },
  {
   "cell_type": "markdown",
   "metadata": {},
   "source": [
    "## Шаг 6. Использование пайплайнов"
   ]
  },
  {
   "cell_type": "code",
   "execution_count": 27,
   "metadata": {},
   "outputs": [
    {
     "data": {
      "text/plain": [
       "((975, 14), (325, 14), (975,), (325,))"
      ]
     },
     "execution_count": 27,
     "metadata": {},
     "output_type": "execute_result"
    }
   ],
   "source": [
    "RANDOM_STATE = 42\n",
    "TEST_SIZE = 0.25\n",
    "\n",
    "X_train, X_test, y_train, y_test = train_test_split(\n",
    "    df.drop(columns=['препредыдущий_месяц_revenue', 'акционные_покупки', 'покупательская_активность', 'id'], axis=1),\n",
    "    df['покупательская_активность'],\n",
    "    test_size = TEST_SIZE, \n",
    "    random_state = RANDOM_STATE,\n",
    "    stratify = df['покупательская_активность'])\n",
    "\n",
    "X_train.shape, X_test.shape, y_train.shape, y_test.shape"
   ]
  },
  {
   "cell_type": "code",
   "execution_count": 28,
   "metadata": {},
   "outputs": [
    {
     "data": {
      "text/plain": [
       "(Index(['тип_сервиса', 'разрешить_сообщать', 'популярная_категория'], dtype='object'),\n",
       " Index(['маркет_актив_6_мес', 'маркет_актив_тек_мес', 'длительность',\n",
       "        'средний_просмотр_категорий_за_визит',\n",
       "        'неоплаченные_продукты_штук_квартал', 'ошибка_сервиса',\n",
       "        'страниц_за_визит', 'текущий_месяц_time', 'предыдущий_месяц_time',\n",
       "        'текущий_месяц_revenue', 'предыдущий_месяц_revenue'],\n",
       "       dtype='object'))"
      ]
     },
     "execution_count": 28,
     "metadata": {},
     "output_type": "execute_result"
    }
   ],
   "source": [
    "cat_features = X_train.select_dtypes(include=['object']).columns\n",
    "num_features = X_train.select_dtypes(include=['int64', 'float64']).columns\n",
    "\n",
    "cat_features, num_features\n"
   ]
  },
  {
   "cell_type": "code",
   "execution_count": 29,
   "metadata": {},
   "outputs": [
    {
     "data": {
      "text/plain": [
       "array(['премиум', 'стандарт'], dtype=object)"
      ]
     },
     "execution_count": 29,
     "metadata": {},
     "output_type": "execute_result"
    }
   ],
   "source": [
    "df['тип_сервиса'].unique()"
   ]
  },
  {
   "cell_type": "code",
   "execution_count": 30,
   "metadata": {},
   "outputs": [
    {
     "name": "stdout",
     "output_type": "stream",
     "text": [
      "Размерность преобразованных данных: (975, 18)\n"
     ]
    }
   ],
   "source": [
    "# Разделяем категориальные признаки на номинальные и порядковые\n",
    "nominal_features = ['разрешить_сообщать', 'популярная_категория']  # признаки без порядка\n",
    "ordinal_features = ['тип_сервиса']   # признаки с порядком\n",
    "\n",
    "# Пайплайн для числовых признаков\n",
    "num_pipe = Pipeline([\n",
    "    ('imputer', SimpleImputer(strategy='mean')),\n",
    "    ('scaler', StandardScaler())\n",
    "])\n",
    "\n",
    "# Пайплайн для номинальных признаков (One-Hot кодирование)\n",
    "nominal_pipe = Pipeline([\n",
    "    ('imputer', SimpleImputer(strategy='most_frequent')),\n",
    "    ('onehot', OneHotEncoder(drop='first', \n",
    "                            sparse_output=False, \n",
    "                            handle_unknown='ignore'))\n",
    "])\n",
    "\n",
    "# Пайплайн для порядковых признаков (Ordinal кодирование)\n",
    "ordinal_pipe = Pipeline([\n",
    "    ('imputer', SimpleImputer(strategy='most_frequent')),\n",
    "    ('ordinal', OrdinalEncoder(\n",
    "        categories=[['стандарт', 'премиум']],\n",
    "        handle_unknown='use_encoded_value',\n",
    "        unknown_value=-1\n",
    "    ))\n",
    "])\n",
    "\n",
    "# Объединяем все в один препроцессор\n",
    "data_preprocessor = ColumnTransformer(\n",
    "    [\n",
    "        ('nominal', nominal_pipe, nominal_features),\n",
    "        ('ordinal', ordinal_pipe, ordinal_features),\n",
    "        ('numeric', num_pipe, num_features)\n",
    "    ],\n",
    "    remainder='passthrough'\n",
    ")\n",
    "\n",
    "# Проверяем преобразование данных\n",
    "X_transformed = data_preprocessor.fit_transform(X_train)\n",
    "print(\"Размерность преобразованных данных:\", X_transformed.shape)"
   ]
  },
  {
   "cell_type": "code",
   "execution_count": null,
   "metadata": {},
   "outputs": [
    {
     "name": "stdout",
     "output_type": "stream",
     "text": [
      "Соответствие категорий: {'Прежний уровень': 0, 'Снизилась': 1}\n",
      "Fitting 5 folds for each of 50 candidates, totalling 250 fits\n",
      "[CV] END models=DecisionTreeClassifier(random_state=42), models__max_depth=5, models__max_features=sqrt, models__min_samples_split=5, preprocessor__numeric=StandardScaler(); total time=   0.1s\n",
      "[CV] END models=DecisionTreeClassifier(random_state=42), models__max_depth=5, models__max_features=sqrt, models__min_samples_split=5, preprocessor__numeric=StandardScaler(); total time=   0.0s\n",
      "[CV] END models=DecisionTreeClassifier(random_state=42), models__max_depth=5, models__max_features=sqrt, models__min_samples_split=5, preprocessor__numeric=StandardScaler(); total time=   0.0s\n",
      "[CV] END models=DecisionTreeClassifier(random_state=42), models__max_depth=5, models__max_features=sqrt, models__min_samples_split=5, preprocessor__numeric=StandardScaler(); total time=   0.0s\n",
      "[CV] END models=DecisionTreeClassifier(random_state=42), models__max_depth=5, models__max_features=sqrt, models__min_samples_split=5, preprocessor__numeric=StandardScaler(); total time=   0.0s\n",
      "[CV] END models=DecisionTreeClassifier(random_state=42), models__max_depth=None, models__max_features=None, models__min_samples_split=10, preprocessor__numeric=MinMaxScaler(); total time=   0.1s\n",
      "[CV] END models=DecisionTreeClassifier(random_state=42), models__max_depth=None, models__max_features=None, models__min_samples_split=10, preprocessor__numeric=MinMaxScaler(); total time=   0.1s\n",
      "[CV] END models=DecisionTreeClassifier(random_state=42), models__max_depth=None, models__max_features=None, models__min_samples_split=10, preprocessor__numeric=MinMaxScaler(); total time=   0.1s\n",
      "[CV] END models=DecisionTreeClassifier(random_state=42), models__max_depth=None, models__max_features=None, models__min_samples_split=10, preprocessor__numeric=MinMaxScaler(); total time=   0.1s\n",
      "[CV] END models=DecisionTreeClassifier(random_state=42), models__max_depth=None, models__max_features=None, models__min_samples_split=10, preprocessor__numeric=MinMaxScaler(); total time=   0.1s\n",
      "[CV] END models=DecisionTreeClassifier(random_state=42), models__max_depth=2, models__max_features=sqrt, models__min_samples_split=10, preprocessor__numeric=StandardScaler(); total time=   0.1s\n",
      "[CV] END models=DecisionTreeClassifier(random_state=42), models__max_depth=2, models__max_features=sqrt, models__min_samples_split=10, preprocessor__numeric=StandardScaler(); total time=   0.0s\n",
      "[CV] END models=DecisionTreeClassifier(random_state=42), models__max_depth=2, models__max_features=sqrt, models__min_samples_split=10, preprocessor__numeric=StandardScaler(); total time=   0.0s\n",
      "[CV] END models=DecisionTreeClassifier(random_state=42), models__max_depth=2, models__max_features=sqrt, models__min_samples_split=10, preprocessor__numeric=StandardScaler(); total time=   0.0s\n",
      "[CV] END models=DecisionTreeClassifier(random_state=42), models__max_depth=2, models__max_features=sqrt, models__min_samples_split=10, preprocessor__numeric=StandardScaler(); total time=   0.0s\n",
      "[CV] END models=DecisionTreeClassifier(random_state=42), models__max_depth=4, models__max_features=log2, models__min_samples_split=5, preprocessor__numeric=MinMaxScaler(); total time=   0.0s\n",
      "[CV] END models=DecisionTreeClassifier(random_state=42), models__max_depth=4, models__max_features=log2, models__min_samples_split=5, preprocessor__numeric=MinMaxScaler(); total time=   0.1s\n",
      "[CV] END models=DecisionTreeClassifier(random_state=42), models__max_depth=4, models__max_features=log2, models__min_samples_split=5, preprocessor__numeric=MinMaxScaler(); total time=   0.0s\n",
      "[CV] END models=DecisionTreeClassifier(random_state=42), models__max_depth=4, models__max_features=log2, models__min_samples_split=5, preprocessor__numeric=MinMaxScaler(); total time=   0.1s\n",
      "[CV] END models=DecisionTreeClassifier(random_state=42), models__max_depth=4, models__max_features=log2, models__min_samples_split=5, preprocessor__numeric=MinMaxScaler(); total time=   0.0s\n",
      "[CV] END models=DecisionTreeClassifier(random_state=42), models__max_depth=3, models__max_features=log2, models__min_samples_split=5, preprocessor__numeric=StandardScaler(); total time=   0.0s\n",
      "[CV] END models=DecisionTreeClassifier(random_state=42), models__max_depth=3, models__max_features=log2, models__min_samples_split=5, preprocessor__numeric=StandardScaler(); total time=   0.1s\n",
      "[CV] END models=DecisionTreeClassifier(random_state=42), models__max_depth=3, models__max_features=log2, models__min_samples_split=5, preprocessor__numeric=StandardScaler(); total time=   0.0s\n",
      "[CV] END models=DecisionTreeClassifier(random_state=42), models__max_depth=3, models__max_features=log2, models__min_samples_split=5, preprocessor__numeric=StandardScaler(); total time=   0.0s\n",
      "[CV] END models=DecisionTreeClassifier(random_state=42), models__max_depth=3, models__max_features=log2, models__min_samples_split=5, preprocessor__numeric=StandardScaler(); total time=   0.0s\n",
      "[CV] END models=SVC(probability=True, random_state=42), models__kernel=rbf, preprocessor__numeric=StandardScaler(); total time=   0.1s\n",
      "[CV] END models=SVC(probability=True, random_state=42), models__kernel=rbf, preprocessor__numeric=StandardScaler(); total time=   0.1s\n",
      "[CV] END models=SVC(probability=True, random_state=42), models__kernel=rbf, preprocessor__numeric=StandardScaler(); total time=   0.1s\n",
      "[CV] END models=SVC(probability=True, random_state=42), models__kernel=rbf, preprocessor__numeric=StandardScaler(); total time=   0.1s\n",
      "[CV] END models=SVC(probability=True, random_state=42), models__kernel=rbf, preprocessor__numeric=StandardScaler(); total time=   0.1s\n",
      "[CV] END models=DecisionTreeClassifier(random_state=42), models__max_depth=5, models__max_features=None, models__min_samples_split=5, preprocessor__numeric=MinMaxScaler(); total time=   0.1s\n",
      "[CV] END models=DecisionTreeClassifier(random_state=42), models__max_depth=5, models__max_features=None, models__min_samples_split=5, preprocessor__numeric=MinMaxScaler(); total time=   0.0s\n",
      "[CV] END models=DecisionTreeClassifier(random_state=42), models__max_depth=5, models__max_features=None, models__min_samples_split=5, preprocessor__numeric=MinMaxScaler(); total time=   0.0s\n",
      "[CV] END models=DecisionTreeClassifier(random_state=42), models__max_depth=5, models__max_features=None, models__min_samples_split=5, preprocessor__numeric=MinMaxScaler(); total time=   0.0s\n",
      "[CV] END models=DecisionTreeClassifier(random_state=42), models__max_depth=5, models__max_features=None, models__min_samples_split=5, preprocessor__numeric=MinMaxScaler(); total time=   0.1s\n",
      "[CV] END models=DecisionTreeClassifier(random_state=42), models__max_depth=2, models__max_features=log2, models__min_samples_split=10, preprocessor__numeric=StandardScaler(); total time=   0.0s\n",
      "[CV] END models=DecisionTreeClassifier(random_state=42), models__max_depth=2, models__max_features=log2, models__min_samples_split=10, preprocessor__numeric=StandardScaler(); total time=   0.0s\n",
      "[CV] END models=DecisionTreeClassifier(random_state=42), models__max_depth=2, models__max_features=log2, models__min_samples_split=10, preprocessor__numeric=StandardScaler(); total time=   0.0s\n",
      "[CV] END models=DecisionTreeClassifier(random_state=42), models__max_depth=2, models__max_features=log2, models__min_samples_split=10, preprocessor__numeric=StandardScaler(); total time=   0.0s\n",
      "[CV] END models=DecisionTreeClassifier(random_state=42), models__max_depth=2, models__max_features=log2, models__min_samples_split=10, preprocessor__numeric=StandardScaler(); total time=   0.0s\n",
      "[CV] END models=KNeighborsClassifier(), models__metric=euclidean, models__n_neighbors=3, preprocessor__numeric=StandardScaler(); total time=   0.4s\n",
      "[CV] END models=KNeighborsClassifier(), models__metric=euclidean, models__n_neighbors=3, preprocessor__numeric=StandardScaler(); total time=   0.0s\n",
      "[CV] END models=KNeighborsClassifier(), models__metric=euclidean, models__n_neighbors=3, preprocessor__numeric=StandardScaler(); total time=   0.1s\n",
      "[CV] END models=KNeighborsClassifier(), models__metric=euclidean, models__n_neighbors=3, preprocessor__numeric=StandardScaler(); total time=   0.0s\n",
      "[CV] END models=KNeighborsClassifier(), models__metric=euclidean, models__n_neighbors=3, preprocessor__numeric=StandardScaler(); total time=   0.0s\n",
      "[CV] END models=DecisionTreeClassifier(random_state=42), models__max_depth=None, models__max_features=sqrt, models__min_samples_split=2, preprocessor__numeric=MinMaxScaler(); total time=   0.0s\n",
      "[CV] END models=DecisionTreeClassifier(random_state=42), models__max_depth=None, models__max_features=sqrt, models__min_samples_split=2, preprocessor__numeric=MinMaxScaler(); total time=   0.0s\n",
      "[CV] END models=DecisionTreeClassifier(random_state=42), models__max_depth=None, models__max_features=sqrt, models__min_samples_split=2, preprocessor__numeric=MinMaxScaler(); total time=   0.0s\n",
      "[CV] END models=DecisionTreeClassifier(random_state=42), models__max_depth=None, models__max_features=sqrt, models__min_samples_split=2, preprocessor__numeric=MinMaxScaler(); total time=   0.0s\n",
      "[CV] END models=DecisionTreeClassifier(random_state=42), models__max_depth=None, models__max_features=sqrt, models__min_samples_split=2, preprocessor__numeric=MinMaxScaler(); total time=   0.1s\n",
      "[CV] END models=DecisionTreeClassifier(random_state=42), models__max_depth=3, models__max_features=sqrt, models__min_samples_split=2, preprocessor__numeric=StandardScaler(); total time=   0.0s\n",
      "[CV] END models=DecisionTreeClassifier(random_state=42), models__max_depth=3, models__max_features=sqrt, models__min_samples_split=2, preprocessor__numeric=StandardScaler(); total time=   0.0s\n",
      "[CV] END models=DecisionTreeClassifier(random_state=42), models__max_depth=3, models__max_features=sqrt, models__min_samples_split=2, preprocessor__numeric=StandardScaler(); total time=   0.0s\n",
      "[CV] END models=DecisionTreeClassifier(random_state=42), models__max_depth=3, models__max_features=sqrt, models__min_samples_split=2, preprocessor__numeric=StandardScaler(); total time=   0.0s\n",
      "[CV] END models=DecisionTreeClassifier(random_state=42), models__max_depth=3, models__max_features=sqrt, models__min_samples_split=2, preprocessor__numeric=StandardScaler(); total time=   0.0s\n",
      "[CV] END models=LogisticRegression(random_state=42), models__penalty=l2, models__solver=liblinear, preprocessor__numeric=MinMaxScaler(); total time=   0.0s\n",
      "[CV] END models=LogisticRegression(random_state=42), models__penalty=l2, models__solver=liblinear, preprocessor__numeric=MinMaxScaler(); total time=   0.0s\n",
      "[CV] END models=LogisticRegression(random_state=42), models__penalty=l2, models__solver=liblinear, preprocessor__numeric=MinMaxScaler(); total time=   0.0s\n",
      "[CV] END models=LogisticRegression(random_state=42), models__penalty=l2, models__solver=liblinear, preprocessor__numeric=MinMaxScaler(); total time=   0.1s\n",
      "[CV] END models=LogisticRegression(random_state=42), models__penalty=l2, models__solver=liblinear, preprocessor__numeric=MinMaxScaler(); total time=   0.1s\n",
      "[CV] END models=DecisionTreeClassifier(random_state=42), models__max_depth=2, models__max_features=log2, models__min_samples_split=10, preprocessor__numeric=MinMaxScaler(); total time=   0.0s\n",
      "[CV] END models=DecisionTreeClassifier(random_state=42), models__max_depth=2, models__max_features=log2, models__min_samples_split=10, preprocessor__numeric=MinMaxScaler(); total time=   0.1s\n",
      "[CV] END models=DecisionTreeClassifier(random_state=42), models__max_depth=2, models__max_features=log2, models__min_samples_split=10, preprocessor__numeric=MinMaxScaler(); total time=   0.0s\n",
      "[CV] END models=DecisionTreeClassifier(random_state=42), models__max_depth=2, models__max_features=log2, models__min_samples_split=10, preprocessor__numeric=MinMaxScaler(); total time=   0.0s\n",
      "[CV] END models=DecisionTreeClassifier(random_state=42), models__max_depth=2, models__max_features=log2, models__min_samples_split=10, preprocessor__numeric=MinMaxScaler(); total time=   0.0s\n",
      "[CV] END models=KNeighborsClassifier(), models__metric=euclidean, models__n_neighbors=9, preprocessor__numeric=StandardScaler(); total time=   0.1s\n",
      "[CV] END models=KNeighborsClassifier(), models__metric=euclidean, models__n_neighbors=9, preprocessor__numeric=StandardScaler(); total time=   0.1s\n",
      "[CV] END models=KNeighborsClassifier(), models__metric=euclidean, models__n_neighbors=9, preprocessor__numeric=StandardScaler(); total time=   0.1s\n",
      "[CV] END models=KNeighborsClassifier(), models__metric=euclidean, models__n_neighbors=9, preprocessor__numeric=StandardScaler(); total time=   0.1s\n",
      "[CV] END models=KNeighborsClassifier(), models__metric=euclidean, models__n_neighbors=9, preprocessor__numeric=StandardScaler(); total time=   0.1s\n",
      "[CV] END models=DecisionTreeClassifier(random_state=42), models__max_depth=4, models__max_features=log2, models__min_samples_split=2, preprocessor__numeric=StandardScaler(); total time=   0.0s\n",
      "[CV] END models=DecisionTreeClassifier(random_state=42), models__max_depth=4, models__max_features=log2, models__min_samples_split=2, preprocessor__numeric=StandardScaler(); total time=   0.1s\n",
      "[CV] END models=DecisionTreeClassifier(random_state=42), models__max_depth=4, models__max_features=log2, models__min_samples_split=2, preprocessor__numeric=StandardScaler(); total time=   0.0s\n",
      "[CV] END models=DecisionTreeClassifier(random_state=42), models__max_depth=4, models__max_features=log2, models__min_samples_split=2, preprocessor__numeric=StandardScaler(); total time=   0.0s\n",
      "[CV] END models=DecisionTreeClassifier(random_state=42), models__max_depth=4, models__max_features=log2, models__min_samples_split=2, preprocessor__numeric=StandardScaler(); total time=   0.0s\n",
      "[CV] END models=DecisionTreeClassifier(random_state=42), models__max_depth=3, models__max_features=None, models__min_samples_split=2, preprocessor__numeric=MinMaxScaler(); total time=   0.0s\n",
      "[CV] END models=DecisionTreeClassifier(random_state=42), models__max_depth=3, models__max_features=None, models__min_samples_split=2, preprocessor__numeric=MinMaxScaler(); total time=   0.0s\n",
      "[CV] END models=DecisionTreeClassifier(random_state=42), models__max_depth=3, models__max_features=None, models__min_samples_split=2, preprocessor__numeric=MinMaxScaler(); total time=   0.1s\n",
      "[CV] END models=DecisionTreeClassifier(random_state=42), models__max_depth=3, models__max_features=None, models__min_samples_split=2, preprocessor__numeric=MinMaxScaler(); total time=   0.0s\n",
      "[CV] END models=DecisionTreeClassifier(random_state=42), models__max_depth=3, models__max_features=None, models__min_samples_split=2, preprocessor__numeric=MinMaxScaler(); total time=   0.0s\n",
      "[CV] END models=DecisionTreeClassifier(random_state=42), models__max_depth=None, models__max_features=None, models__min_samples_split=10, preprocessor__numeric=StandardScaler(); total time=   0.1s\n",
      "[CV] END models=DecisionTreeClassifier(random_state=42), models__max_depth=None, models__max_features=None, models__min_samples_split=10, preprocessor__numeric=StandardScaler(); total time=   0.1s\n",
      "[CV] END models=DecisionTreeClassifier(random_state=42), models__max_depth=None, models__max_features=None, models__min_samples_split=10, preprocessor__numeric=StandardScaler(); total time=   0.0s\n",
      "[CV] END models=DecisionTreeClassifier(random_state=42), models__max_depth=None, models__max_features=None, models__min_samples_split=10, preprocessor__numeric=StandardScaler(); total time=   0.0s\n",
      "[CV] END models=DecisionTreeClassifier(random_state=42), models__max_depth=None, models__max_features=None, models__min_samples_split=10, preprocessor__numeric=StandardScaler(); total time=   0.1s\n",
      "[CV] END models=DecisionTreeClassifier(random_state=42), models__max_depth=2, models__max_features=sqrt, models__min_samples_split=2, preprocessor__numeric=StandardScaler(); total time=   0.0s\n",
      "[CV] END models=DecisionTreeClassifier(random_state=42), models__max_depth=2, models__max_features=sqrt, models__min_samples_split=2, preprocessor__numeric=StandardScaler(); total time=   0.1s\n",
      "[CV] END models=DecisionTreeClassifier(random_state=42), models__max_depth=2, models__max_features=sqrt, models__min_samples_split=2, preprocessor__numeric=StandardScaler(); total time=   0.0s\n",
      "[CV] END models=DecisionTreeClassifier(random_state=42), models__max_depth=2, models__max_features=sqrt, models__min_samples_split=2, preprocessor__numeric=StandardScaler(); total time=   0.0s\n",
      "[CV] END models=DecisionTreeClassifier(random_state=42), models__max_depth=2, models__max_features=sqrt, models__min_samples_split=2, preprocessor__numeric=StandardScaler(); total time=   0.0s\n",
      "[CV] END models=KNeighborsClassifier(), models__metric=euclidean, models__n_neighbors=9, preprocessor__numeric=MinMaxScaler(); total time=   0.1s\n",
      "[CV] END models=KNeighborsClassifier(), models__metric=euclidean, models__n_neighbors=9, preprocessor__numeric=MinMaxScaler(); total time=   0.1s\n",
      "[CV] END models=KNeighborsClassifier(), models__metric=euclidean, models__n_neighbors=9, preprocessor__numeric=MinMaxScaler(); total time=   0.1s\n",
      "[CV] END models=KNeighborsClassifier(), models__metric=euclidean, models__n_neighbors=9, preprocessor__numeric=MinMaxScaler(); total time=   0.1s\n",
      "[CV] END models=KNeighborsClassifier(), models__metric=euclidean, models__n_neighbors=9, preprocessor__numeric=MinMaxScaler(); total time=   0.1s\n",
      "[CV] END models=LogisticRegression(random_state=42), models__penalty=l1, models__solver=saga, preprocessor__numeric=MinMaxScaler(); total time=   0.1s\n",
      "[CV] END models=LogisticRegression(random_state=42), models__penalty=l1, models__solver=saga, preprocessor__numeric=MinMaxScaler(); total time=   0.1s\n",
      "[CV] END models=LogisticRegression(random_state=42), models__penalty=l1, models__solver=saga, preprocessor__numeric=MinMaxScaler(); total time=   0.1s\n",
      "[CV] END models=LogisticRegression(random_state=42), models__penalty=l1, models__solver=saga, preprocessor__numeric=MinMaxScaler(); total time=   0.1s\n",
      "[CV] END models=LogisticRegression(random_state=42), models__penalty=l1, models__solver=saga, preprocessor__numeric=MinMaxScaler(); total time=   0.1s\n",
      "[CV] END models=DecisionTreeClassifier(random_state=42), models__max_depth=5, models__max_features=log2, models__min_samples_split=10, preprocessor__numeric=StandardScaler(); total time=   0.0s\n",
      "[CV] END models=DecisionTreeClassifier(random_state=42), models__max_depth=5, models__max_features=log2, models__min_samples_split=10, preprocessor__numeric=StandardScaler(); total time=   0.0s\n",
      "[CV] END models=DecisionTreeClassifier(random_state=42), models__max_depth=5, models__max_features=log2, models__min_samples_split=10, preprocessor__numeric=StandardScaler(); total time=   0.0s\n",
      "[CV] END models=DecisionTreeClassifier(random_state=42), models__max_depth=5, models__max_features=log2, models__min_samples_split=10, preprocessor__numeric=StandardScaler(); total time=   0.1s\n",
      "[CV] END models=DecisionTreeClassifier(random_state=42), models__max_depth=5, models__max_features=log2, models__min_samples_split=10, preprocessor__numeric=StandardScaler(); total time=   0.0s\n",
      "[CV] END models=DecisionTreeClassifier(random_state=42), models__max_depth=4, models__max_features=sqrt, models__min_samples_split=10, preprocessor__numeric=StandardScaler(); total time=   0.1s\n",
      "[CV] END models=DecisionTreeClassifier(random_state=42), models__max_depth=4, models__max_features=sqrt, models__min_samples_split=10, preprocessor__numeric=StandardScaler(); total time=   0.0s\n",
      "[CV] END models=DecisionTreeClassifier(random_state=42), models__max_depth=4, models__max_features=sqrt, models__min_samples_split=10, preprocessor__numeric=StandardScaler(); total time=   0.0s\n",
      "[CV] END models=DecisionTreeClassifier(random_state=42), models__max_depth=4, models__max_features=sqrt, models__min_samples_split=10, preprocessor__numeric=StandardScaler(); total time=   0.0s\n",
      "[CV] END models=DecisionTreeClassifier(random_state=42), models__max_depth=4, models__max_features=sqrt, models__min_samples_split=10, preprocessor__numeric=StandardScaler(); total time=   0.0s\n",
      "[CV] END models=KNeighborsClassifier(), models__metric=euclidean, models__n_neighbors=7, preprocessor__numeric=MinMaxScaler(); total time=   0.1s\n",
      "[CV] END models=KNeighborsClassifier(), models__metric=euclidean, models__n_neighbors=7, preprocessor__numeric=MinMaxScaler(); total time=   0.1s\n",
      "[CV] END models=KNeighborsClassifier(), models__metric=euclidean, models__n_neighbors=7, preprocessor__numeric=MinMaxScaler(); total time=   0.1s\n",
      "[CV] END models=KNeighborsClassifier(), models__metric=euclidean, models__n_neighbors=7, preprocessor__numeric=MinMaxScaler(); total time=   0.1s\n",
      "[CV] END models=KNeighborsClassifier(), models__metric=euclidean, models__n_neighbors=7, preprocessor__numeric=MinMaxScaler(); total time=   0.0s\n",
      "[CV] END models=DecisionTreeClassifier(random_state=42), models__max_depth=4, models__max_features=None, models__min_samples_split=10, preprocessor__numeric=MinMaxScaler(); total time=   0.0s\n",
      "[CV] END models=DecisionTreeClassifier(random_state=42), models__max_depth=4, models__max_features=None, models__min_samples_split=10, preprocessor__numeric=MinMaxScaler(); total time=   0.0s\n",
      "[CV] END models=DecisionTreeClassifier(random_state=42), models__max_depth=4, models__max_features=None, models__min_samples_split=10, preprocessor__numeric=MinMaxScaler(); total time=   0.0s\n",
      "[CV] END models=DecisionTreeClassifier(random_state=42), models__max_depth=4, models__max_features=None, models__min_samples_split=10, preprocessor__numeric=MinMaxScaler(); total time=   0.0s\n",
      "[CV] END models=DecisionTreeClassifier(random_state=42), models__max_depth=4, models__max_features=None, models__min_samples_split=10, preprocessor__numeric=MinMaxScaler(); total time=   0.0s\n",
      "[CV] END models=DecisionTreeClassifier(random_state=42), models__max_depth=4, models__max_features=log2, models__min_samples_split=5, preprocessor__numeric=StandardScaler(); total time=   0.1s\n",
      "[CV] END models=DecisionTreeClassifier(random_state=42), models__max_depth=4, models__max_features=log2, models__min_samples_split=5, preprocessor__numeric=StandardScaler(); total time=   0.0s\n",
      "[CV] END models=DecisionTreeClassifier(random_state=42), models__max_depth=4, models__max_features=log2, models__min_samples_split=5, preprocessor__numeric=StandardScaler(); total time=   0.0s\n",
      "[CV] END models=DecisionTreeClassifier(random_state=42), models__max_depth=4, models__max_features=log2, models__min_samples_split=5, preprocessor__numeric=StandardScaler(); total time=   0.0s\n",
      "[CV] END models=DecisionTreeClassifier(random_state=42), models__max_depth=4, models__max_features=log2, models__min_samples_split=5, preprocessor__numeric=StandardScaler(); total time=   0.0s\n",
      "[CV] END models=DecisionTreeClassifier(random_state=42), models__max_depth=2, models__max_features=None, models__min_samples_split=2, preprocessor__numeric=StandardScaler(); total time=   0.0s\n",
      "[CV] END models=DecisionTreeClassifier(random_state=42), models__max_depth=2, models__max_features=None, models__min_samples_split=2, preprocessor__numeric=StandardScaler(); total time=   0.0s\n",
      "[CV] END models=DecisionTreeClassifier(random_state=42), models__max_depth=2, models__max_features=None, models__min_samples_split=2, preprocessor__numeric=StandardScaler(); total time=   0.1s\n",
      "[CV] END models=DecisionTreeClassifier(random_state=42), models__max_depth=2, models__max_features=None, models__min_samples_split=2, preprocessor__numeric=StandardScaler(); total time=   0.0s\n",
      "[CV] END models=DecisionTreeClassifier(random_state=42), models__max_depth=2, models__max_features=None, models__min_samples_split=2, preprocessor__numeric=StandardScaler(); total time=   0.0s\n",
      "[CV] END models=DecisionTreeClassifier(random_state=42), models__max_depth=2, models__max_features=None, models__min_samples_split=5, preprocessor__numeric=MinMaxScaler(); total time=   0.0s\n",
      "[CV] END models=DecisionTreeClassifier(random_state=42), models__max_depth=2, models__max_features=None, models__min_samples_split=5, preprocessor__numeric=MinMaxScaler(); total time=   0.0s\n",
      "[CV] END models=DecisionTreeClassifier(random_state=42), models__max_depth=2, models__max_features=None, models__min_samples_split=5, preprocessor__numeric=MinMaxScaler(); total time=   0.0s\n",
      "[CV] END models=DecisionTreeClassifier(random_state=42), models__max_depth=2, models__max_features=None, models__min_samples_split=5, preprocessor__numeric=MinMaxScaler(); total time=   0.0s\n",
      "[CV] END models=DecisionTreeClassifier(random_state=42), models__max_depth=2, models__max_features=None, models__min_samples_split=5, preprocessor__numeric=MinMaxScaler(); total time=   0.0s\n",
      "[CV] END models=DecisionTreeClassifier(random_state=42), models__max_depth=5, models__max_features=None, models__min_samples_split=10, preprocessor__numeric=StandardScaler(); total time=   0.1s\n",
      "[CV] END models=DecisionTreeClassifier(random_state=42), models__max_depth=5, models__max_features=None, models__min_samples_split=10, preprocessor__numeric=StandardScaler(); total time=   0.0s\n",
      "[CV] END models=DecisionTreeClassifier(random_state=42), models__max_depth=5, models__max_features=None, models__min_samples_split=10, preprocessor__numeric=StandardScaler(); total time=   0.0s\n",
      "[CV] END models=DecisionTreeClassifier(random_state=42), models__max_depth=5, models__max_features=None, models__min_samples_split=10, preprocessor__numeric=StandardScaler(); total time=   0.0s\n",
      "[CV] END models=DecisionTreeClassifier(random_state=42), models__max_depth=5, models__max_features=None, models__min_samples_split=10, preprocessor__numeric=StandardScaler(); total time=   0.0s\n",
      "[CV] END models=LogisticRegression(random_state=42), models__penalty=l1, models__solver=liblinear, preprocessor__numeric=MinMaxScaler(); total time=   0.1s\n",
      "[CV] END models=LogisticRegression(random_state=42), models__penalty=l1, models__solver=liblinear, preprocessor__numeric=MinMaxScaler(); total time=   0.1s\n",
      "[CV] END models=LogisticRegression(random_state=42), models__penalty=l1, models__solver=liblinear, preprocessor__numeric=MinMaxScaler(); total time=   0.1s\n",
      "[CV] END models=LogisticRegression(random_state=42), models__penalty=l1, models__solver=liblinear, preprocessor__numeric=MinMaxScaler(); total time=   0.1s\n",
      "[CV] END models=LogisticRegression(random_state=42), models__penalty=l1, models__solver=liblinear, preprocessor__numeric=MinMaxScaler(); total time=   0.1s\n",
      "[CV] END models=DecisionTreeClassifier(random_state=42), models__max_depth=3, models__max_features=log2, models__min_samples_split=2, preprocessor__numeric=StandardScaler(); total time=   0.0s\n",
      "[CV] END models=DecisionTreeClassifier(random_state=42), models__max_depth=3, models__max_features=log2, models__min_samples_split=2, preprocessor__numeric=StandardScaler(); total time=   0.0s\n",
      "[CV] END models=DecisionTreeClassifier(random_state=42), models__max_depth=3, models__max_features=log2, models__min_samples_split=2, preprocessor__numeric=StandardScaler(); total time=   0.0s\n",
      "[CV] END models=DecisionTreeClassifier(random_state=42), models__max_depth=3, models__max_features=log2, models__min_samples_split=2, preprocessor__numeric=StandardScaler(); total time=   0.1s\n",
      "[CV] END models=DecisionTreeClassifier(random_state=42), models__max_depth=3, models__max_features=log2, models__min_samples_split=2, preprocessor__numeric=StandardScaler(); total time=   0.0s\n",
      "[CV] END models=DecisionTreeClassifier(random_state=42), models__max_depth=5, models__max_features=None, models__min_samples_split=2, preprocessor__numeric=StandardScaler(); total time=   0.1s\n",
      "[CV] END models=DecisionTreeClassifier(random_state=42), models__max_depth=5, models__max_features=None, models__min_samples_split=2, preprocessor__numeric=StandardScaler(); total time=   0.0s\n",
      "[CV] END models=DecisionTreeClassifier(random_state=42), models__max_depth=5, models__max_features=None, models__min_samples_split=2, preprocessor__numeric=StandardScaler(); total time=   0.0s\n",
      "[CV] END models=DecisionTreeClassifier(random_state=42), models__max_depth=5, models__max_features=None, models__min_samples_split=2, preprocessor__numeric=StandardScaler(); total time=   0.0s\n",
      "[CV] END models=DecisionTreeClassifier(random_state=42), models__max_depth=5, models__max_features=None, models__min_samples_split=2, preprocessor__numeric=StandardScaler(); total time=   0.1s\n",
      "[CV] END models=DecisionTreeClassifier(random_state=42), models__max_depth=3, models__max_features=sqrt, models__min_samples_split=10, preprocessor__numeric=StandardScaler(); total time=   0.0s\n",
      "[CV] END models=DecisionTreeClassifier(random_state=42), models__max_depth=3, models__max_features=sqrt, models__min_samples_split=10, preprocessor__numeric=StandardScaler(); total time=   0.0s\n",
      "[CV] END models=DecisionTreeClassifier(random_state=42), models__max_depth=3, models__max_features=sqrt, models__min_samples_split=10, preprocessor__numeric=StandardScaler(); total time=   0.0s\n",
      "[CV] END models=DecisionTreeClassifier(random_state=42), models__max_depth=3, models__max_features=sqrt, models__min_samples_split=10, preprocessor__numeric=StandardScaler(); total time=   0.0s\n",
      "[CV] END models=DecisionTreeClassifier(random_state=42), models__max_depth=3, models__max_features=sqrt, models__min_samples_split=10, preprocessor__numeric=StandardScaler(); total time=   0.0s\n",
      "[CV] END models=DecisionTreeClassifier(random_state=42), models__max_depth=4, models__max_features=sqrt, models__min_samples_split=2, preprocessor__numeric=StandardScaler(); total time=   0.1s\n",
      "[CV] END models=DecisionTreeClassifier(random_state=42), models__max_depth=4, models__max_features=sqrt, models__min_samples_split=2, preprocessor__numeric=StandardScaler(); total time=   0.0s\n",
      "[CV] END models=DecisionTreeClassifier(random_state=42), models__max_depth=4, models__max_features=sqrt, models__min_samples_split=2, preprocessor__numeric=StandardScaler(); total time=   0.0s\n",
      "[CV] END models=DecisionTreeClassifier(random_state=42), models__max_depth=4, models__max_features=sqrt, models__min_samples_split=2, preprocessor__numeric=StandardScaler(); total time=   0.0s\n",
      "[CV] END models=DecisionTreeClassifier(random_state=42), models__max_depth=4, models__max_features=sqrt, models__min_samples_split=2, preprocessor__numeric=StandardScaler(); total time=   0.0s\n",
      "[CV] END models=DecisionTreeClassifier(random_state=42), models__max_depth=5, models__max_features=sqrt, models__min_samples_split=2, preprocessor__numeric=MinMaxScaler(); total time=   0.0s\n",
      "[CV] END models=DecisionTreeClassifier(random_state=42), models__max_depth=5, models__max_features=sqrt, models__min_samples_split=2, preprocessor__numeric=MinMaxScaler(); total time=   0.0s\n",
      "[CV] END models=DecisionTreeClassifier(random_state=42), models__max_depth=5, models__max_features=sqrt, models__min_samples_split=2, preprocessor__numeric=MinMaxScaler(); total time=   0.0s\n",
      "[CV] END models=DecisionTreeClassifier(random_state=42), models__max_depth=5, models__max_features=sqrt, models__min_samples_split=2, preprocessor__numeric=MinMaxScaler(); total time=   0.0s\n",
      "[CV] END models=DecisionTreeClassifier(random_state=42), models__max_depth=5, models__max_features=sqrt, models__min_samples_split=2, preprocessor__numeric=MinMaxScaler(); total time=   0.0s\n",
      "[CV] END models=DecisionTreeClassifier(random_state=42), models__max_depth=None, models__max_features=log2, models__min_samples_split=5, preprocessor__numeric=MinMaxScaler(); total time=   0.0s\n",
      "[CV] END models=DecisionTreeClassifier(random_state=42), models__max_depth=None, models__max_features=log2, models__min_samples_split=5, preprocessor__numeric=MinMaxScaler(); total time=   0.1s\n",
      "[CV] END models=DecisionTreeClassifier(random_state=42), models__max_depth=None, models__max_features=log2, models__min_samples_split=5, preprocessor__numeric=MinMaxScaler(); total time=   0.0s\n",
      "[CV] END models=DecisionTreeClassifier(random_state=42), models__max_depth=None, models__max_features=log2, models__min_samples_split=5, preprocessor__numeric=MinMaxScaler(); total time=   0.0s\n",
      "[CV] END models=DecisionTreeClassifier(random_state=42), models__max_depth=None, models__max_features=log2, models__min_samples_split=5, preprocessor__numeric=MinMaxScaler(); total time=   0.0s\n",
      "[CV] END models=DecisionTreeClassifier(random_state=42), models__max_depth=3, models__max_features=None, models__min_samples_split=2, preprocessor__numeric=StandardScaler(); total time=   0.1s\n",
      "[CV] END models=DecisionTreeClassifier(random_state=42), models__max_depth=3, models__max_features=None, models__min_samples_split=2, preprocessor__numeric=StandardScaler(); total time=   0.0s\n",
      "[CV] END models=DecisionTreeClassifier(random_state=42), models__max_depth=3, models__max_features=None, models__min_samples_split=2, preprocessor__numeric=StandardScaler(); total time=   0.0s\n",
      "[CV] END models=DecisionTreeClassifier(random_state=42), models__max_depth=3, models__max_features=None, models__min_samples_split=2, preprocessor__numeric=StandardScaler(); total time=   0.0s\n",
      "[CV] END models=DecisionTreeClassifier(random_state=42), models__max_depth=3, models__max_features=None, models__min_samples_split=2, preprocessor__numeric=StandardScaler(); total time=   0.1s\n",
      "[CV] END models=DecisionTreeClassifier(random_state=42), models__max_depth=5, models__max_features=log2, models__min_samples_split=5, preprocessor__numeric=StandardScaler(); total time=   0.0s\n",
      "[CV] END models=DecisionTreeClassifier(random_state=42), models__max_depth=5, models__max_features=log2, models__min_samples_split=5, preprocessor__numeric=StandardScaler(); total time=   0.0s\n",
      "[CV] END models=DecisionTreeClassifier(random_state=42), models__max_depth=5, models__max_features=log2, models__min_samples_split=5, preprocessor__numeric=StandardScaler(); total time=   0.0s\n",
      "[CV] END models=DecisionTreeClassifier(random_state=42), models__max_depth=5, models__max_features=log2, models__min_samples_split=5, preprocessor__numeric=StandardScaler(); total time=   0.0s\n",
      "[CV] END models=DecisionTreeClassifier(random_state=42), models__max_depth=5, models__max_features=log2, models__min_samples_split=5, preprocessor__numeric=StandardScaler(); total time=   0.0s\n",
      "[CV] END models=DecisionTreeClassifier(random_state=42), models__max_depth=None, models__max_features=sqrt, models__min_samples_split=2, preprocessor__numeric=StandardScaler(); total time=   0.0s\n",
      "[CV] END models=DecisionTreeClassifier(random_state=42), models__max_depth=None, models__max_features=sqrt, models__min_samples_split=2, preprocessor__numeric=StandardScaler(); total time=   0.0s\n",
      "[CV] END models=DecisionTreeClassifier(random_state=42), models__max_depth=None, models__max_features=sqrt, models__min_samples_split=2, preprocessor__numeric=StandardScaler(); total time=   0.0s\n",
      "[CV] END models=DecisionTreeClassifier(random_state=42), models__max_depth=None, models__max_features=sqrt, models__min_samples_split=2, preprocessor__numeric=StandardScaler(); total time=   0.0s\n",
      "[CV] END models=DecisionTreeClassifier(random_state=42), models__max_depth=None, models__max_features=sqrt, models__min_samples_split=2, preprocessor__numeric=StandardScaler(); total time=   0.0s\n",
      "[CV] END models=DecisionTreeClassifier(random_state=42), models__max_depth=2, models__max_features=log2, models__min_samples_split=5, preprocessor__numeric=MinMaxScaler(); total time=   0.0s\n",
      "[CV] END models=DecisionTreeClassifier(random_state=42), models__max_depth=2, models__max_features=log2, models__min_samples_split=5, preprocessor__numeric=MinMaxScaler(); total time=   0.0s\n",
      "[CV] END models=DecisionTreeClassifier(random_state=42), models__max_depth=2, models__max_features=log2, models__min_samples_split=5, preprocessor__numeric=MinMaxScaler(); total time=   0.0s\n",
      "[CV] END models=DecisionTreeClassifier(random_state=42), models__max_depth=2, models__max_features=log2, models__min_samples_split=5, preprocessor__numeric=MinMaxScaler(); total time=   0.0s\n",
      "[CV] END models=DecisionTreeClassifier(random_state=42), models__max_depth=2, models__max_features=log2, models__min_samples_split=5, preprocessor__numeric=MinMaxScaler(); total time=   0.0s\n",
      "[CV] END models=DecisionTreeClassifier(random_state=42), models__max_depth=3, models__max_features=None, models__min_samples_split=5, preprocessor__numeric=MinMaxScaler(); total time=   0.0s\n",
      "[CV] END models=DecisionTreeClassifier(random_state=42), models__max_depth=3, models__max_features=None, models__min_samples_split=5, preprocessor__numeric=MinMaxScaler(); total time=   0.1s\n",
      "[CV] END models=DecisionTreeClassifier(random_state=42), models__max_depth=3, models__max_features=None, models__min_samples_split=5, preprocessor__numeric=MinMaxScaler(); total time=   0.0s\n",
      "[CV] END models=DecisionTreeClassifier(random_state=42), models__max_depth=3, models__max_features=None, models__min_samples_split=5, preprocessor__numeric=MinMaxScaler(); total time=   0.0s\n",
      "[CV] END models=DecisionTreeClassifier(random_state=42), models__max_depth=3, models__max_features=None, models__min_samples_split=5, preprocessor__numeric=MinMaxScaler(); total time=   0.0s\n",
      "[CV] END models=KNeighborsClassifier(), models__metric=manhattan, models__n_neighbors=9, preprocessor__numeric=MinMaxScaler(); total time=   0.1s\n",
      "[CV] END models=KNeighborsClassifier(), models__metric=manhattan, models__n_neighbors=9, preprocessor__numeric=MinMaxScaler(); total time=   0.1s\n",
      "[CV] END models=KNeighborsClassifier(), models__metric=manhattan, models__n_neighbors=9, preprocessor__numeric=MinMaxScaler(); total time=   0.1s\n",
      "[CV] END models=KNeighborsClassifier(), models__metric=manhattan, models__n_neighbors=9, preprocessor__numeric=MinMaxScaler(); total time=   0.1s\n",
      "[CV] END models=KNeighborsClassifier(), models__metric=manhattan, models__n_neighbors=9, preprocessor__numeric=MinMaxScaler(); total time=   0.1s\n",
      "[CV] END models=DecisionTreeClassifier(random_state=42), models__max_depth=5, models__max_features=None, models__min_samples_split=5, preprocessor__numeric=StandardScaler(); total time=   0.0s\n",
      "[CV] END models=DecisionTreeClassifier(random_state=42), models__max_depth=5, models__max_features=None, models__min_samples_split=5, preprocessor__numeric=StandardScaler(); total time=   0.0s\n",
      "[CV] END models=DecisionTreeClassifier(random_state=42), models__max_depth=5, models__max_features=None, models__min_samples_split=5, preprocessor__numeric=StandardScaler(); total time=   0.0s\n",
      "[CV] END models=DecisionTreeClassifier(random_state=42), models__max_depth=5, models__max_features=None, models__min_samples_split=5, preprocessor__numeric=StandardScaler(); total time=   0.0s\n",
      "[CV] END models=DecisionTreeClassifier(random_state=42), models__max_depth=5, models__max_features=None, models__min_samples_split=5, preprocessor__numeric=StandardScaler(); total time=   0.0s\n",
      "[CV] END models=DecisionTreeClassifier(random_state=42), models__max_depth=3, models__max_features=log2, models__min_samples_split=10, preprocessor__numeric=StandardScaler(); total time=   0.0s\n",
      "[CV] END models=DecisionTreeClassifier(random_state=42), models__max_depth=3, models__max_features=log2, models__min_samples_split=10, preprocessor__numeric=StandardScaler(); total time=   0.0s\n",
      "[CV] END models=DecisionTreeClassifier(random_state=42), models__max_depth=3, models__max_features=log2, models__min_samples_split=10, preprocessor__numeric=StandardScaler(); total time=   0.0s\n",
      "[CV] END models=DecisionTreeClassifier(random_state=42), models__max_depth=3, models__max_features=log2, models__min_samples_split=10, preprocessor__numeric=StandardScaler(); total time=   0.0s\n",
      "[CV] END models=DecisionTreeClassifier(random_state=42), models__max_depth=3, models__max_features=log2, models__min_samples_split=10, preprocessor__numeric=StandardScaler(); total time=   0.1s\n",
      "[CV] END models=DecisionTreeClassifier(random_state=42), models__max_depth=4, models__max_features=log2, models__min_samples_split=10, preprocessor__numeric=MinMaxScaler(); total time=   0.0s\n",
      "[CV] END models=DecisionTreeClassifier(random_state=42), models__max_depth=4, models__max_features=log2, models__min_samples_split=10, preprocessor__numeric=MinMaxScaler(); total time=   0.0s\n",
      "[CV] END models=DecisionTreeClassifier(random_state=42), models__max_depth=4, models__max_features=log2, models__min_samples_split=10, preprocessor__numeric=MinMaxScaler(); total time=   0.0s\n",
      "[CV] END models=DecisionTreeClassifier(random_state=42), models__max_depth=4, models__max_features=log2, models__min_samples_split=10, preprocessor__numeric=MinMaxScaler(); total time=   0.1s\n",
      "[CV] END models=DecisionTreeClassifier(random_state=42), models__max_depth=4, models__max_features=log2, models__min_samples_split=10, preprocessor__numeric=MinMaxScaler(); total time=   0.0s\n",
      "[CV] END models=DecisionTreeClassifier(random_state=42), models__max_depth=None, models__max_features=None, models__min_samples_split=2, preprocessor__numeric=StandardScaler(); total time=   0.1s\n",
      "[CV] END models=DecisionTreeClassifier(random_state=42), models__max_depth=None, models__max_features=None, models__min_samples_split=2, preprocessor__numeric=StandardScaler(); total time=   0.0s\n",
      "[CV] END models=DecisionTreeClassifier(random_state=42), models__max_depth=None, models__max_features=None, models__min_samples_split=2, preprocessor__numeric=StandardScaler(); total time=   0.1s\n",
      "[CV] END models=DecisionTreeClassifier(random_state=42), models__max_depth=None, models__max_features=None, models__min_samples_split=2, preprocessor__numeric=StandardScaler(); total time=   0.1s\n",
      "[CV] END models=DecisionTreeClassifier(random_state=42), models__max_depth=None, models__max_features=None, models__min_samples_split=2, preprocessor__numeric=StandardScaler(); total time=   0.1s\n",
      "[CV] END models=DecisionTreeClassifier(random_state=42), models__max_depth=2, models__max_features=sqrt, models__min_samples_split=10, preprocessor__numeric=MinMaxScaler(); total time=   0.0s\n",
      "[CV] END models=DecisionTreeClassifier(random_state=42), models__max_depth=2, models__max_features=sqrt, models__min_samples_split=10, preprocessor__numeric=MinMaxScaler(); total time=   0.0s\n",
      "[CV] END models=DecisionTreeClassifier(random_state=42), models__max_depth=2, models__max_features=sqrt, models__min_samples_split=10, preprocessor__numeric=MinMaxScaler(); total time=   0.0s\n",
      "[CV] END models=DecisionTreeClassifier(random_state=42), models__max_depth=2, models__max_features=sqrt, models__min_samples_split=10, preprocessor__numeric=MinMaxScaler(); total time=   0.0s\n",
      "[CV] END models=DecisionTreeClassifier(random_state=42), models__max_depth=2, models__max_features=sqrt, models__min_samples_split=10, preprocessor__numeric=MinMaxScaler(); total time=   0.0s\n",
      "[CV] END models=DecisionTreeClassifier(random_state=42), models__max_depth=None, models__max_features=sqrt, models__min_samples_split=10, preprocessor__numeric=MinMaxScaler(); total time=   0.0s\n",
      "[CV] END models=DecisionTreeClassifier(random_state=42), models__max_depth=None, models__max_features=sqrt, models__min_samples_split=10, preprocessor__numeric=MinMaxScaler(); total time=   0.0s\n",
      "[CV] END models=DecisionTreeClassifier(random_state=42), models__max_depth=None, models__max_features=sqrt, models__min_samples_split=10, preprocessor__numeric=MinMaxScaler(); total time=   0.0s\n",
      "[CV] END models=DecisionTreeClassifier(random_state=42), models__max_depth=None, models__max_features=sqrt, models__min_samples_split=10, preprocessor__numeric=MinMaxScaler(); total time=   0.0s\n",
      "[CV] END models=DecisionTreeClassifier(random_state=42), models__max_depth=None, models__max_features=sqrt, models__min_samples_split=10, preprocessor__numeric=MinMaxScaler(); total time=   0.0s\n",
      "[CV] END models=DecisionTreeClassifier(random_state=42), models__max_depth=5, models__max_features=None, models__min_samples_split=2, preprocessor__numeric=MinMaxScaler(); total time=   0.1s\n",
      "[CV] END models=DecisionTreeClassifier(random_state=42), models__max_depth=5, models__max_features=None, models__min_samples_split=2, preprocessor__numeric=MinMaxScaler(); total time=   0.1s\n",
      "[CV] END models=DecisionTreeClassifier(random_state=42), models__max_depth=5, models__max_features=None, models__min_samples_split=2, preprocessor__numeric=MinMaxScaler(); total time=   0.0s\n",
      "[CV] END models=DecisionTreeClassifier(random_state=42), models__max_depth=5, models__max_features=None, models__min_samples_split=2, preprocessor__numeric=MinMaxScaler(); total time=   0.0s\n",
      "[CV] END models=DecisionTreeClassifier(random_state=42), models__max_depth=5, models__max_features=None, models__min_samples_split=2, preprocessor__numeric=MinMaxScaler(); total time=   0.1s\n",
      "[CV] END models=DecisionTreeClassifier(random_state=42), models__max_depth=4, models__max_features=sqrt, models__min_samples_split=5, preprocessor__numeric=MinMaxScaler(); total time=   0.0s\n",
      "[CV] END models=DecisionTreeClassifier(random_state=42), models__max_depth=4, models__max_features=sqrt, models__min_samples_split=5, preprocessor__numeric=MinMaxScaler(); total time=   0.0s\n",
      "[CV] END models=DecisionTreeClassifier(random_state=42), models__max_depth=4, models__max_features=sqrt, models__min_samples_split=5, preprocessor__numeric=MinMaxScaler(); total time=   0.0s\n",
      "[CV] END models=DecisionTreeClassifier(random_state=42), models__max_depth=4, models__max_features=sqrt, models__min_samples_split=5, preprocessor__numeric=MinMaxScaler(); total time=   0.0s\n",
      "[CV] END models=DecisionTreeClassifier(random_state=42), models__max_depth=4, models__max_features=sqrt, models__min_samples_split=5, preprocessor__numeric=MinMaxScaler(); total time=   0.0s\n",
      "[CV] END models=DecisionTreeClassifier(random_state=42), models__max_depth=4, models__max_features=None, models__min_samples_split=2, preprocessor__numeric=MinMaxScaler(); total time=   0.1s\n",
      "[CV] END models=DecisionTreeClassifier(random_state=42), models__max_depth=4, models__max_features=None, models__min_samples_split=2, preprocessor__numeric=MinMaxScaler(); total time=   0.1s\n",
      "[CV] END models=DecisionTreeClassifier(random_state=42), models__max_depth=4, models__max_features=None, models__min_samples_split=2, preprocessor__numeric=MinMaxScaler(); total time=   0.0s\n",
      "[CV] END models=DecisionTreeClassifier(random_state=42), models__max_depth=4, models__max_features=None, models__min_samples_split=2, preprocessor__numeric=MinMaxScaler(); total time=   0.0s\n",
      "[CV] END models=DecisionTreeClassifier(random_state=42), models__max_depth=4, models__max_features=None, models__min_samples_split=2, preprocessor__numeric=MinMaxScaler(); total time=   0.0s\n",
      "Лучшая модель и её параметры:\n",
      " Pipeline(steps=[('preprocessor',\n",
      "                 ColumnTransformer(remainder='passthrough',\n",
      "                                   transformers=[('nominal',\n",
      "                                                  Pipeline(steps=[('imputer',\n",
      "                                                                   SimpleImputer(strategy='most_frequent')),\n",
      "                                                                  ('onehot',\n",
      "                                                                   OneHotEncoder(drop='first',\n",
      "                                                                                 handle_unknown='ignore',\n",
      "                                                                                 sparse_output=False))]),\n",
      "                                                  ['разрешить_сообщать',\n",
      "                                                   'популярная_категория']),\n",
      "                                                 ('ordinal',\n",
      "                                                  Pipeline(steps=[('imputer',\n",
      "                                                                   SimpleImputer...\n",
      "                                                 ('numeric', StandardScaler(),\n",
      "                                                  Index(['маркет_актив_6_мес', 'маркет_актив_тек_мес', 'длительность',\n",
      "       'средний_просмотр_категорий_за_визит',\n",
      "       'неоплаченные_продукты_штук_квартал', 'ошибка_сервиса',\n",
      "       'страниц_за_визит', 'текущий_месяц_time', 'предыдущий_месяц_time',\n",
      "       'текущий_месяц_revenue', 'предыдущий_месяц_revenue'],\n",
      "      dtype='object'))])),\n",
      "                ('models', SVC(probability=True, random_state=42))])\n",
      "ROC-AUC на тренировочной выборке: 0.9023510786345635\n",
      "ROC-AUC на тестовой выборке: 0.895843363826031\n",
      "\n",
      "Результаты по всем метрикам:\n",
      "roc_auc: 0.902\n",
      "f1: 0.880\n",
      "precision: 0.889\n",
      "recall: 0.883\n"
     ]
    }
   ],
   "source": [
    "pipe_final = Pipeline([\n",
    "    ('preprocessor', data_preprocessor),\n",
    "    ('models', 'passthrough')\n",
    "])\n",
    "\n",
    "param_grid = [\n",
    "    # DecisionTreeClassifier\n",
    "    {\n",
    "        'models': [DecisionTreeClassifier(random_state=RANDOM_STATE)],\n",
    "        'models__max_depth': [2, 3, 4, 5, None],  # глубина дерева\n",
    "        'models__min_samples_split': [2, 5, 10],  # мин. количество для разделения\n",
    "        'models__max_features': ['sqrt', 'log2', None],  # способ выбора признаков\n",
    "        'preprocessor__numeric': [StandardScaler(), MinMaxScaler()]\n",
    "    },\n",
    "    \n",
    "    # KNeighborsClassifier\n",
    "    {\n",
    "        'models': [KNeighborsClassifier()],\n",
    "        'models__n_neighbors': [4,7, 15, 25],  # количество соседей\n",
    "        'models__metric': ['euclidean', 'manhattan'],  # метрика расстояния\n",
    "        'preprocessor__numeric': [StandardScaler(), MinMaxScaler()]\n",
    "    },\n",
    "\n",
    "    # LogisticRegression\n",
    "    {\n",
    "        'models': [LogisticRegression(random_state=RANDOM_STATE)],\n",
    "        'models__penalty': ['l1', 'l2'],  # тип регуляризации\n",
    "        'models__solver': ['liblinear', 'saga'],  # решатель\n",
    "        'preprocessor__numeric': [StandardScaler(), MinMaxScaler()]\n",
    "    },\n",
    "\n",
    "    # SVC\n",
    "    {\n",
    "        'models': [SVC(random_state=RANDOM_STATE, probability=True)],  # probability=True для ROC-AUC\n",
    "        'models__kernel': ['linear', 'rbf'],  # тип ядра\n",
    "        'preprocessor__numeric': [StandardScaler(), MinMaxScaler()]\n",
    "    }\n",
    "]\n",
    "\n",
    "scoring = {\n",
    "    'roc_auc': 'roc_auc',\n",
    "    'f1': make_scorer(f1_score, average='weighted'),\n",
    "    'precision': make_scorer(precision_score, average='weighted'),\n",
    "    'recall': make_scorer(recall_score, average='weighted')\n",
    "}\n",
    "\n",
    "\n",
    "\n",
    "# Обновляем RandomizedSearchCV\n",
    "randomized_search = RandomizedSearchCV(\n",
    "    pipe_final, \n",
    "    param_grid, \n",
    "    n_iter=50,\n",
    "    cv=5,\n",
    "    scoring=scoring,  # используем несколько метрик\n",
    "    refit='roc_auc',  # основная метрика для выбора лучшей модели\n",
    "    random_state=RANDOM_STATE,\n",
    "    n_jobs=-1,\n",
    "    error_score='raise',\n",
    "    verbose=2\n",
    ")\n",
    "\n",
    "\n",
    "label_encoder = LabelEncoder()\n",
    "y_train_encoded = label_encoder.fit_transform(y_train)\n",
    "y_test_encoded = label_encoder.transform(y_test)\n",
    "category_mapping = dict(zip(label_encoder.classes_, range(len(label_encoder.classes_))))\n",
    "print(\"Соответствие категорий:\", category_mapping)\n",
    "# Обучение\n",
    "randomized_search.fit(X_train, y_train_encoded)\n",
    "\n",
    "# Вывод результатов\n",
    "print('Лучшая модель и её параметры:\\n', randomized_search.best_estimator_)\n",
    "print('ROC-AUC на тренировочной выборке:', randomized_search.best_score_)\n",
    "\n",
    "# Прогноз на тестовой выборке\n",
    "y_pred_proba = randomized_search.predict_proba(X_test)[:, 1]\n",
    "test_roc_auc = roc_auc_score(y_test, y_pred_proba)\n",
    "print('ROC-AUC на тестовой выборке:', test_roc_auc)\n",
    "\n",
    "\n",
    "\n",
    "# Вывод результатов по всем метрикам\n",
    "print(\"\\nРезультаты по всем метрикам:\")\n",
    "for metric in scoring.keys():\n",
    "    print(f\"{metric}: {randomized_search.cv_results_[f'mean_test_{metric}'][randomized_search.best_index_]:.3f}\")"
   ]
  },
  {
   "cell_type": "code",
   "execution_count": 32,
   "metadata": {},
   "outputs": [
    {
     "data": {
      "text/plain": [
       "{'preprocessor__numeric': StandardScaler(),\n",
       " 'models__kernel': 'rbf',\n",
       " 'models': SVC(probability=True, random_state=42)}"
      ]
     },
     "execution_count": 32,
     "metadata": {},
     "output_type": "execute_result"
    }
   ],
   "source": [
    "randomized_search.best_params_"
   ]
  },
  {
   "cell_type": "code",
   "execution_count": 33,
   "metadata": {},
   "outputs": [],
   "source": [
    "#проведем кросс валидацию \n",
    "#Создаем объект KFold для разбиения\n",
    "kf = KFold(n_splits=5, shuffle=True, random_state=RANDOM_STATE)\n",
    "\n",
    "# Создаем функцию скоринга\n",
    "scorer = make_scorer(roc_auc_score)"
   ]
  },
  {
   "cell_type": "code",
   "execution_count": 34,
   "metadata": {},
   "outputs": [
    {
     "name": "stdout",
     "output_type": "stream",
     "text": [
      "Результаты кросс-валидации на тестовой выборке:\n",
      "Средний ROC-AUC: 0.859 (+/- 0.044)\n",
      "Индивидуальные оценки: [0.85416667 0.87017375 0.83333333 0.895      0.84166667]\n"
     ]
    }
   ],
   "source": [
    "# Получаем лучшую модель из RandomizedSearchCV\n",
    "best_model = randomized_search.best_estimator_\n",
    "\n",
    "# Проводим кросс-валидацию на тестовой выборке\n",
    "test_scores = cross_val_score(\n",
    "    best_model,\n",
    "    X_test,\n",
    "    y_test_encoded,\n",
    "    cv=kf,\n",
    "    scoring=scorer,\n",
    "    n_jobs=-1\n",
    ")\n",
    "\n",
    "# Выводим результаты\n",
    "print(\"Результаты кросс-валидации на тестовой выборке:\")\n",
    "print(f\"Средний ROC-AUC: {test_scores.mean():.3f} (+/- {test_scores.std() * 2:.3f})\")\n",
    "print(f\"Индивидуальные оценки: {test_scores}\")"
   ]
  },
  {
   "cell_type": "code",
   "execution_count": 35,
   "metadata": {},
   "outputs": [
    {
     "name": "stdout",
     "output_type": "stream",
     "text": [
      "\n",
      "ROC_AUC:\n",
      "Среднее: 0.859 (+/- 0.044)\n",
      "\n",
      "PRECISION:\n",
      "Среднее: 0.891 (+/- 0.029)\n",
      "\n",
      "RECALL:\n",
      "Среднее: 0.883 (+/- 0.031)\n",
      "\n",
      "F1:\n",
      "Среднее: 0.880 (+/- 0.034)\n"
     ]
    }
   ],
   "source": [
    "metrics = {\n",
    "    'roc_auc': make_scorer(roc_auc_score),\n",
    "    'precision': make_scorer(precision_score, average='weighted'),\n",
    "    'recall': make_scorer(recall_score, average='weighted'),\n",
    "    'f1': make_scorer(f1_score, average='weighted')\n",
    "}\n",
    "\n",
    "# Вычисление всех метрик\n",
    "for metric_name, scorer in metrics.items():\n",
    "    scores = cross_val_score(\n",
    "        best_model,\n",
    "        X_test,\n",
    "        y_test_encoded,\n",
    "        cv=kf,\n",
    "        scoring=scorer,\n",
    "        n_jobs=-1\n",
    "    )\n",
    "    print(f\"\\n{metric_name.upper()}:\")\n",
    "    print(f\"Среднее: {scores.mean():.3f} (+/- {scores.std() * 2:.3f})\")"
   ]
  },
  {
   "cell_type": "markdown",
   "metadata": {},
   "source": [
    "### Выводы:\n",
    "\n",
    "В данном коде происходит процесс построения и оценки моделей машинного обучения с использованием `RandomizedSearchCV`. Вот основные шаги:\n",
    "\n",
    "1. **Подготовка данных:**\n",
    "    - Данные разделены на тренировочную (`X_train`, `y_train`) и тестовую (`X_test`, `y_test`) выборки.\n",
    "    - Категориальные и числовые признаки обрабатываются с помощью пайплайнов (`num_pipe` и `ohe_pipe`), которые включают в себя заполнение пропущенных значений, стандартизацию и кодирование категориальных переменных.\n",
    "\n",
    "2. **Создание пайплайна:**\n",
    "    - Пайплайн `pipe_final` объединяет предварительную обработку данных (`data_preprocessor`) и модель (`models`), которая будет подбираться.\n",
    "\n",
    "3. **Определение гиперпараметров:**\n",
    "    - Для каждой модели (например, `DecisionTreeClassifier`, `KNeighborsClassifier`, `LogisticRegression`, `SVC`) задаются гиперпараметры, которые будут исследоваться в процессе поиска.\n",
    "\n",
    "4. **Поиск лучших гиперпараметров:**\n",
    "    - Используется `RandomizedSearchCV` для поиска лучших гиперпараметров на основе нескольких метрик (`roc_auc`, `f1`, `precision`, `recall`).\n",
    "    - Основная метрика для выбора лучшей модели — `roc_auc`.\n",
    "\n",
    "5. **Обучение и оценка:**\n",
    "    - Модели обучаются на тренировочной выборке.\n",
    "    - Лучшая модель и её параметры сохраняются.\n",
    "    - Оценивается качество модели на тестовой выборке с использованием метрики `ROC-AUC`.\n",
    "\n",
    "6. **Вывод результатов:**\n",
    "    - Печатаются лучшие гиперпараметры модели.\n",
    "    - Выводятся значения метрик на тренировочной и тестовой выборках.\n",
    "\n",
    "---\n",
    "\n",
    "\n",
    "1. **Лучшая модель:**\n",
    "    - Лучшая модель определяется на основе метрики `ROC-AUC`. В данном случае, судя по значению `test_roc_auc = 0.9`, модель хорошо предсказывает целевую переменную на тестовой выборке.\n",
    "\n",
    "2. **Гиперпараметры:**\n",
    "    - Лучшая модель и её гиперпараметры \n",
    "    {'preprocessor__num': StandardScaler(),\n",
    "     'models__kernel': 'rbf',\n",
    "     'models': SVC(probability=True, random_state=42)}\n",
    "\n",
    "\n",
    "3. **Средний ROC-AUC на тестовой выборке:**\n",
    "    - Средний ROC-AUC на тестовой выборке составляет `0.86` (согласно `test_scores.mean()`), что указывает на высокую способность модели различать классы.\n",
    "\n",
    "4. **Разброс ROC-AUC по фолдам:**\n",
    "    - Стандартное отклонение ROC-AUC по фолдам составляет `±0.04` (согласно `test_scores.std() * 2`), что говорит о низкой вариативности результатов между фолдами. Это свидетельствует о стабильности модели.\n",
    " хорошо подогнаны.\n",
    "\n",
    "6. **Общая оценка:**\n",
    "    - Модель демонстрирует высокую стабильность и хорошую способность к обобщению, но есть признаки переобучения, которые требуют дополнительного анализа и возможной доработки."
   ]
  },
  {
   "cell_type": "markdown",
   "metadata": {},
   "source": [
    "## Шаг 7. Анализ важности признаков"
   ]
  },
  {
   "cell_type": "code",
   "execution_count": 36,
   "metadata": {},
   "outputs": [
    {
     "data": {
      "application/vnd.jupyter.widget-view+json": {
       "model_id": "f6958e7971f04c74822dba787ba8683c",
       "version_major": 2,
       "version_minor": 0
      },
      "text/plain": [
       "  0%|          | 0/100 [00:00<?, ?it/s]"
      ]
     },
     "metadata": {},
     "output_type": "display_data"
    },
    {
     "data": {
      "image/png": "[encoded data removed]",
      "text/plain": [
       "<Figure size 576x626.4 with 1 Axes>"
      ]
     },
     "metadata": {
      "needs_background": "light"
     },
     "output_type": "display_data"
    }
   ],
   "source": [
    "\n",
    "best_model = randomized_search.best_estimator_\n",
    "\n",
    "sample_size = 100  \n",
    "X_test_sample = X_test.iloc[:sample_size]\n",
    "\n",
    "X_test_preprocessed = best_model.named_steps['preprocessor'].transform(X_test_sample)\n",
    "\n",
    "\n",
    "nominal_encoder = best_model.named_steps['preprocessor'].named_transformers_['nominal'].named_steps['onehot']\n",
    "nominal_feature_names = []\n",
    "for i, feature in enumerate(['разрешить_сообщать', 'популярная_категория']):\n",
    "    categories = nominal_encoder.categories_[i][1:]  \n",
    "    nominal_feature_names.extend([f\"{feature}_{cat}\" for cat in categories])\n",
    "\n",
    "\n",
    "ordinal_feature_names = ['тип_сервиса']  \n",
    "\n",
    "\n",
    "num_features = ['маркет_актив_6_мес', 'маркет_актив_тек_мес', 'длительность',\n",
    "               'средний_просмотр_категорий_за_визит', 'неоплаченные_продукты_штук_квартал',\n",
    "               'ошибка_сервиса', 'страниц_за_визит', 'текущий_месяц_time',\n",
    "               'предыдущий_месяц_time', 'текущий_месяц_revenue', 'предыдущий_месяц_revenue']\n",
    "\n",
    "\n",
    "feature_names = nominal_feature_names + ordinal_feature_names + num_features\n",
    "\n",
    "\n",
    "def model_predict(X):\n",
    "    \n",
    "    return best_model.named_steps['models'].predict_proba(X)[:, 1]\n",
    "\n",
    "background = shap.kmeans(X_test_preprocessed, 10)  \n",
    "explainer = shap.KernelExplainer(\n",
    "    model_predict,\n",
    "    background,\n",
    "    feature_names=feature_names\n",
    ")\n",
    "\n",
    "shap_values = explainer.shap_values(X_test_preprocessed[:sample_size])\n",
    "\n",
    "\n",
    "plt.figure(figsize=(12, 8))\n",
    "\n",
    "\n",
    "shap.summary_plot(\n",
    "    shap_values,\n",
    "    X_test_preprocessed[:sample_size],\n",
    "    feature_names=feature_names,\n",
    "    plot_type=\"bar\",\n",
    "    max_display=20,  \n",
    "    show=False  \n",
    ")\n",
    "plt.tight_layout()\n",
    "plt.show()"
   ]
  },
  {
   "cell_type": "markdown",
   "metadata": {},
   "source": [
    "### Выводы:\n",
    "Для анализа значимости признаков можно использовать график SHAP, который уже был построен в одной из предыдущих ячеек. На основании графика SHAP можно сделать следующие выводы:\n",
    "\n",
    "### 1. Признаки с низкой значимостью\n",
    "- Признаки, расположенные в нижней части графика SHAP, имеют минимальное влияние на предсказания модели.\n",
    "- Например, признаки с короткими полосами на графике, такие как `ohe__разрешить_сообщать_нет` или `ohe__популярная_категория_Косметика и аксесуары`, могут быть мало значимыми для модели.\n",
    "\n",
    "### 2. Признаки с высокой значимостью\n",
    "- Признаки, расположенные в верхней части графика SHAP, оказывают наибольшее влияние на целевой признак.\n",
    "- Например, такие признаки, как `текущий_месяц_revenue`, `предыдущий_месяц_time` и `страниц_за_визит`, могут быть наиболее значимыми для модели.\n",
    "\n",
    "### 3. Использование наблюдений\n",
    "- **Оптимизация модели:**\n",
    "    - Мало значимые признаки можно исключить из модели, чтобы уменьшить её сложность и ускорить обучение.\n",
    "    - Это также может помочь избежать переобучения.\n",
    "- **Фокус на значимых признаках:**\n",
    "    - Значимые признаки можно использовать для создания новых бизнес-метрик или стратегий.\n",
    "    - Например, если `текущий_месяц_revenue` сильно влияет на целевой признак, можно сосредоточиться на увеличении выручки текущего месяца.\n",
    "- **Принятие решений:**\n",
    "    - Значимые признаки могут быть использованы для сегментации клиентов, персонализации предложений или прогнозирования поведения пользователей.\n"
   ]
  },
  {
   "cell_type": "markdown",
   "metadata": {},
   "source": [
    "## Шаг 8. Сегментация покупателей"
   ]
  },
  {
   "cell_type": "code",
   "execution_count": 37,
   "metadata": {},
   "outputs": [
    {
     "data": {
      "text/html": [
       "<div>\n",
       "<style scoped>\n",
       "    .dataframe tbody tr th:only-of-type {\n",
       "        vertical-align: middle;\n",
       "    }\n",
       "\n",
       "    .dataframe tbody tr th {\n",
       "        vertical-align: top;\n",
       "    }\n",
       "\n",
       "    .dataframe thead th {\n",
       "        text-align: right;\n",
       "    }\n",
       "</style>\n",
       "<table border=\"1\" class=\"dataframe\">\n",
       "  <thead>\n",
       "    <tr style=\"text-align: right;\">\n",
       "      <th></th>\n",
       "      <th>id</th>\n",
       "      <th>покупательская_активность</th>\n",
       "      <th>тип_сервиса</th>\n",
       "      <th>разрешить_сообщать</th>\n",
       "      <th>маркет_актив_6_мес</th>\n",
       "      <th>маркет_актив_тек_мес</th>\n",
       "      <th>длительность</th>\n",
       "      <th>акционные_покупки</th>\n",
       "      <th>популярная_категория</th>\n",
       "      <th>средний_просмотр_категорий_за_визит</th>\n",
       "      <th>неоплаченные_продукты_штук_квартал</th>\n",
       "      <th>ошибка_сервиса</th>\n",
       "      <th>страниц_за_визит</th>\n",
       "      <th>текущий_месяц_time</th>\n",
       "      <th>предыдущий_месяц_time</th>\n",
       "      <th>препредыдущий_месяц_revenue</th>\n",
       "      <th>текущий_месяц_revenue</th>\n",
       "      <th>предыдущий_месяц_revenue</th>\n",
       "      <th>прибыль</th>\n",
       "    </tr>\n",
       "  </thead>\n",
       "  <tbody>\n",
       "    <tr>\n",
       "      <th>0</th>\n",
       "      <td>215348</td>\n",
       "      <td>Снизилась</td>\n",
       "      <td>премиум</td>\n",
       "      <td>да</td>\n",
       "      <td>3.4</td>\n",
       "      <td>5</td>\n",
       "      <td>121</td>\n",
       "      <td>0.00</td>\n",
       "      <td>Товары для детей</td>\n",
       "      <td>6</td>\n",
       "      <td>2</td>\n",
       "      <td>1</td>\n",
       "      <td>5</td>\n",
       "      <td>14.0</td>\n",
       "      <td>13.0</td>\n",
       "      <td>0.0</td>\n",
       "      <td>3293.1</td>\n",
       "      <td>0.0</td>\n",
       "      <td>0.98</td>\n",
       "    </tr>\n",
       "    <tr>\n",
       "      <th>1</th>\n",
       "      <td>215349</td>\n",
       "      <td>Снизилась</td>\n",
       "      <td>премиум</td>\n",
       "      <td>да</td>\n",
       "      <td>4.4</td>\n",
       "      <td>4</td>\n",
       "      <td>819</td>\n",
       "      <td>0.75</td>\n",
       "      <td>Товары для детей</td>\n",
       "      <td>4</td>\n",
       "      <td>4</td>\n",
       "      <td>2</td>\n",
       "      <td>5</td>\n",
       "      <td>10.0</td>\n",
       "      <td>12.0</td>\n",
       "      <td>4472.0</td>\n",
       "      <td>4971.6</td>\n",
       "      <td>5216.0</td>\n",
       "      <td>4.16</td>\n",
       "    </tr>\n",
       "    <tr>\n",
       "      <th>2</th>\n",
       "      <td>215350</td>\n",
       "      <td>Снизилась</td>\n",
       "      <td>стандарт</td>\n",
       "      <td>нет</td>\n",
       "      <td>4.9</td>\n",
       "      <td>3</td>\n",
       "      <td>539</td>\n",
       "      <td>0.14</td>\n",
       "      <td>Домашний текстиль</td>\n",
       "      <td>5</td>\n",
       "      <td>2</td>\n",
       "      <td>1</td>\n",
       "      <td>5</td>\n",
       "      <td>13.0</td>\n",
       "      <td>8.0</td>\n",
       "      <td>4826.0</td>\n",
       "      <td>5058.4</td>\n",
       "      <td>5457.5</td>\n",
       "      <td>3.13</td>\n",
       "    </tr>\n",
       "    <tr>\n",
       "      <th>3</th>\n",
       "      <td>215351</td>\n",
       "      <td>Снизилась</td>\n",
       "      <td>стандарт</td>\n",
       "      <td>да</td>\n",
       "      <td>3.2</td>\n",
       "      <td>5</td>\n",
       "      <td>896</td>\n",
       "      <td>0.99</td>\n",
       "      <td>Товары для детей</td>\n",
       "      <td>5</td>\n",
       "      <td>0</td>\n",
       "      <td>6</td>\n",
       "      <td>4</td>\n",
       "      <td>13.0</td>\n",
       "      <td>11.0</td>\n",
       "      <td>4793.0</td>\n",
       "      <td>6610.4</td>\n",
       "      <td>6158.0</td>\n",
       "      <td>4.87</td>\n",
       "    </tr>\n",
       "    <tr>\n",
       "      <th>4</th>\n",
       "      <td>215352</td>\n",
       "      <td>Снизилась</td>\n",
       "      <td>стандарт</td>\n",
       "      <td>нет</td>\n",
       "      <td>5.1</td>\n",
       "      <td>3</td>\n",
       "      <td>1064</td>\n",
       "      <td>0.94</td>\n",
       "      <td>Товары для детей</td>\n",
       "      <td>3</td>\n",
       "      <td>2</td>\n",
       "      <td>3</td>\n",
       "      <td>2</td>\n",
       "      <td>11.0</td>\n",
       "      <td>8.0</td>\n",
       "      <td>4594.0</td>\n",
       "      <td>5872.5</td>\n",
       "      <td>5807.5</td>\n",
       "      <td>4.21</td>\n",
       "    </tr>\n",
       "    <tr>\n",
       "      <th>...</th>\n",
       "      <td>...</td>\n",
       "      <td>...</td>\n",
       "      <td>...</td>\n",
       "      <td>...</td>\n",
       "      <td>...</td>\n",
       "      <td>...</td>\n",
       "      <td>...</td>\n",
       "      <td>...</td>\n",
       "      <td>...</td>\n",
       "      <td>...</td>\n",
       "      <td>...</td>\n",
       "      <td>...</td>\n",
       "      <td>...</td>\n",
       "      <td>...</td>\n",
       "      <td>...</td>\n",
       "      <td>...</td>\n",
       "      <td>...</td>\n",
       "      <td>...</td>\n",
       "      <td>...</td>\n",
       "    </tr>\n",
       "    <tr>\n",
       "      <th>1295</th>\n",
       "      <td>216643</td>\n",
       "      <td>Прежний уровень</td>\n",
       "      <td>стандарт</td>\n",
       "      <td>да</td>\n",
       "      <td>6.6</td>\n",
       "      <td>3</td>\n",
       "      <td>318</td>\n",
       "      <td>0.24</td>\n",
       "      <td>Техника для красоты и здоровья</td>\n",
       "      <td>5</td>\n",
       "      <td>3</td>\n",
       "      <td>3</td>\n",
       "      <td>11</td>\n",
       "      <td>7.0</td>\n",
       "      <td>14.0</td>\n",
       "      <td>4704.0</td>\n",
       "      <td>4741.7</td>\n",
       "      <td>3664.0</td>\n",
       "      <td>4.44</td>\n",
       "    </tr>\n",
       "    <tr>\n",
       "      <th>1296</th>\n",
       "      <td>216644</td>\n",
       "      <td>Прежний уровень</td>\n",
       "      <td>стандарт</td>\n",
       "      <td>нет</td>\n",
       "      <td>5.1</td>\n",
       "      <td>4</td>\n",
       "      <td>454</td>\n",
       "      <td>0.21</td>\n",
       "      <td>Домашний текстиль</td>\n",
       "      <td>6</td>\n",
       "      <td>2</td>\n",
       "      <td>3</td>\n",
       "      <td>9</td>\n",
       "      <td>11.0</td>\n",
       "      <td>12.0</td>\n",
       "      <td>5299.0</td>\n",
       "      <td>5353.0</td>\n",
       "      <td>4729.0</td>\n",
       "      <td>6.11</td>\n",
       "    </tr>\n",
       "    <tr>\n",
       "      <th>1297</th>\n",
       "      <td>216645</td>\n",
       "      <td>Прежний уровень</td>\n",
       "      <td>стандарт</td>\n",
       "      <td>да</td>\n",
       "      <td>4.1</td>\n",
       "      <td>3</td>\n",
       "      <td>586</td>\n",
       "      <td>0.20</td>\n",
       "      <td>Домашний текстиль</td>\n",
       "      <td>3</td>\n",
       "      <td>2</td>\n",
       "      <td>5</td>\n",
       "      <td>7</td>\n",
       "      <td>18.0</td>\n",
       "      <td>12.0</td>\n",
       "      <td>5334.0</td>\n",
       "      <td>5139.2</td>\n",
       "      <td>5160.0</td>\n",
       "      <td>3.29</td>\n",
       "    </tr>\n",
       "    <tr>\n",
       "      <th>1298</th>\n",
       "      <td>216646</td>\n",
       "      <td>Прежний уровень</td>\n",
       "      <td>стандарт</td>\n",
       "      <td>да</td>\n",
       "      <td>6.3</td>\n",
       "      <td>5</td>\n",
       "      <td>645</td>\n",
       "      <td>0.12</td>\n",
       "      <td>Техника для красоты и здоровья</td>\n",
       "      <td>3</td>\n",
       "      <td>3</td>\n",
       "      <td>5</td>\n",
       "      <td>7</td>\n",
       "      <td>7.0</td>\n",
       "      <td>18.0</td>\n",
       "      <td>4725.0</td>\n",
       "      <td>5224.6</td>\n",
       "      <td>4923.0</td>\n",
       "      <td>4.03</td>\n",
       "    </tr>\n",
       "    <tr>\n",
       "      <th>1299</th>\n",
       "      <td>216647</td>\n",
       "      <td>Прежний уровень</td>\n",
       "      <td>премиум</td>\n",
       "      <td>да</td>\n",
       "      <td>4.0</td>\n",
       "      <td>5</td>\n",
       "      <td>906</td>\n",
       "      <td>0.94</td>\n",
       "      <td>Техника для красоты и здоровья</td>\n",
       "      <td>4</td>\n",
       "      <td>5</td>\n",
       "      <td>3</td>\n",
       "      <td>12</td>\n",
       "      <td>10.0</td>\n",
       "      <td>15.0</td>\n",
       "      <td>5183.0</td>\n",
       "      <td>4448.3</td>\n",
       "      <td>4720.0</td>\n",
       "      <td>3.28</td>\n",
       "    </tr>\n",
       "  </tbody>\n",
       "</table>\n",
       "<p>1300 rows × 19 columns</p>\n",
       "</div>"
      ],
      "text/plain": [
       "          id покупательская_активность тип_сервиса разрешить_сообщать  \\\n",
       "0     215348                 Снизилась     премиум                 да   \n",
       "1     215349                 Снизилась     премиум                 да   \n",
       "2     215350                 Снизилась    стандарт                нет   \n",
       "3     215351                 Снизилась    стандарт                 да   \n",
       "4     215352                 Снизилась    стандарт                нет   \n",
       "...      ...                       ...         ...                ...   \n",
       "1295  216643           Прежний уровень    стандарт                 да   \n",
       "1296  216644           Прежний уровень    стандарт                нет   \n",
       "1297  216645           Прежний уровень    стандарт                 да   \n",
       "1298  216646           Прежний уровень    стандарт                 да   \n",
       "1299  216647           Прежний уровень     премиум                 да   \n",
       "\n",
       "      маркет_актив_6_мес  маркет_актив_тек_мес  длительность  \\\n",
       "0                    3.4                     5           121   \n",
       "1                    4.4                     4           819   \n",
       "2                    4.9                     3           539   \n",
       "3                    3.2                     5           896   \n",
       "4                    5.1                     3          1064   \n",
       "...                  ...                   ...           ...   \n",
       "1295                 6.6                     3           318   \n",
       "1296                 5.1                     4           454   \n",
       "1297                 4.1                     3           586   \n",
       "1298                 6.3                     5           645   \n",
       "1299                 4.0                     5           906   \n",
       "\n",
       "      акционные_покупки            популярная_категория  \\\n",
       "0                  0.00                Товары для детей   \n",
       "1                  0.75                Товары для детей   \n",
       "2                  0.14               Домашний текстиль   \n",
       "3                  0.99                Товары для детей   \n",
       "4                  0.94                Товары для детей   \n",
       "...                 ...                             ...   \n",
       "1295               0.24  Техника для красоты и здоровья   \n",
       "1296               0.21               Домашний текстиль   \n",
       "1297               0.20               Домашний текстиль   \n",
       "1298               0.12  Техника для красоты и здоровья   \n",
       "1299               0.94  Техника для красоты и здоровья   \n",
       "\n",
       "      средний_просмотр_категорий_за_визит  неоплаченные_продукты_штук_квартал  \\\n",
       "0                                       6                                   2   \n",
       "1                                       4                                   4   \n",
       "2                                       5                                   2   \n",
       "3                                       5                                   0   \n",
       "4                                       3                                   2   \n",
       "...                                   ...                                 ...   \n",
       "1295                                    5                                   3   \n",
       "1296                                    6                                   2   \n",
       "1297                                    3                                   2   \n",
       "1298                                    3                                   3   \n",
       "1299                                    4                                   5   \n",
       "\n",
       "      ошибка_сервиса  страниц_за_визит  текущий_месяц_time  \\\n",
       "0                  1                 5                14.0   \n",
       "1                  2                 5                10.0   \n",
       "2                  1                 5                13.0   \n",
       "3                  6                 4                13.0   \n",
       "4                  3                 2                11.0   \n",
       "...              ...               ...                 ...   \n",
       "1295               3                11                 7.0   \n",
       "1296               3                 9                11.0   \n",
       "1297               5                 7                18.0   \n",
       "1298               5                 7                 7.0   \n",
       "1299               3                12                10.0   \n",
       "\n",
       "      предыдущий_месяц_time  препредыдущий_месяц_revenue  \\\n",
       "0                      13.0                          0.0   \n",
       "1                      12.0                       4472.0   \n",
       "2                       8.0                       4826.0   \n",
       "3                      11.0                       4793.0   \n",
       "4                       8.0                       4594.0   \n",
       "...                     ...                          ...   \n",
       "1295                   14.0                       4704.0   \n",
       "1296                   12.0                       5299.0   \n",
       "1297                   12.0                       5334.0   \n",
       "1298                   18.0                       4725.0   \n",
       "1299                   15.0                       5183.0   \n",
       "\n",
       "      текущий_месяц_revenue  предыдущий_месяц_revenue  прибыль  \n",
       "0                    3293.1                       0.0     0.98  \n",
       "1                    4971.6                    5216.0     4.16  \n",
       "2                    5058.4                    5457.5     3.13  \n",
       "3                    6610.4                    6158.0     4.87  \n",
       "4                    5872.5                    5807.5     4.21  \n",
       "...                     ...                       ...      ...  \n",
       "1295                 4741.7                    3664.0     4.44  \n",
       "1296                 5353.0                    4729.0     6.11  \n",
       "1297                 5139.2                    5160.0     3.29  \n",
       "1298                 5224.6                    4923.0     4.03  \n",
       "1299                 4448.3                    4720.0     3.28  \n",
       "\n",
       "[1300 rows x 19 columns]"
      ]
     },
     "execution_count": 37,
     "metadata": {},
     "output_type": "execute_result"
    }
   ],
   "source": [
    "df = df.merge(money_processed, on='id', how='outer')\n",
    "df"
   ]
  },
  {
   "cell_type": "code",
   "execution_count": 38,
   "metadata": {},
   "outputs": [
    {
     "name": "stdout",
     "output_type": "stream",
     "text": [
      "\n",
      "Первые 5 строк с прогнозами:\n",
      "   probability  predicted_class\n",
      "0     0.657500                0\n",
      "1     0.863729                1\n",
      "2     0.507233                0\n",
      "3     0.720123                1\n",
      "4     0.808374                1\n",
      "\n",
      "Распределение предсказанных классов:\n",
      "0    918\n",
      "1    382\n",
      "Name: predicted_class, dtype: int64\n"
     ]
    }
   ],
   "source": [
    "X_all = df.drop(columns=['покупательская_активность', 'id'])  \n",
    "\n",
    "# Получаем прогнозные вероятности для всех наблюдений\n",
    "df['probability'] = best_model.predict_proba(X_all)[:, 1]\n",
    "\n",
    "# Добавляем предсказанный класс с порогом 0.7\n",
    "df['predicted_class'] = (df['probability'] >= 0.7).astype(int)\n",
    "\n",
    "# Выводим первые несколько строк для проверки\n",
    "print(\"\\nПервые 5 строк с прогнозами:\")\n",
    "print(df[['probability', 'predicted_class']].head())\n",
    "\n",
    "# Выводим распределение предсказанных классов\n",
    "print(\"\\nРаспределение предсказанных классов:\")\n",
    "print(df['predicted_class'].value_counts())\n"
   ]
  },
  {
   "cell_type": "code",
   "execution_count": 39,
   "metadata": {},
   "outputs": [
    {
     "data": {
      "image/png": "[encoded data removed]",
      "text/plain": [
       "<Figure size 864x576 with 1 Axes>"
      ]
     },
     "metadata": {
      "needs_background": "light"
     },
     "output_type": "display_data"
    },
    {
     "name": "stdout",
     "output_type": "stream",
     "text": [
      "\n",
      "Корреляция между прибылью и вероятностью понижения: -0.002\n"
     ]
    }
   ],
   "source": [
    "# Создаем scatter plot\n",
    "plt.figure(figsize=(12, 8))\n",
    "sns.scatterplot(\n",
    "    data=df,\n",
    "    x='прибыль',\n",
    "    y='probability',\n",
    "    alpha=0.6  # прозрачность точек\n",
    ")\n",
    "\n",
    "# Добавляем линию тренда\n",
    "sns.regplot(\n",
    "    data=df,\n",
    "    x='прибыль',\n",
    "    y='probability',\n",
    "    scatter=False,\n",
    "    color='red'\n",
    ")\n",
    "\n",
    "# Настраиваем график\n",
    "plt.title('Зависимость вероятности понижения активности от прибыли', \n",
    "          pad=20, size=14)\n",
    "plt.xlabel('Прибыль клиента')\n",
    "plt.ylabel('Вероятность понижения активности')\n",
    "\n",
    "# Добавляем сетку\n",
    "plt.grid(True, linestyle='--', alpha=0.7)\n",
    "\n",
    "# Оптимизируем layout\n",
    "plt.tight_layout()\n",
    "\n",
    "# Показываем график\n",
    "plt.show()\n",
    "\n",
    "# Выводим корреляцию\n",
    "correlation = df['прибыль'].corr(df['probability'])\n",
    "print(f\"\\nКорреляция между прибылью и вероятностью понижения: {correlation:.3f}\")"
   ]
  },
  {
   "cell_type": "code",
   "execution_count": 40,
   "metadata": {},
   "outputs": [],
   "source": [
    "#выделяем сегмент\n",
    "segment = df.query('популярная_категория in [\"Техника для красоты и здоровья\", \"Мелкая бытовая техника и электроника\"]')"
   ]
  },
  {
   "cell_type": "code",
   "execution_count": 41,
   "metadata": {},
   "outputs": [
    {
     "data": {
      "image/png": "[encoded data removed]",
      "text/plain": [
       "<Figure size 864x576 with 1 Axes>"
      ]
     },
     "metadata": {
      "needs_background": "light"
     },
     "output_type": "display_data"
    },
    {
     "name": "stdout",
     "output_type": "stream",
     "text": [
      "\n",
      "Корреляция между прибылью и вероятностью понижения: 0.024\n"
     ]
    }
   ],
   "source": [
    "# Создаем scatter plot\n",
    "plt.figure(figsize=(12, 8))\n",
    "sns.scatterplot(\n",
    "    data=segment,\n",
    "    x='прибыль',\n",
    "    y='probability',\n",
    "    alpha=0.6  # прозрачность точек\n",
    ")\n",
    "\n",
    "# Добавляем линию тренда\n",
    "sns.regplot(\n",
    "    data=segment,\n",
    "    x='прибыль',\n",
    "    y='probability',\n",
    "    scatter=False,\n",
    "    color='red'\n",
    ")\n",
    "\n",
    "# Настраиваем график\n",
    "plt.title('Зависимость вероятности понижения активности от прибыли в выбранном сегменте', \n",
    "          pad=20, size=14)\n",
    "plt.xlabel('Прибыль клиента')\n",
    "plt.ylabel('Вероятность понижения активности')\n",
    "\n",
    "# Добавляем сетку\n",
    "plt.grid(True, linestyle='--', alpha=0.7)\n",
    "\n",
    "# Оптимизируем layout\n",
    "plt.tight_layout()\n",
    "\n",
    "# Показываем график\n",
    "plt.show()\n",
    "\n",
    "# Выводим корреляцию\n",
    "correlation = segment['прибыль'].corr(segment['probability'])\n",
    "print(f\"\\nКорреляция между прибылью и вероятностью понижения: {correlation:.3f}\")"
   ]
  },
  {
   "cell_type": "code",
   "execution_count": 42,
   "metadata": {},
   "outputs": [
    {
     "name": "stdout",
     "output_type": "stream",
     "text": [
      "Анализ ключевых клиентов:\n",
      "Количество клиентов в сегменте: 15\n",
      "Доля от общего числа клиентов: 4.19%\n",
      "\n",
      "Средняя прибыль в сегменте: 5.07\n",
      "Средняя вероятность оттока: 0.96\n"
     ]
    },
    {
     "data": {
      "image/png": "[encoded data removed]",
      "text/plain": [
       "<Figure size 864x576 with 1 Axes>"
      ]
     },
     "metadata": {
      "needs_background": "light"
     },
     "output_type": "display_data"
    },
    {
     "name": "stdout",
     "output_type": "stream",
     "text": [
      "\n",
      "Топ-10 клиентов с наибольшей прибылью:\n",
      "         id покупательская_активность тип_сервиса разрешить_сообщать  \\\n",
      "20   215368                 Снизилась     премиум                 да   \n",
      "265  215613                 Снизилась    стандарт                 да   \n",
      "390  215738                 Снизилась     премиум                нет   \n",
      "292  215640                 Снизилась    стандарт                 да   \n",
      "350  215698                 Снизилась    стандарт                 да   \n",
      "397  215745                 Снизилась    стандарт                 да   \n",
      "349  215697                 Снизилась     премиум                 да   \n",
      "162  215510                 Снизилась    стандарт                 да   \n",
      "176  215524                 Снизилась    стандарт                 да   \n",
      "391  215739                 Снизилась    стандарт                нет   \n",
      "\n",
      "     маркет_актив_6_мес  маркет_актив_тек_мес  длительность  \\\n",
      "20                  3.8                     5           829   \n",
      "265                 4.4                     4           627   \n",
      "390                 4.6                     5           187   \n",
      "292                 2.4                     4           251   \n",
      "350                 3.5                     4           685   \n",
      "397                 1.7                     4           550   \n",
      "349                 3.9                     4           935   \n",
      "162                 3.8                     4           324   \n",
      "176                 3.0                     3           474   \n",
      "391                 3.4                     4           875   \n",
      "\n",
      "     акционные_покупки                  популярная_категория  \\\n",
      "20                0.24        Техника для красоты и здоровья   \n",
      "265               0.93        Техника для красоты и здоровья   \n",
      "390               0.23  Мелкая бытовая техника и электроника   \n",
      "292               0.32        Техника для красоты и здоровья   \n",
      "350               0.89        Техника для красоты и здоровья   \n",
      "397               0.94  Мелкая бытовая техника и электроника   \n",
      "349               0.39        Техника для красоты и здоровья   \n",
      "162               0.22        Техника для красоты и здоровья   \n",
      "176               0.23        Техника для красоты и здоровья   \n",
      "391               0.25  Мелкая бытовая техника и электроника   \n",
      "\n",
      "     средний_просмотр_категорий_за_визит  ...  ошибка_сервиса  \\\n",
      "20                                     2  ...               6   \n",
      "265                                    3  ...               3   \n",
      "390                                    1  ...               3   \n",
      "292                                    2  ...               1   \n",
      "350                                    2  ...               3   \n",
      "397                                    4  ...               3   \n",
      "349                                    3  ...               6   \n",
      "162                                    2  ...               2   \n",
      "176                                    1  ...               4   \n",
      "391                                    2  ...               1   \n",
      "\n",
      "     страниц_за_визит  текущий_месяц_time  предыдущий_месяц_time  \\\n",
      "20                  1                 9.0                   11.0   \n",
      "265                 4                12.0                   11.0   \n",
      "390                 2                 7.0                    9.0   \n",
      "292                 5                10.0                   13.0   \n",
      "350                 3                10.0                   12.0   \n",
      "397                 6                 9.0                    9.0   \n",
      "349                 4                10.0                    7.0   \n",
      "162                 2                14.0                    9.0   \n",
      "176                 2                11.0                   12.0   \n",
      "391                 3                 9.0                    9.0   \n",
      "\n",
      "     препредыдущий_месяц_revenue  текущий_месяц_revenue  \\\n",
      "20                        4536.0                 5591.6   \n",
      "265                       4457.0                 4700.5   \n",
      "390                       4500.0                 4445.4   \n",
      "292                       4310.0                 4291.0   \n",
      "350                       4429.0                 3520.3   \n",
      "397                       4990.0                 6126.4   \n",
      "349                       4660.0                 3993.5   \n",
      "162                       4814.0                 4242.7   \n",
      "176                       4508.0                 4240.3   \n",
      "391                       4258.0                 5156.6   \n",
      "\n",
      "     предыдущий_месяц_revenue  прибыль  probability  predicted_class  \n",
      "20                     5823.0     6.27     0.984289                1  \n",
      "265                    3563.0     5.99     0.953290                1  \n",
      "390                    4773.0     5.25     0.968631                1  \n",
      "292                    4213.0     5.14     0.928782                1  \n",
      "350                    3441.0     5.10     0.980236                1  \n",
      "397                    5654.5     5.10     0.928837                1  \n",
      "349                    3688.0     5.02     0.967912                1  \n",
      "162                    4244.0     5.01     0.988233                1  \n",
      "176                    3836.0     4.97     0.974561                1  \n",
      "391                    5186.5     4.81     0.985681                1  \n",
      "\n",
      "[10 rows x 21 columns]\n"
     ]
    }
   ],
   "source": [
    "# Определяем пороговые значения\n",
    "profit_threshold = segment['прибыль'].quantile(0.75)  # верхний квартиль по прибыли\n",
    "probability_threshold = 0.7  # порог вероятности\n",
    "\n",
    "# Отбираем ключевых клиентов\n",
    "key_clients = segment[\n",
    "    (segment['прибыль'] >= profit_threshold) & \n",
    "    (segment['probability'] >= probability_threshold)\n",
    "].copy()\n",
    "\n",
    "# Выводим информацию о выделенном сегменте\n",
    "print(\"Анализ ключевых клиентов:\")\n",
    "print(f\"Количество клиентов в сегменте: {len(key_clients)}\")\n",
    "print(f\"Доля от общего числа клиентов: {(len(key_clients) / len(segment) * 100):.2f}%\")\n",
    "print(f\"\\nСредняя прибыль в сегменте: {key_clients['прибыль'].mean():.2f}\")\n",
    "print(f\"Средняя вероятность оттока: {key_clients['probability'].mean():.2f}\")\n",
    "\n",
    "# Визуализация отобранных клиентов\n",
    "plt.figure(figsize=(12, 8))\n",
    "\n",
    "# Построение scatter plot для всех клиентов\n",
    "plt.scatter(segment['прибыль'], segment['probability'], \n",
    "           alpha=0.3, color='gray', label='Все клиенты')\n",
    "\n",
    "# Выделение отобранных клиентов\n",
    "plt.scatter(key_clients['прибыль'], key_clients['probability'], \n",
    "           color='red', label='Ключевые клиенты')\n",
    "\n",
    "# Добавляем линии порогов\n",
    "plt.axhline(y=probability_threshold, color='r', linestyle='--', alpha=0.5)\n",
    "plt.axvline(x=profit_threshold, color='r', linestyle='--', alpha=0.5)\n",
    "\n",
    "plt.title('Выделение ключевых клиентов с высоким риском в сегменте')\n",
    "plt.xlabel('Прибыль')\n",
    "plt.ylabel('Вероятность понижения активности')\n",
    "plt.legend()\n",
    "plt.grid(True, alpha=0.3)\n",
    "plt.show()\n",
    "\n",
    "# Сохраняем результаты\n",
    "print(\"\\nТоп-10 клиентов с наибольшей прибылью:\")\n",
    "print(key_clients.sort_values('прибыль', ascending=False).head(10))"
   ]
  },
  {
   "cell_type": "code",
   "execution_count": 43,
   "metadata": {},
   "outputs": [],
   "source": [
    "# Create a copy of the dataframe\n",
    "segment_new = segment.copy()\n",
    "\n",
    "# Create a boolean mask for matching IDs\n",
    "mask = segment_new['id'].isin(key_clients['id'].to_list())\n",
    "\n",
    "# Apply the multiplication only to matching rows\n",
    "segment_new.loc[mask, 'маркет_актив_6_мес'] = segment_new.loc[mask, 'маркет_актив_6_мес'] * 2\n",
    "\n",
    "# Create a copy of key clients and prepare for prediction\n",
    "segment_new_X = segment_new.drop(columns=['покупательская_активность', 'id']).copy()\n",
    "\n",
    "# Calculate new probabilities\n",
    "segment_new['probability'] = best_model.predict_proba(segment_new_X)[:, 1]"
   ]
  },
  {
   "cell_type": "code",
   "execution_count": 44,
   "metadata": {},
   "outputs": [
    {
     "name": "stdout",
     "output_type": "stream",
     "text": [
      "Анализ ключевых клиентов:\n",
      "Количество клиентов в сегменте: 9\n",
      "Доля от общего числа клиентов: 2.51%\n",
      "\n",
      "Средняя прибыль в сегменте: 5.14\n",
      "Средняя вероятность оттока: 0.83\n"
     ]
    },
    {
     "data": {
      "image/png": "[encoded data removed]",
      "text/plain": [
       "<Figure size 864x576 with 1 Axes>"
      ]
     },
     "metadata": {
      "needs_background": "light"
     },
     "output_type": "display_data"
    },
    {
     "name": "stdout",
     "output_type": "stream",
     "text": [
      "\n",
      "Топ-10 клиентов с наибольшей прибылью:\n",
      "         id покупательская_активность тип_сервиса разрешить_сообщать  \\\n",
      "20   215368                 Снизилась     премиум                 да   \n",
      "390  215738                 Снизилась     премиум                нет   \n",
      "292  215640                 Снизилась    стандарт                 да   \n",
      "350  215698                 Снизилась    стандарт                 да   \n",
      "397  215745                 Снизилась    стандарт                 да   \n",
      "162  215510                 Снизилась    стандарт                 да   \n",
      "176  215524                 Снизилась    стандарт                 да   \n",
      "50   215398                 Снизилась     премиум                 да   \n",
      "192  215540                 Снизилась     премиум                 да   \n",
      "\n",
      "     маркет_актив_6_мес  маркет_актив_тек_мес  длительность  \\\n",
      "20                  7.6                     5           829   \n",
      "390                 9.2                     5           187   \n",
      "292                 4.8                     4           251   \n",
      "350                 7.0                     4           685   \n",
      "397                 3.4                     4           550   \n",
      "162                 7.6                     4           324   \n",
      "176                 6.0                     3           474   \n",
      "50                  7.0                     5           882   \n",
      "192                 2.8                     5           355   \n",
      "\n",
      "     акционные_покупки                  популярная_категория  \\\n",
      "20                0.24        Техника для красоты и здоровья   \n",
      "390               0.23  Мелкая бытовая техника и электроника   \n",
      "292               0.32        Техника для красоты и здоровья   \n",
      "350               0.89        Техника для красоты и здоровья   \n",
      "397               0.94  Мелкая бытовая техника и электроника   \n",
      "162               0.22        Техника для красоты и здоровья   \n",
      "176               0.23        Техника для красоты и здоровья   \n",
      "50                0.22  Мелкая бытовая техника и электроника   \n",
      "192               0.33  Мелкая бытовая техника и электроника   \n",
      "\n",
      "     средний_просмотр_категорий_за_визит  ...  ошибка_сервиса  \\\n",
      "20                                     2  ...               6   \n",
      "390                                    1  ...               3   \n",
      "292                                    2  ...               1   \n",
      "350                                    2  ...               3   \n",
      "397                                    4  ...               3   \n",
      "162                                    2  ...               2   \n",
      "176                                    1  ...               4   \n",
      "50                                     3  ...               6   \n",
      "192                                    1  ...               5   \n",
      "\n",
      "     страниц_за_визит  текущий_месяц_time  предыдущий_месяц_time  \\\n",
      "20                  1                 9.0                   11.0   \n",
      "390                 2                 7.0                    9.0   \n",
      "292                 5                10.0                   13.0   \n",
      "350                 3                10.0                   12.0   \n",
      "397                 6                 9.0                    9.0   \n",
      "162                 2                14.0                    9.0   \n",
      "176                 2                11.0                   12.0   \n",
      "50                  3                 6.0                    5.0   \n",
      "192                 5                10.0                    9.0   \n",
      "\n",
      "     препредыдущий_месяц_revenue  текущий_месяц_revenue  \\\n",
      "20                        4536.0                 5591.6   \n",
      "390                       4500.0                 4445.4   \n",
      "292                       4310.0                 4291.0   \n",
      "350                       4429.0                 3520.3   \n",
      "397                       4990.0                 6126.4   \n",
      "162                       4814.0                 4242.7   \n",
      "176                       4508.0                 4240.3   \n",
      "50                        4557.0                 5854.2   \n",
      "192                       4826.0                 6118.6   \n",
      "\n",
      "     предыдущий_месяц_revenue  прибыль  probability  predicted_class  \n",
      "20                     5823.0     6.27     0.760242                1  \n",
      "390                    4773.0     5.25     0.707754                1  \n",
      "292                    4213.0     5.14     0.884008                1  \n",
      "350                    3441.0     5.10     0.801005                1  \n",
      "397                    5654.5     5.10     0.843308                1  \n",
      "162                    4244.0     5.01     0.737627                1  \n",
      "176                    3836.0     4.97     0.918814                1  \n",
      "50                     5530.5     4.77     0.849630                1  \n",
      "192                    5277.5     4.68     0.923670                1  \n",
      "\n",
      "[9 rows x 21 columns]\n"
     ]
    }
   ],
   "source": [
    "# Определяем пороговые значения\n",
    "profit_threshold = df['прибыль'].quantile(0.75)  # верхний квартиль по прибыли\n",
    "probability_threshold = 0.7  # порог вероятности\n",
    "\n",
    "# Отбираем ключевых клиентов\n",
    "key_clients_new = segment_new[\n",
    "    (segment_new['прибыль'] >= profit_threshold) & \n",
    "    (segment_new['probability'] >= probability_threshold)\n",
    "].copy()\n",
    "\n",
    "# Выводим информацию о выделенном сегменте\n",
    "print(\"Анализ ключевых клиентов:\")\n",
    "print(f\"Количество клиентов в сегменте: {len(key_clients_new)}\")\n",
    "print(f\"Доля от общего числа клиентов: {(len(key_clients_new) / len(segment_new) * 100):.2f}%\")\n",
    "print(f\"\\nСредняя прибыль в сегменте: {key_clients_new['прибыль'].mean():.2f}\")\n",
    "print(f\"Средняя вероятность оттока: {key_clients_new['probability'].mean():.2f}\")\n",
    "\n",
    "# Визуализация отобранных клиентов\n",
    "plt.figure(figsize=(12, 8))\n",
    "\n",
    "# Построение scatter plot для всех клиентов\n",
    "plt.scatter(segment_new['прибыль'], segment_new['probability'], \n",
    "           alpha=0.3, color='gray', label='Все клиенты')\n",
    "\n",
    "# Выделение отобранных клиентов\n",
    "plt.scatter(key_clients_new['прибыль'], key_clients_new['probability'], \n",
    "           color='red', label='Ключевые клиенты')\n",
    "\n",
    "# Добавляем линии порогов\n",
    "plt.axhline(y=probability_threshold, color='r', linestyle='--', alpha=0.5)\n",
    "plt.axvline(x=profit_threshold, color='r', linestyle='--', alpha=0.5)\n",
    "\n",
    "plt.title('Выделение ключевых клиентов с высоким риском')\n",
    "plt.xlabel('Прибыль')\n",
    "plt.ylabel('Вероятность понижения активности')\n",
    "plt.legend()\n",
    "plt.grid(True, alpha=0.3)\n",
    "plt.show()\n",
    "\n",
    "# Сохраняем результаты\n",
    "print(\"\\nТоп-10 клиентов с наибольшей прибылью:\")\n",
    "print(key_clients_new.sort_values('прибыль', ascending=False).head(10))"
   ]
  },
  {
   "cell_type": "code",
   "execution_count": 45,
   "metadata": {},
   "outputs": [
    {
     "data": {
      "text/plain": [
       "(76.12, 46.29)"
      ]
     },
     "execution_count": 45,
     "metadata": {},
     "output_type": "execute_result"
    }
   ],
   "source": [
    "key_clients['прибыль'].sum(), key_clients_new['прибыль'].sum()"
   ]
  },
  {
   "cell_type": "code",
   "execution_count": 46,
   "metadata": {},
   "outputs": [
    {
     "data": {
      "text/plain": [
       "1384.26"
      ]
     },
     "execution_count": 46,
     "metadata": {},
     "output_type": "execute_result"
    }
   ],
   "source": [
    "segment['прибыль'].sum()"
   ]
  },
  {
   "cell_type": "markdown",
   "metadata": {},
   "source": [
    "### Выводы по шагу 8: Сегментация покупателей\n",
    "\n",
    "1. Проведенный анализ сегмента покупателей техники для красоты и здоровья и мелкой бытовой техники показал:\n",
    "\n",
    "- Обнаружена группа из 15 ключевых клиентов (4% от общего числа в сегменте)\n",
    "- Средняя прибыль в этой группе составляет 5.07\n",
    "- Средняя вероятность понижения активности 0.96\n",
    "- Общая прибыль по группе риска: 76 (5% прибыли сегмента)\n",
    "\n",
    "2. Была проведена симуляция увеличения маркетинговой активности:\n",
    "- Для ключевых клиентов маркетинговая активность за 6 месяцев была увеличена в 2 раза\n",
    "- Это привело к снижению среднего значения вероятности оттока с 0.96 до 0.83\n",
    "- Количество клиентов в зоне риска (probability > 0.7) сократилось на 40%\n",
    "- Прибыль, приходящаяся на клиентов с высокой вероятностью оттока, снизилась на 39%\n",
    "\n",
    "### Рекомендуемые действия:\n",
    "\n",
    "1. Приоритетные меры для ключевых клиентов:\n",
    "- Увеличить маркетинговую активность минимум в 2 раза\n",
    "- Разработать специальные предложения для данного сегмента\n",
    "- Внедрить программу лояльности с особыми условиями\n",
    "\n",
    "2. Мониторинг эффективности:\n",
    "- Отслеживать изменение покупательской активности после внедрения мер\n",
    "- Проводить регулярную оценку вероятности оттока\n",
    "- Корректировать маркетинговую стратегию на основе полученных результатов\n",
    "\n",
    "3. Долгосрочные меры:\n",
    "- Разработать систему раннего предупреждения оттока\n",
    "- Создать персонализированные предложения на основе истории покупок\n",
    "- Внедрить регулярный опрос удовлетворенности клиентов\n",
    "\n",
    "### Ожидаемый эффект:\n",
    "- Сохранение более 25% клиентов от потенциального оттока\n",
    "- Увеличение лояльности ключевых клиентов\n",
    "- Стабилизация выручки в данном сегменте"
   ]
  },
  {
   "cell_type": "markdown",
   "metadata": {},
   "source": [
    "\n",
    "# Итоговый отчет по проекту анализа покупательской активности\n",
    "\n",
    "## Основные этапы исследования\n",
    "\n",
    "1. **Загрузка и первичный анализ данных**\n",
    "    - Импортированы необходимые библиотеки\n",
    "    - Загружены 4 набора данных\n",
    "    - Проведен первичный анализ структуры данных\n",
    "\n",
    "2. **Предобработка данных**  \n",
    "    - Стандартизированы названия столбцов\n",
    "    - Обработаны пропущенные значения \n",
    "    - Исправлены ошибки в данных\n",
    "    - Удалены дубликаты\n",
    "\n",
    "3. **Исследовательский анализ**\n",
    "    - Проведен статистический анализ числовых и категориальных признаков\n",
    "    - Построены распределения и корреляционные матрицы\n",
    "    - Выявлены основные закономерности в данных\n",
    "\n",
    "4. **Объединение таблиц**\n",
    "    - Данные преобразованы для объединения\n",
    "    - Проведено слияние таблиц\n",
    "    - Создан единый датасет для анализа\n",
    "\n",
    "5. **Корреляционный анализ**\n",
    "    - Выявлены значимые взаимосвязи между признаками\n",
    "    - Определены признаки с высокой мультиколлинеарностью\n",
    "    - Отобраны наиболее информативные признаки\n",
    "\n",
    "6. **Моделирование**\n",
    "    - Построены и оценены различные модели классификации\n",
    "    - Проведена оптимизация гиперпараметров\n",
    "    - Выбрана лучшая модель (SVC с ROC-AUC = 0.9)\n",
    "\n",
    "7. **Анализ важности признаков**\n",
    "    - Определены наиболее значимые факторы\n",
    "    - Проведена интерпретация модели с помощью SHAP\n",
    "\n",
    "8. **Сегментация клиентов**\n",
    "    - Выделен сегмент ключевых клиентов с высоким риском оттока\n",
    "    - Проведено моделирование эффекта от маркетинговых мероприятий\n",
    "\n",
    "## Основные выводы\n",
    "\n",
    "1. **Выявлены ключевые факторы**, влияющие на снижение покупательской активности:\n",
    "    - Текущая выручка\n",
    "    - Время на сайте\n",
    "    - Количество просмотренных страниц\n",
    "\n",
    "2. **Определен сегмент риска**:\n",
    "    - 15 ключевых клиента (4% от сегмента)\n",
    "    - Средняя прибыль 5.1\n",
    "    - Высокая вероятность оттока (1.0)\n",
    "\n",
    "3. **Эффективность предложенных мер**:\n",
    "    - Увеличение маркетинговой активности в 2 раза снижает риск оттока на 40%\n",
    "    - Потенциальное сохранение значительной доли прибыли\n",
    "\n",
    "## Рекомендации\n",
    "\n",
    "1. Внедрить систему раннего предупреждения оттока клиентов\n",
    "2. Увеличить маркетинговую активность для сегмента риска\n",
    "3. Разработать персонализированные предложения\n",
    "4. Регулярно мониторить эффективность принятых мер\n",
    "\n",
    "Реализация предложенных рекомендаций позволит сохранить ключевых клиентов и стабилизировать выручку компании.\n"
   ]
  }
 ],
 "metadata": {
  "ExecuteTimeLog": [
   {
    "duration": 1496,
    "start_time": "2025-04-15T17:16:56.281Z"
   },
   {
    "duration": 11,
    "start_time": "2025-04-15T17:17:03.532Z"
   },
   {
    "duration": 3471,
    "start_time": "2025-04-15T17:18:23.815Z"
   },
   {
    "duration": 332,
    "start_time": "2025-04-15T17:18:38.218Z"
   },
   {
    "duration": 54,
    "start_time": "2025-04-15T17:18:48.070Z"
   },
   {
    "duration": 3988,
    "start_time": "2025-04-15T17:19:14.360Z"
   },
   {
    "duration": 2554,
    "start_time": "2025-04-15T17:19:18.351Z"
   },
   {
    "duration": 475,
    "start_time": "2025-04-15T17:19:22.781Z"
   },
   {
    "duration": 57,
    "start_time": "2025-04-15T17:20:40.423Z"
   },
   {
    "duration": 102,
    "start_time": "2025-04-15T17:20:59.333Z"
   },
   {
    "duration": 79,
    "start_time": "2025-04-15T17:21:11.486Z"
   },
   {
    "duration": 42,
    "start_time": "2025-04-15T17:22:09.543Z"
   },
   {
    "duration": 1362,
    "start_time": "2025-04-15T17:22:37.608Z"
   },
   {
    "duration": 10,
    "start_time": "2025-04-15T17:23:11.663Z"
   },
   {
    "duration": 78,
    "start_time": "2025-04-15T17:23:46.733Z"
   },
   {
    "duration": 40,
    "start_time": "2025-04-15T17:23:47.243Z"
   },
   {
    "duration": 5,
    "start_time": "2025-04-15T17:23:48.303Z"
   },
   {
    "duration": 8,
    "start_time": "2025-04-15T17:23:49.338Z"
   },
   {
    "duration": 17,
    "start_time": "2025-04-15T17:24:13.510Z"
   },
   {
    "duration": 76,
    "start_time": "2025-04-15T17:24:23.496Z"
   },
   {
    "duration": 43,
    "start_time": "2025-04-15T17:24:23.703Z"
   },
   {
    "duration": 5,
    "start_time": "2025-04-15T17:24:23.887Z"
   },
   {
    "duration": 8,
    "start_time": "2025-04-15T17:24:24.075Z"
   },
   {
    "duration": 74,
    "start_time": "2025-04-15T17:26:33.631Z"
   },
   {
    "duration": 16,
    "start_time": "2025-04-15T17:29:05.251Z"
   },
   {
    "duration": 85,
    "start_time": "2025-04-15T17:29:11.438Z"
   },
   {
    "duration": 14,
    "start_time": "2025-04-15T17:29:15.163Z"
   },
   {
    "duration": 12,
    "start_time": "2025-04-15T17:33:34.492Z"
   },
   {
    "duration": 7,
    "start_time": "2025-04-15T17:33:35.808Z"
   },
   {
    "duration": 16,
    "start_time": "2025-04-15T17:33:37.104Z"
   },
   {
    "duration": 6,
    "start_time": "2025-04-15T17:34:35.101Z"
   },
   {
    "duration": 25,
    "start_time": "2025-04-15T17:34:35.739Z"
   },
   {
    "duration": 6,
    "start_time": "2025-04-15T17:34:45.064Z"
   },
   {
    "duration": 15,
    "start_time": "2025-04-15T17:34:45.795Z"
   },
   {
    "duration": 7,
    "start_time": "2025-04-15T17:35:45.175Z"
   },
   {
    "duration": 14,
    "start_time": "2025-04-15T17:35:45.820Z"
   },
   {
    "duration": 23,
    "start_time": "2025-04-15T17:36:03.921Z"
   },
   {
    "duration": 6,
    "start_time": "2025-04-15T17:36:39.459Z"
   },
   {
    "duration": 16,
    "start_time": "2025-04-15T17:36:40.188Z"
   },
   {
    "duration": 7,
    "start_time": "2025-04-15T17:36:51.227Z"
   },
   {
    "duration": 14,
    "start_time": "2025-04-15T17:36:51.711Z"
   },
   {
    "duration": 24,
    "start_time": "2025-04-15T17:37:04.460Z"
   },
   {
    "duration": 15,
    "start_time": "2025-04-15T17:37:25.733Z"
   },
   {
    "duration": 10,
    "start_time": "2025-04-15T17:37:38.974Z"
   },
   {
    "duration": 1225,
    "start_time": "2025-04-15T17:38:37.520Z"
   },
   {
    "duration": 2019,
    "start_time": "2025-04-15T17:38:58.143Z"
   },
   {
    "duration": 21,
    "start_time": "2025-04-15T17:39:16.664Z"
   },
   {
    "duration": 5,
    "start_time": "2025-04-15T17:39:29.559Z"
   },
   {
    "duration": 10,
    "start_time": "2025-04-15T18:40:23.148Z"
   },
   {
    "duration": 3098,
    "start_time": "2025-04-15T18:40:29.899Z"
   },
   {
    "duration": 3202,
    "start_time": "2025-04-15T18:41:52.367Z"
   },
   {
    "duration": 3028,
    "start_time": "2025-04-15T18:42:09.097Z"
   },
   {
    "duration": 11,
    "start_time": "2025-04-15T18:42:46.323Z"
   },
   {
    "duration": 3083,
    "start_time": "2025-04-15T18:42:47.234Z"
   },
   {
    "duration": 2859,
    "start_time": "2025-04-15T18:43:44.523Z"
   },
   {
    "duration": 1160,
    "start_time": "2025-04-15T18:44:07.320Z"
   },
   {
    "duration": 1050,
    "start_time": "2025-04-15T18:44:48.725Z"
   },
   {
    "duration": 27,
    "start_time": "2025-04-15T18:45:52.703Z"
   },
   {
    "duration": 28,
    "start_time": "2025-04-15T18:46:17.922Z"
   },
   {
    "duration": 29,
    "start_time": "2025-04-15T18:48:18.483Z"
   },
   {
    "duration": 12,
    "start_time": "2025-04-15T18:52:04.630Z"
   },
   {
    "duration": 11,
    "start_time": "2025-04-15T18:52:10.099Z"
   },
   {
    "duration": 13,
    "start_time": "2025-04-15T18:52:24.866Z"
   },
   {
    "duration": 13,
    "start_time": "2025-04-15T18:52:37.045Z"
   },
   {
    "duration": 27,
    "start_time": "2025-04-15T18:52:51.884Z"
   },
   {
    "duration": 13,
    "start_time": "2025-04-15T18:56:51.272Z"
   },
   {
    "duration": 6,
    "start_time": "2025-04-15T18:57:18.928Z"
   },
   {
    "duration": 6,
    "start_time": "2025-04-15T18:57:19.621Z"
   },
   {
    "duration": 2238,
    "start_time": "2025-04-15T18:57:20.270Z"
   },
   {
    "duration": 11,
    "start_time": "2025-04-15T18:59:21.749Z"
   },
   {
    "duration": 20,
    "start_time": "2025-04-15T18:59:30.707Z"
   },
   {
    "duration": 9,
    "start_time": "2025-04-15T18:59:42.805Z"
   },
   {
    "duration": 14124,
    "start_time": "2025-04-15T18:59:56.222Z"
   },
   {
    "duration": 18,
    "start_time": "2025-04-15T19:08:21.961Z"
   },
   {
    "duration": 18,
    "start_time": "2025-04-15T19:09:25.951Z"
   },
   {
    "duration": 4,
    "start_time": "2025-04-15T19:09:33.704Z"
   },
   {
    "duration": 10,
    "start_time": "2025-04-15T19:09:39.129Z"
   },
   {
    "duration": 14542,
    "start_time": "2025-04-15T19:09:42.240Z"
   },
   {
    "duration": 10,
    "start_time": "2025-04-15T19:10:28.649Z"
   },
   {
    "duration": 14602,
    "start_time": "2025-04-15T19:10:57.984Z"
   },
   {
    "duration": 25,
    "start_time": "2025-04-15T19:16:01.148Z"
   },
   {
    "duration": 4,
    "start_time": "2025-04-15T19:16:52.870Z"
   },
   {
    "duration": 3,
    "start_time": "2025-04-15T19:18:11.126Z"
   },
   {
    "duration": 171,
    "start_time": "2025-04-15T19:18:19.477Z"
   },
   {
    "duration": 630,
    "start_time": "2025-04-15T19:18:49.132Z"
   },
   {
    "duration": 24,
    "start_time": "2025-04-15T19:21:55.327Z"
   },
   {
    "duration": 22,
    "start_time": "2025-04-15T19:22:45.982Z"
   },
   {
    "duration": 25,
    "start_time": "2025-04-15T19:25:33.790Z"
   },
   {
    "duration": 22,
    "start_time": "2025-04-15T19:26:31.791Z"
   },
   {
    "duration": 32,
    "start_time": "2025-04-15T19:26:38.944Z"
   },
   {
    "duration": 33,
    "start_time": "2025-04-15T19:26:45.036Z"
   },
   {
    "duration": 30,
    "start_time": "2025-04-15T19:26:52.867Z"
   },
   {
    "duration": 25,
    "start_time": "2025-04-15T19:27:31.853Z"
   },
   {
    "duration": 33,
    "start_time": "2025-04-15T19:30:30.437Z"
   },
   {
    "duration": 22,
    "start_time": "2025-04-15T19:30:48.686Z"
   },
   {
    "duration": 22,
    "start_time": "2025-04-15T19:32:29.702Z"
   },
   {
    "duration": 24,
    "start_time": "2025-04-15T19:34:33.965Z"
   },
   {
    "duration": 23,
    "start_time": "2025-04-15T19:35:13.507Z"
   },
   {
    "duration": 7066,
    "start_time": "2025-04-15T19:36:19.985Z"
   },
   {
    "duration": 8,
    "start_time": "2025-04-15T19:36:36.333Z"
   },
   {
    "duration": 34,
    "start_time": "2025-04-15T19:36:46.548Z"
   },
   {
    "duration": 31,
    "start_time": "2025-04-15T19:37:36.581Z"
   },
   {
    "duration": 604973,
    "start_time": "2025-04-15T19:38:09.576Z"
   },
   {
    "duration": 0,
    "start_time": "2025-04-15T19:48:14.638Z"
   },
   {
    "duration": 5,
    "start_time": "2025-04-15T19:50:17.165Z"
   },
   {
    "duration": 605620,
    "start_time": "2025-04-15T19:50:24.822Z"
   },
   {
    "duration": 7,
    "start_time": "2025-04-15T20:01:02.136Z"
   },
   {
    "duration": 9,
    "start_time": "2025-04-15T20:01:33.312Z"
   },
   {
    "duration": 5,
    "start_time": "2025-04-15T20:03:32.111Z"
   },
   {
    "duration": 4454,
    "start_time": "2025-04-15T20:03:37.778Z"
   },
   {
    "duration": 2202,
    "start_time": "2025-04-15T20:03:48.238Z"
   },
   {
    "duration": 6,
    "start_time": "2025-04-15T20:04:29.284Z"
   },
   {
    "duration": 2166,
    "start_time": "2025-04-15T20:04:35.982Z"
   },
   {
    "duration": 3524,
    "start_time": "2025-04-15T20:04:48.961Z"
   },
   {
    "duration": 3109,
    "start_time": "2025-04-15T20:05:40.752Z"
   },
   {
    "duration": 3,
    "start_time": "2025-04-15T20:08:28.550Z"
   },
   {
    "duration": 4,
    "start_time": "2025-04-15T20:11:01.432Z"
   },
   {
    "duration": 3,
    "start_time": "2025-04-15T20:11:32.630Z"
   },
   {
    "duration": 13,
    "start_time": "2025-04-15T20:13:59.647Z"
   },
   {
    "duration": 14,
    "start_time": "2025-04-15T20:14:19.044Z"
   },
   {
    "duration": 13,
    "start_time": "2025-04-15T20:15:06.093Z"
   },
   {
    "duration": 15,
    "start_time": "2025-04-15T20:15:39.955Z"
   },
   {
    "duration": 20,
    "start_time": "2025-04-15T20:16:18.799Z"
   },
   {
    "duration": 15,
    "start_time": "2025-04-15T20:18:42.057Z"
   },
   {
    "duration": 14,
    "start_time": "2025-04-15T20:18:47.577Z"
   },
   {
    "duration": 23,
    "start_time": "2025-04-15T20:19:05.437Z"
   },
   {
    "duration": 13,
    "start_time": "2025-04-15T20:19:34.237Z"
   },
   {
    "duration": 1844,
    "start_time": "2025-04-15T20:20:00.520Z"
   },
   {
    "duration": 13,
    "start_time": "2025-04-15T20:20:12.048Z"
   },
   {
    "duration": 12,
    "start_time": "2025-04-15T20:20:18.922Z"
   },
   {
    "duration": 13,
    "start_time": "2025-04-15T20:20:32.279Z"
   },
   {
    "duration": 12,
    "start_time": "2025-04-15T20:20:58.074Z"
   },
   {
    "duration": 4,
    "start_time": "2025-04-15T20:22:04.850Z"
   },
   {
    "duration": 2296,
    "start_time": "2025-04-15T20:22:16.642Z"
   },
   {
    "duration": 195,
    "start_time": "2025-04-15T20:22:21.129Z"
   },
   {
    "duration": 3,
    "start_time": "2025-04-15T20:22:32.795Z"
   },
   {
    "duration": 5,
    "start_time": "2025-04-15T20:23:20.603Z"
   },
   {
    "duration": 2157,
    "start_time": "2025-04-15T20:23:25.589Z"
   },
   {
    "duration": 89,
    "start_time": "2025-04-15T20:23:27.749Z"
   },
   {
    "duration": 210,
    "start_time": "2025-04-15T20:23:29.152Z"
   },
   {
    "duration": 2449,
    "start_time": "2025-04-15T20:24:15.738Z"
   },
   {
    "duration": 2865,
    "start_time": "2025-04-15T20:24:30.803Z"
   },
   {
    "duration": 17,
    "start_time": "2025-04-15T20:25:08.980Z"
   },
   {
    "duration": 2030,
    "start_time": "2025-04-15T20:25:13.908Z"
   },
   {
    "duration": 5,
    "start_time": "2025-04-15T20:25:15.943Z"
   },
   {
    "duration": 295,
    "start_time": "2025-04-15T20:25:15.950Z"
   },
   {
    "duration": 0,
    "start_time": "2025-04-15T20:25:16.247Z"
   },
   {
    "duration": 21,
    "start_time": "2025-04-15T20:25:19.394Z"
   },
   {
    "duration": 867,
    "start_time": "2025-04-15T20:25:32.512Z"
   },
   {
    "duration": 12,
    "start_time": "2025-04-15T20:26:44.327Z"
   },
   {
    "duration": 1947,
    "start_time": "2025-04-15T20:27:18.991Z"
   },
   {
    "duration": 183,
    "start_time": "2025-04-15T20:27:53.263Z"
   },
   {
    "duration": 196,
    "start_time": "2025-04-15T20:27:59.607Z"
   },
   {
    "duration": 14542,
    "start_time": "2025-04-15T20:28:45.701Z"
   },
   {
    "duration": 210,
    "start_time": "2025-04-15T20:29:11.930Z"
   },
   {
    "duration": 7135,
    "start_time": "2025-04-15T20:29:20.051Z"
   },
   {
    "duration": 3533,
    "start_time": "2025-04-15T20:29:27.189Z"
   },
   {
    "duration": 6847,
    "start_time": "2025-04-15T20:29:30.724Z"
   },
   {
    "duration": 3219,
    "start_time": "2025-04-15T20:29:37.574Z"
   },
   {
    "duration": 544,
    "start_time": "2025-04-15T20:29:40.796Z"
   },
   {
    "duration": 0,
    "start_time": "2025-04-15T20:29:41.345Z"
   },
   {
    "duration": 0,
    "start_time": "2025-04-15T20:29:41.347Z"
   },
   {
    "duration": 0,
    "start_time": "2025-04-15T20:29:41.349Z"
   },
   {
    "duration": 0,
    "start_time": "2025-04-15T20:29:41.351Z"
   },
   {
    "duration": 0,
    "start_time": "2025-04-15T20:29:41.352Z"
   },
   {
    "duration": 0,
    "start_time": "2025-04-15T20:29:41.354Z"
   },
   {
    "duration": 0,
    "start_time": "2025-04-15T20:29:41.355Z"
   },
   {
    "duration": 0,
    "start_time": "2025-04-15T20:29:41.357Z"
   },
   {
    "duration": 0,
    "start_time": "2025-04-15T20:29:41.359Z"
   },
   {
    "duration": 0,
    "start_time": "2025-04-15T20:29:41.360Z"
   },
   {
    "duration": 0,
    "start_time": "2025-04-15T20:29:41.361Z"
   },
   {
    "duration": 0,
    "start_time": "2025-04-15T20:29:41.363Z"
   },
   {
    "duration": 0,
    "start_time": "2025-04-15T20:29:41.365Z"
   },
   {
    "duration": 0,
    "start_time": "2025-04-15T20:29:41.366Z"
   },
   {
    "duration": 0,
    "start_time": "2025-04-15T20:29:41.367Z"
   },
   {
    "duration": 0,
    "start_time": "2025-04-15T20:29:41.369Z"
   },
   {
    "duration": 0,
    "start_time": "2025-04-15T20:29:41.370Z"
   },
   {
    "duration": 0,
    "start_time": "2025-04-15T20:29:41.371Z"
   },
   {
    "duration": 0,
    "start_time": "2025-04-15T20:29:41.373Z"
   },
   {
    "duration": 0,
    "start_time": "2025-04-15T20:29:41.374Z"
   },
   {
    "duration": 0,
    "start_time": "2025-04-15T20:29:41.375Z"
   },
   {
    "duration": 1,
    "start_time": "2025-04-15T20:29:41.376Z"
   },
   {
    "duration": 0,
    "start_time": "2025-04-15T20:29:41.379Z"
   },
   {
    "duration": 0,
    "start_time": "2025-04-15T20:29:41.380Z"
   },
   {
    "duration": 0,
    "start_time": "2025-04-15T20:29:41.438Z"
   },
   {
    "duration": 0,
    "start_time": "2025-04-15T20:29:41.440Z"
   },
   {
    "duration": 0,
    "start_time": "2025-04-15T20:29:41.441Z"
   },
   {
    "duration": 0,
    "start_time": "2025-04-15T20:29:41.442Z"
   },
   {
    "duration": 0,
    "start_time": "2025-04-15T20:29:41.444Z"
   },
   {
    "duration": 0,
    "start_time": "2025-04-15T20:29:41.445Z"
   },
   {
    "duration": 0,
    "start_time": "2025-04-15T20:29:41.446Z"
   },
   {
    "duration": 0,
    "start_time": "2025-04-15T20:29:41.447Z"
   },
   {
    "duration": 0,
    "start_time": "2025-04-15T20:29:41.448Z"
   },
   {
    "duration": 0,
    "start_time": "2025-04-15T20:29:41.450Z"
   },
   {
    "duration": 0,
    "start_time": "2025-04-15T20:29:41.450Z"
   },
   {
    "duration": 0,
    "start_time": "2025-04-15T20:29:41.452Z"
   },
   {
    "duration": 0,
    "start_time": "2025-04-15T20:29:41.453Z"
   },
   {
    "duration": 0,
    "start_time": "2025-04-15T20:29:41.454Z"
   },
   {
    "duration": 6484,
    "start_time": "2025-04-15T20:30:13.276Z"
   },
   {
    "duration": 21,
    "start_time": "2025-04-15T20:30:23.510Z"
   },
   {
    "duration": 14,
    "start_time": "2025-04-15T20:30:25.371Z"
   },
   {
    "duration": 6853,
    "start_time": "2025-04-15T20:31:06.522Z"
   },
   {
    "duration": 19,
    "start_time": "2025-04-15T20:31:16.849Z"
   },
   {
    "duration": 1751,
    "start_time": "2025-04-15T20:31:35.727Z"
   },
   {
    "duration": 565,
    "start_time": "2025-04-15T20:32:09.063Z"
   },
   {
    "duration": 6813,
    "start_time": "2025-04-15T20:32:17.567Z"
   },
   {
    "duration": 9247,
    "start_time": "2025-04-15T20:32:46.997Z"
   },
   {
    "duration": 27,
    "start_time": "2025-04-15T20:32:59.279Z"
   },
   {
    "duration": 2340,
    "start_time": "2025-04-15T20:33:14.146Z"
   },
   {
    "duration": 82,
    "start_time": "2025-04-15T20:33:18.591Z"
   },
   {
    "duration": 45,
    "start_time": "2025-04-15T20:33:18.769Z"
   },
   {
    "duration": 13,
    "start_time": "2025-04-15T20:33:19.239Z"
   },
   {
    "duration": 6,
    "start_time": "2025-04-15T20:33:19.386Z"
   },
   {
    "duration": 17,
    "start_time": "2025-04-15T20:33:19.542Z"
   },
   {
    "duration": 25,
    "start_time": "2025-04-15T20:33:19.708Z"
   },
   {
    "duration": 18,
    "start_time": "2025-04-15T20:33:19.878Z"
   },
   {
    "duration": 12,
    "start_time": "2025-04-15T20:33:20.034Z"
   },
   {
    "duration": 6,
    "start_time": "2025-04-15T20:33:20.210Z"
   },
   {
    "duration": 11,
    "start_time": "2025-04-15T20:33:20.711Z"
   },
   {
    "duration": 3331,
    "start_time": "2025-04-15T20:33:20.878Z"
   },
   {
    "duration": 3015,
    "start_time": "2025-04-15T20:33:24.211Z"
   },
   {
    "duration": 1489,
    "start_time": "2025-04-15T20:33:27.227Z"
   },
   {
    "duration": 1254,
    "start_time": "2025-04-15T20:33:28.718Z"
   },
   {
    "duration": 30,
    "start_time": "2025-04-15T20:33:29.974Z"
   },
   {
    "duration": 33,
    "start_time": "2025-04-15T20:33:30.008Z"
   },
   {
    "duration": 174,
    "start_time": "2025-04-15T20:33:30.043Z"
   },
   {
    "duration": 0,
    "start_time": "2025-04-15T20:33:30.219Z"
   },
   {
    "duration": 0,
    "start_time": "2025-04-15T20:33:30.220Z"
   },
   {
    "duration": 0,
    "start_time": "2025-04-15T20:33:30.221Z"
   },
   {
    "duration": 0,
    "start_time": "2025-04-15T20:33:30.222Z"
   },
   {
    "duration": 0,
    "start_time": "2025-04-15T20:33:30.223Z"
   },
   {
    "duration": 0,
    "start_time": "2025-04-15T20:33:30.225Z"
   },
   {
    "duration": 0,
    "start_time": "2025-04-15T20:33:30.237Z"
   },
   {
    "duration": 0,
    "start_time": "2025-04-15T20:33:30.239Z"
   },
   {
    "duration": 0,
    "start_time": "2025-04-15T20:33:30.240Z"
   },
   {
    "duration": 0,
    "start_time": "2025-04-15T20:33:30.241Z"
   },
   {
    "duration": 0,
    "start_time": "2025-04-15T20:33:30.243Z"
   },
   {
    "duration": 0,
    "start_time": "2025-04-15T20:33:30.244Z"
   },
   {
    "duration": 0,
    "start_time": "2025-04-15T20:33:30.245Z"
   },
   {
    "duration": 0,
    "start_time": "2025-04-15T20:33:30.246Z"
   },
   {
    "duration": 0,
    "start_time": "2025-04-15T20:33:30.247Z"
   },
   {
    "duration": 0,
    "start_time": "2025-04-15T20:33:30.248Z"
   },
   {
    "duration": 16,
    "start_time": "2025-04-15T20:34:31.869Z"
   },
   {
    "duration": 18,
    "start_time": "2025-04-15T20:34:32.336Z"
   },
   {
    "duration": 19,
    "start_time": "2025-04-15T20:34:34.469Z"
   },
   {
    "duration": 40,
    "start_time": "2025-04-15T20:34:36.748Z"
   },
   {
    "duration": 7,
    "start_time": "2025-04-15T20:34:37.747Z"
   },
   {
    "duration": 6,
    "start_time": "2025-04-15T20:34:37.929Z"
   },
   {
    "duration": 2033,
    "start_time": "2025-04-15T20:34:38.104Z"
   },
   {
    "duration": 12,
    "start_time": "2025-04-15T20:34:40.139Z"
   },
   {
    "duration": 28,
    "start_time": "2025-04-15T20:34:40.153Z"
   },
   {
    "duration": 0,
    "start_time": "2025-04-15T20:34:40.183Z"
   },
   {
    "duration": 0,
    "start_time": "2025-04-15T20:34:40.184Z"
   },
   {
    "duration": 0,
    "start_time": "2025-04-15T20:34:40.185Z"
   },
   {
    "duration": 0,
    "start_time": "2025-04-15T20:34:40.187Z"
   },
   {
    "duration": 0,
    "start_time": "2025-04-15T20:34:40.189Z"
   },
   {
    "duration": 12,
    "start_time": "2025-04-15T20:34:41.475Z"
   },
   {
    "duration": 19,
    "start_time": "2025-04-15T20:35:02.566Z"
   },
   {
    "duration": 10,
    "start_time": "2025-04-15T20:35:20.987Z"
   },
   {
    "duration": 13425,
    "start_time": "2025-04-15T20:35:23.013Z"
   },
   {
    "duration": 5,
    "start_time": "2025-04-15T20:35:38.852Z"
   },
   {
    "duration": 4,
    "start_time": "2025-04-15T20:35:39.512Z"
   },
   {
    "duration": 211,
    "start_time": "2025-04-15T20:35:40.271Z"
   },
   {
    "duration": 820,
    "start_time": "2025-04-15T20:35:40.737Z"
   },
   {
    "duration": 20,
    "start_time": "2025-04-15T20:35:43.780Z"
   },
   {
    "duration": 2737,
    "start_time": "2025-04-15T20:35:51.619Z"
   },
   {
    "duration": 4,
    "start_time": "2025-04-15T20:36:02.354Z"
   },
   {
    "duration": 2310,
    "start_time": "2025-04-15T20:36:04.935Z"
   },
   {
    "duration": 3,
    "start_time": "2025-04-15T20:36:07.991Z"
   },
   {
    "duration": 533,
    "start_time": "2025-04-15T20:36:08.683Z"
   },
   {
    "duration": 941,
    "start_time": "2025-04-15T20:36:18.609Z"
   },
   {
    "duration": 5,
    "start_time": "2025-04-15T20:36:43.328Z"
   },
   {
    "duration": 22,
    "start_time": "2025-04-15T20:36:53.335Z"
   },
   {
    "duration": 531,
    "start_time": "2025-04-15T20:36:56.806Z"
   },
   {
    "duration": 2674,
    "start_time": "2025-04-16T07:46:43.273Z"
   },
   {
    "duration": 86,
    "start_time": "2025-04-16T07:47:00.083Z"
   },
   {
    "duration": 53,
    "start_time": "2025-04-16T07:47:01.234Z"
   },
   {
    "duration": 13,
    "start_time": "2025-04-16T07:47:15.027Z"
   },
   {
    "duration": 2806,
    "start_time": "2025-04-16T08:04:13.966Z"
   },
   {
    "duration": 2702,
    "start_time": "2025-04-16T08:04:16.775Z"
   },
   {
    "duration": 6,
    "start_time": "2025-04-16T08:04:19.479Z"
   },
   {
    "duration": 113,
    "start_time": "2025-04-16T08:04:19.487Z"
   },
   {
    "duration": 46,
    "start_time": "2025-04-16T08:04:21.309Z"
   },
   {
    "duration": 11,
    "start_time": "2025-04-16T08:04:24.277Z"
   },
   {
    "duration": 8,
    "start_time": "2025-04-16T08:04:25.338Z"
   },
   {
    "duration": 18,
    "start_time": "2025-04-16T08:04:26.294Z"
   },
   {
    "duration": 25,
    "start_time": "2025-04-16T08:04:26.617Z"
   },
   {
    "duration": 16,
    "start_time": "2025-04-16T08:04:27.011Z"
   },
   {
    "duration": 14,
    "start_time": "2025-04-16T08:04:27.573Z"
   },
   {
    "duration": 5,
    "start_time": "2025-04-16T08:04:27.963Z"
   },
   {
    "duration": 10,
    "start_time": "2025-04-16T08:04:31.373Z"
   },
   {
    "duration": 3412,
    "start_time": "2025-04-16T08:04:32.167Z"
   },
   {
    "duration": 3020,
    "start_time": "2025-04-16T08:04:35.582Z"
   },
   {
    "duration": 1406,
    "start_time": "2025-04-16T08:04:38.603Z"
   },
   {
    "duration": 1248,
    "start_time": "2025-04-16T08:04:40.011Z"
   },
   {
    "duration": 29,
    "start_time": "2025-04-16T08:04:41.260Z"
   },
   {
    "duration": 12,
    "start_time": "2025-04-16T08:04:47.410Z"
   },
   {
    "duration": 10,
    "start_time": "2025-04-16T08:04:47.546Z"
   },
   {
    "duration": 13,
    "start_time": "2025-04-16T08:04:47.688Z"
   },
   {
    "duration": 12,
    "start_time": "2025-04-16T08:04:47.841Z"
   },
   {
    "duration": 26,
    "start_time": "2025-04-16T08:04:48.011Z"
   },
   {
    "duration": 6,
    "start_time": "2025-04-16T08:04:50.505Z"
   },
   {
    "duration": 6,
    "start_time": "2025-04-16T08:04:51.086Z"
   },
   {
    "duration": 1958,
    "start_time": "2025-04-16T08:04:51.673Z"
   },
   {
    "duration": 12,
    "start_time": "2025-04-16T08:04:56.972Z"
   },
   {
    "duration": 8,
    "start_time": "2025-04-16T08:04:57.146Z"
   },
   {
    "duration": 5,
    "start_time": "2025-04-16T08:04:59.202Z"
   },
   {
    "duration": 27,
    "start_time": "2025-04-16T08:04:59.685Z"
   },
   {
    "duration": 13982,
    "start_time": "2025-04-16T08:05:11.273Z"
   },
   {
    "duration": 5,
    "start_time": "2025-04-16T08:05:31.457Z"
   },
   {
    "duration": 3,
    "start_time": "2025-04-16T08:05:32.476Z"
   },
   {
    "duration": 213,
    "start_time": "2025-04-16T08:05:33.233Z"
   },
   {
    "duration": 908,
    "start_time": "2025-04-16T08:05:34.088Z"
   },
   {
    "duration": 172,
    "start_time": "2025-04-16T08:06:16.913Z"
   },
   {
    "duration": 5031,
    "start_time": "2025-04-16T08:12:19.973Z"
   },
   {
    "duration": 33,
    "start_time": "2025-04-16T08:12:29.454Z"
   },
   {
    "duration": 6587,
    "start_time": "2025-04-16T08:12:36.578Z"
   },
   {
    "duration": 81150,
    "start_time": "2025-04-16T08:12:50.999Z"
   },
   {
    "duration": 33,
    "start_time": "2025-04-16T08:17:01.356Z"
   },
   {
    "duration": 62,
    "start_time": "2025-04-16T08:17:02.554Z"
   },
   {
    "duration": 18,
    "start_time": "2025-04-16T08:17:03.719Z"
   },
   {
    "duration": 5,
    "start_time": "2025-04-16T08:17:20.682Z"
   },
   {
    "duration": 645,
    "start_time": "2025-04-16T08:17:27.510Z"
   },
   {
    "duration": 7,
    "start_time": "2025-04-16T08:17:31.212Z"
   },
   {
    "duration": 50,
    "start_time": "2025-04-16T08:17:47.343Z"
   },
   {
    "duration": 61283,
    "start_time": "2025-04-16T08:18:34.881Z"
   },
   {
    "duration": 7,
    "start_time": "2025-04-16T08:19:36.166Z"
   },
   {
    "duration": 535,
    "start_time": "2025-04-16T08:20:29.494Z"
   },
   {
    "duration": 375,
    "start_time": "2025-04-16T08:20:31.890Z"
   },
   {
    "duration": 547,
    "start_time": "2025-04-16T08:21:01.290Z"
   },
   {
    "duration": 383,
    "start_time": "2025-04-16T08:21:06.909Z"
   },
   {
    "duration": 26,
    "start_time": "2025-04-16T08:21:18.496Z"
   },
   {
    "duration": 337,
    "start_time": "2025-04-16T08:21:21.059Z"
   },
   {
    "duration": 4,
    "start_time": "2025-04-16T08:21:35.977Z"
   },
   {
    "duration": 5,
    "start_time": "2025-04-16T08:28:10.956Z"
   },
   {
    "duration": 3036,
    "start_time": "2025-04-16T09:18:51.833Z"
   },
   {
    "duration": 2868,
    "start_time": "2025-04-16T09:18:54.871Z"
   },
   {
    "duration": 2068,
    "start_time": "2025-04-16T09:18:57.741Z"
   },
   {
    "duration": 93,
    "start_time": "2025-04-16T09:18:59.811Z"
   },
   {
    "duration": 42,
    "start_time": "2025-04-16T09:18:59.906Z"
   },
   {
    "duration": 12,
    "start_time": "2025-04-16T09:18:59.950Z"
   },
   {
    "duration": 9,
    "start_time": "2025-04-16T09:18:59.964Z"
   },
   {
    "duration": 21,
    "start_time": "2025-04-16T09:18:59.974Z"
   },
   {
    "duration": 49,
    "start_time": "2025-04-16T09:18:59.997Z"
   },
   {
    "duration": 45,
    "start_time": "2025-04-16T09:19:00.049Z"
   },
   {
    "duration": 49,
    "start_time": "2025-04-16T09:19:00.095Z"
   },
   {
    "duration": 14,
    "start_time": "2025-04-16T09:19:00.146Z"
   },
   {
    "duration": 12,
    "start_time": "2025-04-16T09:19:00.162Z"
   },
   {
    "duration": 3155,
    "start_time": "2025-04-16T09:19:00.175Z"
   },
   {
    "duration": 2899,
    "start_time": "2025-04-16T09:19:03.331Z"
   },
   {
    "duration": 1150,
    "start_time": "2025-04-16T09:19:06.232Z"
   },
   {
    "duration": 1365,
    "start_time": "2025-04-16T09:19:07.383Z"
   },
   {
    "duration": 28,
    "start_time": "2025-04-16T09:19:08.750Z"
   },
   {
    "duration": 40,
    "start_time": "2025-04-16T09:19:08.780Z"
   },
   {
    "duration": 19,
    "start_time": "2025-04-16T09:19:08.822Z"
   },
   {
    "duration": 40,
    "start_time": "2025-04-16T09:19:08.843Z"
   },
   {
    "duration": 38,
    "start_time": "2025-04-16T09:19:08.885Z"
   },
   {
    "duration": 59,
    "start_time": "2025-04-16T09:19:08.925Z"
   },
   {
    "duration": 119,
    "start_time": "2025-04-16T09:19:08.986Z"
   },
   {
    "duration": 23,
    "start_time": "2025-04-16T09:19:09.107Z"
   },
   {
    "duration": 2247,
    "start_time": "2025-04-16T09:19:09.132Z"
   },
   {
    "duration": 14,
    "start_time": "2025-04-16T09:19:11.381Z"
   },
   {
    "duration": 17,
    "start_time": "2025-04-16T09:19:11.399Z"
   },
   {
    "duration": 23,
    "start_time": "2025-04-16T09:19:11.418Z"
   },
   {
    "duration": 28,
    "start_time": "2025-04-16T09:19:11.443Z"
   },
   {
    "duration": 13607,
    "start_time": "2025-04-16T09:19:11.473Z"
   },
   {
    "duration": 6,
    "start_time": "2025-04-16T09:19:25.082Z"
   },
   {
    "duration": 17,
    "start_time": "2025-04-16T09:19:25.090Z"
   },
   {
    "duration": 258,
    "start_time": "2025-04-16T09:19:25.108Z"
   },
   {
    "duration": 840,
    "start_time": "2025-04-16T09:19:25.367Z"
   },
   {
    "duration": 70363,
    "start_time": "2025-04-16T09:19:26.209Z"
   },
   {
    "duration": 31,
    "start_time": "2025-04-16T09:20:36.574Z"
   },
   {
    "duration": 63,
    "start_time": "2025-04-16T09:20:36.607Z"
   },
   {
    "duration": 515,
    "start_time": "2025-04-16T09:20:36.672Z"
   },
   {
    "duration": 8,
    "start_time": "2025-04-16T09:20:37.189Z"
   },
   {
    "duration": 511,
    "start_time": "2025-04-16T09:20:37.200Z"
   },
   {
    "duration": 382,
    "start_time": "2025-04-16T09:20:37.712Z"
   },
   {
    "duration": 43,
    "start_time": "2025-04-16T09:20:38.095Z"
   },
   {
    "duration": 419,
    "start_time": "2025-04-16T09:20:38.140Z"
   },
   {
    "duration": 5,
    "start_time": "2025-04-16T09:20:38.561Z"
   },
   {
    "duration": 18,
    "start_time": "2025-04-16T09:20:38.568Z"
   },
   {
    "duration": 3785,
    "start_time": "2025-04-18T04:50:18.792Z"
   },
   {
    "duration": 4598,
    "start_time": "2025-04-18T04:50:25.391Z"
   },
   {
    "duration": 2365,
    "start_time": "2025-04-18T04:55:14.303Z"
   },
   {
    "duration": 76,
    "start_time": "2025-04-18T04:55:16.670Z"
   },
   {
    "duration": 42,
    "start_time": "2025-04-18T04:55:16.748Z"
   },
   {
    "duration": 19,
    "start_time": "2025-04-18T04:55:16.792Z"
   },
   {
    "duration": 6,
    "start_time": "2025-04-18T04:55:17.246Z"
   },
   {
    "duration": 18,
    "start_time": "2025-04-18T04:55:17.851Z"
   },
   {
    "duration": 36,
    "start_time": "2025-04-18T04:55:18.188Z"
   },
   {
    "duration": 21,
    "start_time": "2025-04-18T04:55:18.507Z"
   },
   {
    "duration": 14,
    "start_time": "2025-04-18T04:55:19.032Z"
   },
   {
    "duration": 6,
    "start_time": "2025-04-18T04:55:19.490Z"
   },
   {
    "duration": 11,
    "start_time": "2025-04-18T04:55:21.947Z"
   },
   {
    "duration": 180,
    "start_time": "2025-04-18T04:55:28.799Z"
   },
   {
    "duration": 11,
    "start_time": "2025-04-18T04:55:46.064Z"
   },
   {
    "duration": 3324,
    "start_time": "2025-04-18T04:55:48.049Z"
   },
   {
    "duration": 12,
    "start_time": "2025-04-18T04:56:22.919Z"
   },
   {
    "duration": 3335,
    "start_time": "2025-04-18T04:56:23.042Z"
   },
   {
    "duration": 3409,
    "start_time": "2025-04-18T04:59:41.105Z"
   },
   {
    "duration": 11,
    "start_time": "2025-04-18T04:59:57.740Z"
   },
   {
    "duration": 3412,
    "start_time": "2025-04-18T05:00:06.763Z"
   },
   {
    "duration": 11,
    "start_time": "2025-04-18T05:00:28.481Z"
   },
   {
    "duration": 3720,
    "start_time": "2025-04-18T05:00:33.479Z"
   },
   {
    "duration": 10,
    "start_time": "2025-04-18T05:01:09.708Z"
   },
   {
    "duration": 3518,
    "start_time": "2025-04-18T05:01:36.300Z"
   },
   {
    "duration": 12,
    "start_time": "2025-04-18T05:05:14.802Z"
   },
   {
    "duration": 11,
    "start_time": "2025-04-18T05:06:45.695Z"
   },
   {
    "duration": 3171,
    "start_time": "2025-04-18T05:06:56.308Z"
   },
   {
    "duration": 22,
    "start_time": "2025-04-18T05:08:01.185Z"
   },
   {
    "duration": 17,
    "start_time": "2025-04-18T05:08:07.960Z"
   },
   {
    "duration": 3225,
    "start_time": "2025-04-18T05:08:11.025Z"
   },
   {
    "duration": 80,
    "start_time": "2025-04-18T05:11:48.362Z"
   },
   {
    "duration": 772,
    "start_time": "2025-04-18T05:12:23.800Z"
   },
   {
    "duration": 800,
    "start_time": "2025-04-18T05:12:26.474Z"
   },
   {
    "duration": 16,
    "start_time": "2025-04-18T05:13:38.274Z"
   },
   {
    "duration": 4461,
    "start_time": "2025-04-18T05:13:44.989Z"
   },
   {
    "duration": 15,
    "start_time": "2025-04-18T05:17:47.198Z"
   },
   {
    "duration": 4529,
    "start_time": "2025-04-18T05:20:11.459Z"
   },
   {
    "duration": 4566,
    "start_time": "2025-04-18T05:22:39.889Z"
   },
   {
    "duration": 65,
    "start_time": "2025-04-18T05:23:17.744Z"
   },
   {
    "duration": 11,
    "start_time": "2025-04-18T05:24:05.396Z"
   },
   {
    "duration": 932,
    "start_time": "2025-04-18T05:24:11.985Z"
   },
   {
    "duration": 14,
    "start_time": "2025-04-18T05:24:29.730Z"
   },
   {
    "duration": 13,
    "start_time": "2025-04-18T05:24:46.664Z"
   },
   {
    "duration": 2672,
    "start_time": "2025-04-18T05:24:50.891Z"
   },
   {
    "duration": 3777,
    "start_time": "2025-04-18T05:25:13.394Z"
   },
   {
    "duration": 12,
    "start_time": "2025-04-18T05:27:02.314Z"
   },
   {
    "duration": 3784,
    "start_time": "2025-04-18T05:27:07.903Z"
   },
   {
    "duration": 347,
    "start_time": "2025-04-18T05:27:59.065Z"
   },
   {
    "duration": 12,
    "start_time": "2025-04-18T05:30:03.450Z"
   },
   {
    "duration": 58,
    "start_time": "2025-04-18T05:30:07.025Z"
   },
   {
    "duration": 20,
    "start_time": "2025-04-18T05:30:36.597Z"
   },
   {
    "duration": 3810,
    "start_time": "2025-04-18T05:30:40.352Z"
   },
   {
    "duration": 2988,
    "start_time": "2025-04-18T05:30:57.230Z"
   },
   {
    "duration": 2136,
    "start_time": "2025-04-18T05:31:12.400Z"
   },
   {
    "duration": 467,
    "start_time": "2025-04-18T05:31:29.285Z"
   },
   {
    "duration": 248,
    "start_time": "2025-04-18T05:33:24.537Z"
   },
   {
    "duration": 1110,
    "start_time": "2025-04-18T05:33:26.684Z"
   },
   {
    "duration": 5,
    "start_time": "2025-04-18T05:34:00.294Z"
   },
   {
    "duration": 22,
    "start_time": "2025-04-18T05:34:48.846Z"
   },
   {
    "duration": 1190,
    "start_time": "2025-04-18T05:34:49.029Z"
   },
   {
    "duration": 13,
    "start_time": "2025-04-18T05:35:20.285Z"
   },
   {
    "duration": 1185,
    "start_time": "2025-04-18T05:35:21.905Z"
   },
   {
    "duration": 12,
    "start_time": "2025-04-18T05:35:42.049Z"
   },
   {
    "duration": 4,
    "start_time": "2025-04-18T05:35:50.902Z"
   },
   {
    "duration": 12,
    "start_time": "2025-04-18T05:36:12.729Z"
   },
   {
    "duration": 1030,
    "start_time": "2025-04-18T05:36:19.377Z"
   },
   {
    "duration": 59,
    "start_time": "2025-04-18T05:36:34.704Z"
   },
   {
    "duration": 12,
    "start_time": "2025-04-18T05:36:42.350Z"
   },
   {
    "duration": 3993,
    "start_time": "2025-04-18T05:36:45.374Z"
   },
   {
    "duration": 420,
    "start_time": "2025-04-18T05:37:14.224Z"
   },
   {
    "duration": 57,
    "start_time": "2025-04-18T05:38:05.163Z"
   },
   {
    "duration": 424,
    "start_time": "2025-04-18T05:38:17.727Z"
   },
   {
    "duration": 5,
    "start_time": "2025-04-18T06:21:40.072Z"
   },
   {
    "duration": 5,
    "start_time": "2025-04-18T06:21:46.138Z"
   },
   {
    "duration": 5,
    "start_time": "2025-04-18T06:21:51.246Z"
   },
   {
    "duration": 57,
    "start_time": "2025-04-18T06:36:11.736Z"
   },
   {
    "duration": 60,
    "start_time": "2025-04-18T06:44:24.136Z"
   },
   {
    "duration": 18,
    "start_time": "2025-04-18T06:44:29.995Z"
   },
   {
    "duration": 13,
    "start_time": "2025-04-18T06:44:40.225Z"
   },
   {
    "duration": 17,
    "start_time": "2025-04-18T06:44:40.399Z"
   },
   {
    "duration": 22,
    "start_time": "2025-04-18T06:44:40.596Z"
   },
   {
    "duration": 14,
    "start_time": "2025-04-18T06:44:41.717Z"
   },
   {
    "duration": 27,
    "start_time": "2025-04-18T06:44:41.927Z"
   },
   {
    "duration": 6,
    "start_time": "2025-04-18T06:44:42.740Z"
   },
   {
    "duration": 6,
    "start_time": "2025-04-18T06:44:42.978Z"
   },
   {
    "duration": 14,
    "start_time": "2025-04-18T06:44:49.582Z"
   },
   {
    "duration": 14,
    "start_time": "2025-04-18T06:45:55.429Z"
   },
   {
    "duration": 71,
    "start_time": "2025-04-18T06:46:02.539Z"
   },
   {
    "duration": 13,
    "start_time": "2025-04-18T06:46:20.032Z"
   },
   {
    "duration": 2324,
    "start_time": "2025-04-18T06:56:08.235Z"
   },
   {
    "duration": 2382,
    "start_time": "2025-04-18T06:57:21.667Z"
   },
   {
    "duration": 7,
    "start_time": "2025-04-18T06:58:19.584Z"
   },
   {
    "duration": 6,
    "start_time": "2025-04-18T06:59:07.989Z"
   },
   {
    "duration": 14,
    "start_time": "2025-04-18T06:59:20.037Z"
   },
   {
    "duration": 15,
    "start_time": "2025-04-18T07:00:25.457Z"
   },
   {
    "duration": 7,
    "start_time": "2025-04-18T07:05:43.981Z"
   },
   {
    "duration": 11,
    "start_time": "2025-04-18T07:06:38.227Z"
   },
   {
    "duration": 1215,
    "start_time": "2025-04-18T07:11:27.664Z"
   }
  ],
  "colab": {
   "provenance": []
  },
  "kernelspec": {
   "display_name": "Python 3 (ipykernel)",
   "language": "python",
   "name": "python3"
  },
  "language_info": {
   "codemirror_mode": {
    "name": "ipython",
    "version": 3
   },
   "file_extension": ".py",
   "mimetype": "text/x-python",
   "name": "python",
   "nbconvert_exporter": "python",
   "pygments_lexer": "ipython3",
   "version": "3.9.5"
  },
  "toc": {
   "base_numbering": 1,
   "nav_menu": {},
   "number_sections": true,
   "sideBar": true,
   "skip_h1_title": true,
   "title_cell": "Table of Contents",
   "title_sidebar": "Contents",
   "toc_cell": false,
   "toc_position": {},
   "toc_section_display": true,
   "toc_window_display": false
  }
 },
 "nbformat": 4,
 "nbformat_minor": 1
}
